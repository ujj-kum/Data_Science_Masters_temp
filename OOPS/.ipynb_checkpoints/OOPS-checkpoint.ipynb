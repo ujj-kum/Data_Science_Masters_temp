{
 "cells": [
  {
   "cell_type": "code",
   "execution_count": 1,
   "id": "3f597aae-67c4-4228-82e9-308a0bf3769c",
   "metadata": {},
   "outputs": [
    {
     "name": "stdout",
     "output_type": "stream",
     "text": [
      "<class 'int'>\n"
     ]
    }
   ],
   "source": [
    "a = 1\n",
    "print(type(a))"
   ]
  },
  {
   "cell_type": "code",
   "execution_count": 2,
   "id": "77546adc-b2ec-4217-ab34-b12014a39622",
   "metadata": {},
   "outputs": [
    {
     "name": "stdout",
     "output_type": "stream",
     "text": [
      "<class 'str'>\n"
     ]
    }
   ],
   "source": [
    "a = \"Hello\"\n",
    "print(type(a))"
   ]
  },
  {
   "cell_type": "markdown",
   "id": "124e852f-2141-4a21-a82b-91ddb0a45d35",
   "metadata": {},
   "source": [
    "# Class\n"
   ]
  },
  {
   "cell_type": "code",
   "execution_count": 3,
   "id": "3e575fcb-536c-4f44-b760-63e1d1874129",
   "metadata": {},
   "outputs": [],
   "source": [
    "class test:\n",
    "    pass"
   ]
  },
  {
   "cell_type": "code",
   "execution_count": 4,
   "id": "e446ec3f-1043-451a-8a07-7efa282c01dd",
   "metadata": {},
   "outputs": [
    {
     "name": "stdout",
     "output_type": "stream",
     "text": [
      "<class '__main__.test'>\n"
     ]
    }
   ],
   "source": [
    "a = test()\n",
    "print(type(a))"
   ]
  },
  {
   "cell_type": "code",
   "execution_count": 5,
   "id": "9e5472b9-ac13-4220-97b3-6546d610017b",
   "metadata": {},
   "outputs": [],
   "source": [
    "class pwskills:\n",
    "    def __init__(self, phone_number, email_id, student_id):\n",
    "        self.phone_number = phone_number\n",
    "        self.email_id = email_id\n",
    "        self.student_id = student_id\n",
    "        \n",
    "    def return_student_details(self):\n",
    "        return self.phone_number, self.email_id, self.student_id\n",
    "    \n",
    "    def welcome_msg():\n",
    "        print(\"This is printed without any class objest\")\n",
    "        \n",
    "    def welcome_msg_with_obj(self):\n",
    "        print(\"This is printed with class object\")"
   ]
  },
  {
   "cell_type": "code",
   "execution_count": 6,
   "id": "111bb870-f1e3-46d2-9e78-c216628b13c9",
   "metadata": {},
   "outputs": [
    {
     "name": "stdout",
     "output_type": "stream",
     "text": [
      "This is printed without any class objest\n"
     ]
    }
   ],
   "source": [
    "pwskills.welcome_msg()"
   ]
  },
  {
   "cell_type": "code",
   "execution_count": 7,
   "id": "22df9032-4aab-48f7-a6a7-d83ca1a0f6f6",
   "metadata": {},
   "outputs": [
    {
     "name": "stdout",
     "output_type": "stream",
     "text": [
      "This is printed with class object\n"
     ]
    }
   ],
   "source": [
    "rohan = pwskills(1, 'a@b.com', 123)\n",
    "rohan.welcome_msg_with_obj()"
   ]
  },
  {
   "cell_type": "code",
   "execution_count": 8,
   "id": "6187e436-79bb-4055-aed7-da94db52458d",
   "metadata": {},
   "outputs": [
    {
     "data": {
      "text/plain": [
       "'a@b.com'"
      ]
     },
     "execution_count": 8,
     "metadata": {},
     "output_type": "execute_result"
    }
   ],
   "source": [
    "rohan.email_id"
   ]
  },
  {
   "cell_type": "code",
   "execution_count": 9,
   "id": "b6ba3ee3-68c2-4054-a524-2554ed2da31c",
   "metadata": {},
   "outputs": [
    {
     "data": {
      "text/plain": [
       "(1, 'a@b.com', 123)"
      ]
     },
     "execution_count": 9,
     "metadata": {},
     "output_type": "execute_result"
    }
   ],
   "source": [
    "rohan.return_student_details()"
   ]
  },
  {
   "cell_type": "markdown",
   "id": "e4cfd661-43a6-40c2-acad-7d74e329a410",
   "metadata": {},
   "source": [
    "# Polymorphism\n",
    "- Same function passes different output based on the type of argument passed"
   ]
  },
  {
   "cell_type": "code",
   "execution_count": 10,
   "id": "bc64cd61-47b1-4df8-9aea-b9282bd94391",
   "metadata": {},
   "outputs": [],
   "source": [
    "def test(a, b):\n",
    "    return a+b"
   ]
  },
  {
   "cell_type": "code",
   "execution_count": 11,
   "id": "515f3bde-685e-4f9d-9567-7eb8e2d383d1",
   "metadata": {},
   "outputs": [
    {
     "data": {
      "text/plain": [
       "3"
      ]
     },
     "execution_count": 11,
     "metadata": {},
     "output_type": "execute_result"
    }
   ],
   "source": [
    "test(1, 2)"
   ]
  },
  {
   "cell_type": "code",
   "execution_count": 12,
   "id": "e6619c2e-f739-4846-a37d-c159abb2b7da",
   "metadata": {},
   "outputs": [
    {
     "data": {
      "text/plain": [
       "'HelloWorld'"
      ]
     },
     "execution_count": 12,
     "metadata": {},
     "output_type": "execute_result"
    }
   ],
   "source": [
    "test(\"Hello\", \"World\")"
   ]
  },
  {
   "cell_type": "code",
   "execution_count": 13,
   "id": "e1caf7a9-977e-40a3-8410-880fe98b2c39",
   "metadata": {},
   "outputs": [],
   "source": [
    "class data_science:\n",
    "    def syllabus(self):\n",
    "        print(\"For Data Science\")\n",
    "\n",
    "obj_ds = data_science()\n",
    "\n",
    "\n",
    "class web_dev:\n",
    "    def syllabus(self):\n",
    "        print(\"For Web Dev\")\n",
    "        \n",
    "obj_webd = web_dev()"
   ]
  },
  {
   "cell_type": "code",
   "execution_count": 14,
   "id": "9325b5cc-9e2f-4d7f-8935-dbefa6a8388a",
   "metadata": {},
   "outputs": [
    {
     "name": "stdout",
     "output_type": "stream",
     "text": [
      "For Data Science\n",
      "For Web Dev\n"
     ]
    }
   ],
   "source": [
    "def class_parser(class_obj):\n",
    "    for i in class_obj:\n",
    "        i.syllabus()\n",
    "        \n",
    "class_parser([obj_ds, obj_webd]) "
   ]
  },
  {
   "cell_type": "markdown",
   "id": "9ed5699c-3528-4af9-aca9-2cd0bbcc210c",
   "metadata": {},
   "source": [
    "# Encapsulation\n",
    "- Binds class and its methods together and restricts unauthorized access of class variables\n",
    "- self._varName  -> Protected\n",
    "- self.__varName -> Private"
   ]
  },
  {
   "cell_type": "code",
   "execution_count": 15,
   "id": "1fece876-973c-4c51-85ab-b261546a4f10",
   "metadata": {},
   "outputs": [],
   "source": [
    "class test:\n",
    "    def __init__(self, a, b):\n",
    "        self.__a = a#Private value\n",
    "        self.__b = b#Private value"
   ]
  },
  {
   "cell_type": "markdown",
   "id": "11b6c365-4a69-4e59-97ae-fe3f84509202",
   "metadata": {},
   "source": [
    "### Direct call of private values will give error"
   ]
  },
  {
   "cell_type": "code",
   "execution_count": 16,
   "id": "c3891464-458d-45aa-96ac-8f37dc1397a6",
   "metadata": {},
   "outputs": [
    {
     "ename": "AttributeError",
     "evalue": "'test' object has no attribute '__a'",
     "output_type": "error",
     "traceback": [
      "\u001b[0;31m---------------------------------------------------------------------------\u001b[0m",
      "\u001b[0;31mAttributeError\u001b[0m                            Traceback (most recent call last)",
      "Cell \u001b[0;32mIn[16], line 2\u001b[0m\n\u001b[1;32m      1\u001b[0m obj_test \u001b[38;5;241m=\u001b[39m test(\u001b[38;5;241m1\u001b[39m, \u001b[38;5;241m2\u001b[39m)\n\u001b[0;32m----> 2\u001b[0m \u001b[43mobj_test\u001b[49m\u001b[38;5;241;43m.\u001b[39;49m\u001b[43m__a\u001b[49m, obj_test\u001b[38;5;241m.\u001b[39m__b\n",
      "\u001b[0;31mAttributeError\u001b[0m: 'test' object has no attribute '__a'"
     ]
    }
   ],
   "source": [
    "obj_test = test(1, 2)\n",
    "obj_test.__a, obj_test.__b"
   ]
  },
  {
   "cell_type": "markdown",
   "id": "deb3ae87-7859-4534-963a-62e9a1ddbc4d",
   "metadata": {},
   "source": [
    "### Do not access private variables directly but can be accessd using\n",
    "\n",
    "**var_name._className__varName**"
   ]
  },
  {
   "cell_type": "code",
   "execution_count": null,
   "id": "9934824e-ff3e-41aa-be14-14d7af588c60",
   "metadata": {},
   "outputs": [],
   "source": [
    "obj_test._test__a, obj_test._test__b"
   ]
  },
  {
   "cell_type": "code",
   "execution_count": null,
   "id": "c2fd0e71-fcf1-4454-8f50-9d72a1b67391",
   "metadata": {},
   "outputs": [],
   "source": [
    "class car:\n",
    "    def __init__(self, year, make, model, speed):\n",
    "        self.__year = year\n",
    "        self.__make = make\n",
    "        self.__model = model\n",
    "        self.__speed = 0\n",
    "        \n",
    "    def set_speed(self, speed):\n",
    "        self.__speed = 0 if speed<0 else speed\n",
    "    \n",
    "    def get_speed(self):\n",
    "        return self.__speed"
   ]
  },
  {
   "cell_type": "code",
   "execution_count": null,
   "id": "74c01bd3-d032-4f77-9377-fe0e8ad213e1",
   "metadata": {},
   "outputs": [],
   "source": [
    "obj_car = car(2021, 'Toyata', \"Innova\", 12)\n",
    "\n",
    "obj_car.set_speed(100)\n",
    "obj_car.get_speed()"
   ]
  },
  {
   "cell_type": "markdown",
   "id": "6a9e6bb9-dce7-4a91-afc4-d3b5215b3fcd",
   "metadata": {},
   "source": [
    "# Inheritance"
   ]
  },
  {
   "cell_type": "code",
   "execution_count": null,
   "id": "a96daf78-4b74-4575-93c2-c63c24804704",
   "metadata": {},
   "outputs": [],
   "source": [
    "class parent:\n",
    "    def test_parent(self):\n",
    "        print(\"This is parent class\")\n",
    "\n",
    "class child(parent):\n",
    "    pass\n",
    "\n",
    "child_obj = child()\n",
    "child_obj.test_parent()"
   ]
  },
  {
   "cell_type": "markdown",
   "id": "7f3af855-baae-4098-bb6d-bd4486fed421",
   "metadata": {},
   "source": [
    "### MultiLevel Inheritance"
   ]
  },
  {
   "cell_type": "code",
   "execution_count": null,
   "id": "e2bd5fb3-b992-45ac-bb07-8479410fedb9",
   "metadata": {},
   "outputs": [],
   "source": [
    "class class1:\n",
    "    def test_class1(self):\n",
    "        print(\"This is class1\")\n",
    "\n",
    "class class2(class1):\n",
    "    def test_class2(self):\n",
    "        print(\"This is class2\")\n",
    "        \n",
    "class class3(class2):\n",
    "    def test_class3(self):\n",
    "        print(\"This is class3\")"
   ]
  },
  {
   "cell_type": "code",
   "execution_count": null,
   "id": "94330d57-59c2-47e0-97aa-617b4f2ec9c4",
   "metadata": {},
   "outputs": [],
   "source": [
    "obj_class3 = class3()"
   ]
  },
  {
   "cell_type": "code",
   "execution_count": null,
   "id": "eba6f58d-4634-480e-b7ef-e5178b41368a",
   "metadata": {},
   "outputs": [],
   "source": [
    "obj_class3.test_class1()"
   ]
  },
  {
   "cell_type": "code",
   "execution_count": null,
   "id": "5025a5b1-444c-4a3d-a880-dffe498d38ea",
   "metadata": {},
   "outputs": [],
   "source": [
    "obj_class3.test_class2()"
   ]
  },
  {
   "cell_type": "code",
   "execution_count": null,
   "id": "bece0c76-27b1-4d1e-9376-4a5f00e2441f",
   "metadata": {},
   "outputs": [],
   "source": [
    "obj_class3.test_class3()"
   ]
  },
  {
   "cell_type": "markdown",
   "id": "ff9b6f76-337c-4356-9de6-d12f966edccd",
   "metadata": {},
   "source": [
    "### Multiple Inheritance"
   ]
  },
  {
   "cell_type": "code",
   "execution_count": null,
   "id": "235e15b7-95fa-4fdd-8880-3979808dff54",
   "metadata": {},
   "outputs": [],
   "source": [
    "class class1:\n",
    "    def test_class1(self):\n",
    "        print(\"This is class1\")\n",
    "\n",
    "class class2:\n",
    "    def test_class2(self):\n",
    "        print(\"This is class2\")\n",
    "        \n",
    "class class3(class1, class2):\n",
    "    def test_class3(self):\n",
    "        print(\"This is class3\")"
   ]
  },
  {
   "cell_type": "code",
   "execution_count": null,
   "id": "e9581aae-10db-4d49-98a8-d0a7faf9ca98",
   "metadata": {},
   "outputs": [],
   "source": [
    "obj_class3 = class3()\n",
    "obj_class3.test_class1()\n",
    "obj_class3.test_class2()\n",
    "obj_class3.test_class3()"
   ]
  },
  {
   "cell_type": "markdown",
   "id": "a5578a7b-1897-46a2-a7eb-12f9dca3d2d7",
   "metadata": {},
   "source": [
    "# Abstraction"
   ]
  },
  {
   "cell_type": "code",
   "execution_count": null,
   "id": "1a500db7-09ce-455c-b80a-647365a24dc5",
   "metadata": {},
   "outputs": [],
   "source": [
    "import abc\n",
    "\n",
    "class pwskills:\n",
    "    @abc.abstractmethod\n",
    "    def student_details(self):\n",
    "        pass\n",
    "    \n",
    "    @abc.abstractmethod\n",
    "    def student_assignment(self):\n",
    "        pass\n",
    "    \n",
    "    @abc.abstractmethod\n",
    "    def student_marks(self):\n",
    "        pass"
   ]
  },
  {
   "cell_type": "code",
   "execution_count": null,
   "id": "01851faf-66be-4c16-97c8-ee5611a204f5",
   "metadata": {},
   "outputs": [],
   "source": [
    "class data_science(pwskills):\n",
    "    def student_details(self):\n",
    "        return \"It will return details of Data Science Masters\"\n",
    "    \n",
    "    def student_assignment(self):\n",
    "        return \"It will return details of student assignments for Data Science\"\n",
    "    \n",
    "    "
   ]
  },
  {
   "cell_type": "code",
   "execution_count": null,
   "id": "da2a68cb-e487-40ec-918a-953fa85af3ab",
   "metadata": {},
   "outputs": [],
   "source": [
    "class web_dev(pwskills):\n",
    "    def student_details(self):\n",
    "        return \"It will return details of Web Dev\"\n",
    "    \n",
    "    def student_marks(self):\n",
    "        return \"It will return marks of Web Dev class\""
   ]
  },
  {
   "cell_type": "code",
   "execution_count": null,
   "id": "b072be7c-8b6a-4b13-9e03-b749ccced5ad",
   "metadata": {},
   "outputs": [],
   "source": [
    "ds = data_science()\n",
    "ds.student_details()"
   ]
  },
  {
   "cell_type": "code",
   "execution_count": null,
   "id": "195b40cd-bd7a-4192-b145-83b200c4b356",
   "metadata": {},
   "outputs": [],
   "source": [
    "wd = web_dev()\n",
    "wd.student_marks()"
   ]
  },
  {
   "cell_type": "markdown",
   "id": "5bf7eccb-460b-4bca-b4fb-1a6a73e6972a",
   "metadata": {},
   "source": [
    "# Decorators"
   ]
  },
  {
   "cell_type": "code",
   "execution_count": null,
   "id": "12c8feea-9855-4440-b773-a3829dccd7f5",
   "metadata": {},
   "outputs": [],
   "source": [
    "def fun_name(func):\n",
    "    def inner_deco():\n",
    "        print(\"Start of the function\")\n",
    "        func()\n",
    "        print(\"End of the function\")\n",
    "    return inner_deco"
   ]
  },
  {
   "cell_type": "code",
   "execution_count": null,
   "id": "7a37c8ff-eebc-4ab0-a425-95fcb4ef11ab",
   "metadata": {},
   "outputs": [],
   "source": [
    "@fun_name\n",
    "def func():\n",
    "    print(\"1st Function\")\n",
    "    print(1+2)\n",
    "\n",
    "@fun_name\n",
    "def func1():\n",
    "    print(\"2nd Function\")"
   ]
  },
  {
   "cell_type": "code",
   "execution_count": null,
   "id": "ea3d7976-6260-486e-a7f2-efa9cf58801c",
   "metadata": {},
   "outputs": [],
   "source": [
    "func()"
   ]
  },
  {
   "cell_type": "code",
   "execution_count": null,
   "id": "075ad9e4-1144-4bab-bf4c-3d1597c839e9",
   "metadata": {},
   "outputs": [],
   "source": [
    "def my_decorator(arg1, arg2):\n",
    "    def inner_decorator(func):\n",
    "        def wrapper(*args, **kwargs):\n",
    "            print(f\"Decorator arguments: {arg1}, {arg2}\")\n",
    "            result = func(*args, **kwargs)\n",
    "            return result\n",
    "        return wrapper\n",
    "    return inner_decorator\n",
    "\n",
    "@my_decorator(\"Hello\", \"World\")\n",
    "def my_function():\n",
    "    print(\"Inside my_function\")\n",
    "\n",
    "my_function()\n"
   ]
  },
  {
   "cell_type": "code",
   "execution_count": null,
   "id": "c8aebb7d-ed7c-4fcb-b0e7-ec757f64f5cc",
   "metadata": {},
   "outputs": [],
   "source": [
    "import time\n",
    "\n",
    "def timer_test(func):\n",
    "    def timer_test_inner():\n",
    "        start = time.time()\n",
    "        func()\n",
    "        end = time.time()\n",
    "        print(\"Time Taken = {} seconds\".format(end-start))\n",
    "    return timer_test_inner"
   ]
  },
  {
   "cell_type": "code",
   "execution_count": null,
   "id": "65603f1d-c3cf-42df-87f1-2c1355b9e8e9",
   "metadata": {},
   "outputs": [],
   "source": [
    "@timer_test\n",
    "def list_sum():\n",
    "    x = [x for x in range(100000000)]\n",
    "    print(sum(x))"
   ]
  },
  {
   "cell_type": "code",
   "execution_count": null,
   "id": "648e073d-70ff-4d59-97a8-fa36b2f81424",
   "metadata": {},
   "outputs": [],
   "source": [
    "list_sum()"
   ]
  },
  {
   "cell_type": "markdown",
   "id": "7eaba2a7-fc98-489f-ac6f-4c09764b9cfb",
   "metadata": {},
   "source": [
    "# ClassMethods"
   ]
  },
  {
   "cell_type": "code",
   "execution_count": null,
   "id": "478968a2-b758-4f10-af05-42786f949d28",
   "metadata": {},
   "outputs": [],
   "source": [
    "class pwskills:\n",
    "    mobile_number = 9292929292\n",
    "    def __init__(self, name, email):\n",
    "        self.name = name\n",
    "        self.email = email\n",
    "    \n",
    "    @classmethod\n",
    "    def change_mobile(cls, mobile):\n",
    "        pwskills.mobile_number=mobile\n",
    "    \n",
    "    @classmethod\n",
    "    def details(cls, name, email):\n",
    "        return cls(name, email)\n",
    "    \n",
    "    def student_details(self):\n",
    "        print(self.name, self.email, pwskills.mobile_number)"
   ]
  },
  {
   "cell_type": "code",
   "execution_count": null,
   "id": "3f7ea037-5db7-4c2d-996b-5c00ca2293e4",
   "metadata": {},
   "outputs": [],
   "source": [
    "student1 = pwskills.details(\"A\", \"A@b.com\")\n",
    "student1.student_details()"
   ]
  },
  {
   "cell_type": "code",
   "execution_count": null,
   "id": "17dc92b7-7765-44b8-8b76-0962a32c8326",
   "metadata": {},
   "outputs": [],
   "source": [
    "student2 = pwskills(\"B\", 'b@gmail.com')\n",
    "student2.mobile_number"
   ]
  },
  {
   "cell_type": "code",
   "execution_count": null,
   "id": "748917c8-5365-40fd-b7e4-13d8aab839e1",
   "metadata": {},
   "outputs": [],
   "source": [
    "pwskills.change_mobile(12345677)"
   ]
  },
  {
   "cell_type": "code",
   "execution_count": null,
   "id": "ca82db83-ee47-4db3-8de0-bee30b2b0bb1",
   "metadata": {},
   "outputs": [],
   "source": [
    "student2.mobile_number"
   ]
  },
  {
   "cell_type": "code",
   "execution_count": null,
   "id": "30e3799c-4b0d-4d38-ac63-07f960477b3b",
   "metadata": {},
   "outputs": [],
   "source": [
    "student2.change_mobile(999999)\n",
    "student2.mobile_number"
   ]
  },
  {
   "cell_type": "code",
   "execution_count": null,
   "id": "3f25ce7b-c9f5-42ef-8332-664c0e18db08",
   "metadata": {},
   "outputs": [],
   "source": [
    "student2.student_details()"
   ]
  },
  {
   "cell_type": "markdown",
   "id": "67a3d688-8b41-4bcb-aeee-b3c7581d3dd1",
   "metadata": {},
   "source": [
    "### If called through both __init__ and @classmethod, data with __init__ will be shown"
   ]
  },
  {
   "cell_type": "code",
   "execution_count": null,
   "id": "8bc622be-5af4-4467-b70a-f941fe2b211c",
   "metadata": {},
   "outputs": [],
   "source": [
    "class_obj = pwskills(\"XYZ\", \"xyz@gmail.com\")\n",
    "class_obj.details(\"XYZ_New\", \"xyz_new@gmail.com\")\n",
    "\n",
    "class_obj.student_details()"
   ]
  },
  {
   "cell_type": "markdown",
   "id": "43785e27-eae8-4f64-9983-a8d661ddaf01",
   "metadata": {},
   "source": [
    "### Add external method to a class"
   ]
  },
  {
   "cell_type": "code",
   "execution_count": null,
   "id": "83224ee0-2da2-435f-9177-d964cae8e6e8",
   "metadata": {},
   "outputs": [],
   "source": [
    "def external_func(cls):\n",
    "    print(\"This is an external function\")\n",
    "    \n",
    "pwskills.external_func = classmethod(external_func)    "
   ]
  },
  {
   "cell_type": "code",
   "execution_count": null,
   "id": "a530a853-33ec-4792-aa52-34ba6bc30208",
   "metadata": {},
   "outputs": [],
   "source": [
    "pwskills.external_func()"
   ]
  },
  {
   "cell_type": "code",
   "execution_count": 17,
   "id": "63c546c2-ca23-4f71-9126-93b08caee059",
   "metadata": {},
   "outputs": [
    {
     "ename": "NameError",
     "evalue": "name 'student2' is not defined",
     "output_type": "error",
     "traceback": [
      "\u001b[0;31m---------------------------------------------------------------------------\u001b[0m",
      "\u001b[0;31mNameError\u001b[0m                                 Traceback (most recent call last)",
      "Cell \u001b[0;32mIn[17], line 1\u001b[0m\n\u001b[0;32m----> 1\u001b[0m \u001b[43mstudent2\u001b[49m\u001b[38;5;241m.\u001b[39mexternal_func()\n",
      "\u001b[0;31mNameError\u001b[0m: name 'student2' is not defined"
     ]
    }
   ],
   "source": [
    "student2.external_func()"
   ]
  },
  {
   "cell_type": "code",
   "execution_count": 18,
   "id": "21f357ad-127f-4796-bc41-666750bedaa2",
   "metadata": {},
   "outputs": [
    {
     "ename": "NameError",
     "evalue": "name 'student2' is not defined",
     "output_type": "error",
     "traceback": [
      "\u001b[0;31m---------------------------------------------------------------------------\u001b[0m",
      "\u001b[0;31mNameError\u001b[0m                                 Traceback (most recent call last)",
      "Cell \u001b[0;32mIn[18], line 1\u001b[0m\n\u001b[0;32m----> 1\u001b[0m \u001b[43mstudent2\u001b[49m\u001b[38;5;241m.\u001b[39mstudent_details()\n",
      "\u001b[0;31mNameError\u001b[0m: name 'student2' is not defined"
     ]
    }
   ],
   "source": [
    "student2.student_details()"
   ]
  },
  {
   "cell_type": "markdown",
   "id": "bfff7ac8-484d-49aa-bf28-4fd3eb2edc86",
   "metadata": {},
   "source": [
    "### Delete a function from class"
   ]
  },
  {
   "cell_type": "code",
   "execution_count": 19,
   "id": "91d0e0ae-2fc8-413f-8e7a-6871bd2d260c",
   "metadata": {},
   "outputs": [
    {
     "ename": "AttributeError",
     "evalue": "student_details",
     "output_type": "error",
     "traceback": [
      "\u001b[0;31m---------------------------------------------------------------------------\u001b[0m",
      "\u001b[0;31mAttributeError\u001b[0m                            Traceback (most recent call last)",
      "Cell \u001b[0;32mIn[19], line 1\u001b[0m\n\u001b[0;32m----> 1\u001b[0m \u001b[38;5;28;01mdel\u001b[39;00m pwskills\u001b[38;5;241m.\u001b[39mstudent_details\n",
      "\u001b[0;31mAttributeError\u001b[0m: student_details"
     ]
    }
   ],
   "source": [
    "del pwskills.student_details"
   ]
  },
  {
   "cell_type": "code",
   "execution_count": 20,
   "id": "89d3c839-edbe-43c7-9efc-2e4b0b1ea521",
   "metadata": {},
   "outputs": [
    {
     "ename": "NameError",
     "evalue": "name 'student2' is not defined",
     "output_type": "error",
     "traceback": [
      "\u001b[0;31m---------------------------------------------------------------------------\u001b[0m",
      "\u001b[0;31mNameError\u001b[0m                                 Traceback (most recent call last)",
      "Cell \u001b[0;32mIn[20], line 1\u001b[0m\n\u001b[0;32m----> 1\u001b[0m \u001b[43mstudent2\u001b[49m\u001b[38;5;241m.\u001b[39mstudent_details()\n",
      "\u001b[0;31mNameError\u001b[0m: name 'student2' is not defined"
     ]
    }
   ],
   "source": [
    "student2.student_details()"
   ]
  },
  {
   "cell_type": "markdown",
   "id": "23970d96-4859-418b-9cd0-bb393ec0158d",
   "metadata": {},
   "source": [
    "### Without constructor, initializing objects"
   ]
  },
  {
   "cell_type": "code",
   "execution_count": 21,
   "id": "c37aee89-d063-4c7b-8dc8-97dbcb24fcbb",
   "metadata": {},
   "outputs": [
    {
     "name": "stdout",
     "output_type": "stream",
     "text": [
      "10\n",
      "20\n"
     ]
    }
   ],
   "source": [
    "class MyClass:\n",
    "    '''def __init__(self, x, y):\n",
    "        self.x = x\n",
    "        self.y = y'''\n",
    "\n",
    "    @classmethod\n",
    "    def from_string(cls, string):\n",
    "        # Assuming string is in the format \"x,y\"\n",
    "        x, y = map(int, string.split(','))\n",
    "        ins = cls()\n",
    "        ins.x = x\n",
    "        ins.y = y\n",
    "        return ins\n",
    "\n",
    "# Using the alternative constructor\n",
    "obj = MyClass.from_string(\"10,20\")\n",
    "print(obj.x)  # Output: 10\n",
    "print(obj.y)  # Output: 20\n"
   ]
  },
  {
   "cell_type": "markdown",
   "id": "dc3a1736-d4fe-438e-a49c-ab902d091d85",
   "metadata": {},
   "source": [
    "# Static Method\n",
    "- Only one copy og the function is created and all the class variables share that copy\n",
    "- Can be called inside class methods, normal methods as well as other static methods"
   ]
  },
  {
   "cell_type": "code",
   "execution_count": 22,
   "id": "237ef366-c984-4d05-8c84-55d81baa6538",
   "metadata": {},
   "outputs": [],
   "source": [
    "class pwskills:\n",
    "    def student_details(self, name, email, number):\n",
    "        print(name, email, number)\n",
    "        self.mentor_class(['Sudh', 'Krish'])\n",
    "        \n",
    "    @staticmethod\n",
    "    def mentor_mail_id(mail_id):\n",
    "        print(mail_id)\n",
    "        pwskills.mentor_class(['Ujj', \"kum\"])\n",
    "        \n",
    "    @staticmethod\n",
    "    def mentor_class(list_mentor):\n",
    "        print(list_mentor)\n",
    "        \n",
    "    @classmethod\n",
    "    def class_name(cls, class_name):\n",
    "        cls.mentor_class(['Ujjwal', \"Kumar\"])\n",
    "    \n",
    "    def mentor(self, mentor_list):\n",
    "        print(mentor_list)\n",
    "        #self.mentor_class(['Sudh', 'Krish'])"
   ]
  },
  {
   "cell_type": "code",
   "execution_count": 23,
   "id": "00801607-c590-4707-9b5c-6124b9f453dc",
   "metadata": {},
   "outputs": [],
   "source": [
    "pw = pwskills()"
   ]
  },
  {
   "cell_type": "code",
   "execution_count": 24,
   "id": "d95633a1-6dba-4373-996e-4f64e42ef5ee",
   "metadata": {
    "tags": []
   },
   "outputs": [
    {
     "name": "stdout",
     "output_type": "stream",
     "text": [
      "A A@gmail.com 12345\n",
      "['Sudh', 'Krish']\n"
     ]
    }
   ],
   "source": [
    "pw.student_details(\"A\", \"A@gmail.com\", 12345)"
   ]
  },
  {
   "cell_type": "code",
   "execution_count": 25,
   "id": "a972e51a-e70e-4d46-b271-a330f5478fc1",
   "metadata": {},
   "outputs": [
    {
     "name": "stdout",
     "output_type": "stream",
     "text": [
      "['Sudh@gmail.com', 'Krish@gmail.com']\n",
      "['Ujj', 'kum']\n"
     ]
    }
   ],
   "source": [
    "pwskills.mentor_mail_id(['Sudh@gmail.com', 'Krish@gmail.com'])"
   ]
  },
  {
   "cell_type": "code",
   "execution_count": 26,
   "id": "1830facd-cb31-4820-9ba0-c3e7dc18c6a8",
   "metadata": {},
   "outputs": [
    {
     "name": "stdout",
     "output_type": "stream",
     "text": [
      "['Sudh@gmail.com', 'Krish@gmail.com']\n"
     ]
    }
   ],
   "source": [
    "pw.mentor_class(['Sudh@gmail.com', 'Krish@gmail.com'])"
   ]
  },
  {
   "cell_type": "code",
   "execution_count": 27,
   "id": "a5f123d6-410a-40ce-8cac-ff4181942da8",
   "metadata": {},
   "outputs": [
    {
     "name": "stdout",
     "output_type": "stream",
     "text": [
      "['Sudh@gmail.com', 'Krish@gmail.com']\n"
     ]
    }
   ],
   "source": [
    "pwskills.mentor_class(['Sudh@gmail.com', 'Krish@gmail.com'])"
   ]
  },
  {
   "cell_type": "markdown",
   "id": "7324e093-3b84-4e5b-b2f6-fb62f8980281",
   "metadata": {},
   "source": [
    "# Special (Magic/Dunder) Methods"
   ]
  },
  {
   "cell_type": "code",
   "execution_count": 28,
   "id": "c2cc2eed-10dc-4c10-926d-f5e9d0c71189",
   "metadata": {},
   "outputs": [
    {
     "data": {
      "text/plain": [
       "['__abs__',\n",
       " '__add__',\n",
       " '__and__',\n",
       " '__bool__',\n",
       " '__ceil__',\n",
       " '__class__',\n",
       " '__delattr__',\n",
       " '__dir__',\n",
       " '__divmod__',\n",
       " '__doc__',\n",
       " '__eq__',\n",
       " '__float__',\n",
       " '__floor__',\n",
       " '__floordiv__',\n",
       " '__format__',\n",
       " '__ge__',\n",
       " '__getattribute__',\n",
       " '__getnewargs__',\n",
       " '__gt__',\n",
       " '__hash__',\n",
       " '__index__',\n",
       " '__init__',\n",
       " '__init_subclass__',\n",
       " '__int__',\n",
       " '__invert__',\n",
       " '__le__',\n",
       " '__lshift__',\n",
       " '__lt__',\n",
       " '__mod__',\n",
       " '__mul__',\n",
       " '__ne__',\n",
       " '__neg__',\n",
       " '__new__',\n",
       " '__or__',\n",
       " '__pos__',\n",
       " '__pow__',\n",
       " '__radd__',\n",
       " '__rand__',\n",
       " '__rdivmod__',\n",
       " '__reduce__',\n",
       " '__reduce_ex__',\n",
       " '__repr__',\n",
       " '__rfloordiv__',\n",
       " '__rlshift__',\n",
       " '__rmod__',\n",
       " '__rmul__',\n",
       " '__ror__',\n",
       " '__round__',\n",
       " '__rpow__',\n",
       " '__rrshift__',\n",
       " '__rshift__',\n",
       " '__rsub__',\n",
       " '__rtruediv__',\n",
       " '__rxor__',\n",
       " '__setattr__',\n",
       " '__sizeof__',\n",
       " '__str__',\n",
       " '__sub__',\n",
       " '__subclasshook__',\n",
       " '__truediv__',\n",
       " '__trunc__',\n",
       " '__xor__',\n",
       " 'as_integer_ratio',\n",
       " 'bit_count',\n",
       " 'bit_length',\n",
       " 'conjugate',\n",
       " 'denominator',\n",
       " 'from_bytes',\n",
       " 'imag',\n",
       " 'numerator',\n",
       " 'real',\n",
       " 'to_bytes']"
      ]
     },
     "execution_count": 28,
     "metadata": {},
     "output_type": "execute_result"
    }
   ],
   "source": [
    "dir(int)"
   ]
  },
  {
   "cell_type": "code",
   "execution_count": 29,
   "id": "0000cf64-0d68-4819-b014-705d52e85bd8",
   "metadata": {},
   "outputs": [
    {
     "data": {
      "text/plain": [
       "16"
      ]
     },
     "execution_count": 29,
     "metadata": {},
     "output_type": "execute_result"
    }
   ],
   "source": [
    "a = 10\n",
    "a+6"
   ]
  },
  {
   "cell_type": "code",
   "execution_count": 30,
   "id": "a9d8c5e3-ffce-42b0-a46a-6ab2c4ccf880",
   "metadata": {},
   "outputs": [
    {
     "data": {
      "text/plain": [
       "20"
      ]
     },
     "execution_count": 30,
     "metadata": {},
     "output_type": "execute_result"
    }
   ],
   "source": [
    "a.__add__(10)"
   ]
  },
  {
   "cell_type": "code",
   "execution_count": 31,
   "id": "0c503f4b-56ae-465f-9e03-27a59d062354",
   "metadata": {},
   "outputs": [
    {
     "data": {
      "text/plain": [
       "['__add__',\n",
       " '__class__',\n",
       " '__contains__',\n",
       " '__delattr__',\n",
       " '__dir__',\n",
       " '__doc__',\n",
       " '__eq__',\n",
       " '__format__',\n",
       " '__ge__',\n",
       " '__getattribute__',\n",
       " '__getitem__',\n",
       " '__getnewargs__',\n",
       " '__gt__',\n",
       " '__hash__',\n",
       " '__init__',\n",
       " '__init_subclass__',\n",
       " '__iter__',\n",
       " '__le__',\n",
       " '__len__',\n",
       " '__lt__',\n",
       " '__mod__',\n",
       " '__mul__',\n",
       " '__ne__',\n",
       " '__new__',\n",
       " '__reduce__',\n",
       " '__reduce_ex__',\n",
       " '__repr__',\n",
       " '__rmod__',\n",
       " '__rmul__',\n",
       " '__setattr__',\n",
       " '__sizeof__',\n",
       " '__str__',\n",
       " '__subclasshook__',\n",
       " 'capitalize',\n",
       " 'casefold',\n",
       " 'center',\n",
       " 'count',\n",
       " 'encode',\n",
       " 'endswith',\n",
       " 'expandtabs',\n",
       " 'find',\n",
       " 'format',\n",
       " 'format_map',\n",
       " 'index',\n",
       " 'isalnum',\n",
       " 'isalpha',\n",
       " 'isascii',\n",
       " 'isdecimal',\n",
       " 'isdigit',\n",
       " 'isidentifier',\n",
       " 'islower',\n",
       " 'isnumeric',\n",
       " 'isprintable',\n",
       " 'isspace',\n",
       " 'istitle',\n",
       " 'isupper',\n",
       " 'join',\n",
       " 'ljust',\n",
       " 'lower',\n",
       " 'lstrip',\n",
       " 'maketrans',\n",
       " 'partition',\n",
       " 'removeprefix',\n",
       " 'removesuffix',\n",
       " 'replace',\n",
       " 'rfind',\n",
       " 'rindex',\n",
       " 'rjust',\n",
       " 'rpartition',\n",
       " 'rsplit',\n",
       " 'rstrip',\n",
       " 'split',\n",
       " 'splitlines',\n",
       " 'startswith',\n",
       " 'strip',\n",
       " 'swapcase',\n",
       " 'title',\n",
       " 'translate',\n",
       " 'upper',\n",
       " 'zfill']"
      ]
     },
     "execution_count": 31,
     "metadata": {},
     "output_type": "execute_result"
    }
   ],
   "source": [
    "dir(str)"
   ]
  },
  {
   "cell_type": "code",
   "execution_count": 32,
   "id": "95817237-077d-421b-a1d7-8671ba45d480",
   "metadata": {},
   "outputs": [],
   "source": [
    "class pwskills:\n",
    "    def __init__(self):\n",
    "        print(\"In init method\")\n",
    "    \n",
    "    def __new__(cls):\n",
    "        print(\"New Object Created\")"
   ]
  },
  {
   "cell_type": "code",
   "execution_count": 33,
   "id": "2851ddba-3da9-4389-af0f-7dab943b98c5",
   "metadata": {},
   "outputs": [
    {
     "name": "stdout",
     "output_type": "stream",
     "text": [
      "New Object Created\n"
     ]
    }
   ],
   "source": [
    "pwskill = pwskills()"
   ]
  },
  {
   "cell_type": "markdown",
   "id": "55086184-f45d-42ff-b939-8bbfe24f63c2",
   "metadata": {},
   "source": [
    "# Property Decorator"
   ]
  },
  {
   "cell_type": "code",
   "execution_count": 88,
   "id": "4fec1820-80a8-448d-aa4b-6e0c0374a006",
   "metadata": {},
   "outputs": [],
   "source": [
    "class pwskills:\n",
    "    def __init__(self, course_price, course_name):\n",
    "        self.__course_price=course_price\n",
    "        self.course_name=course_name\n",
    "     \n",
    "    #Works fine without this keyword\n",
    "    @property\n",
    "    def course_price_access(self):\n",
    "        return self.__course_price\n",
    "    \n",
    "    @course_price_access.setter\n",
    "    def course_price_set(self, price):\n",
    "        self.__course_price=price\n",
    "        \n",
    "    @course_price_access.deleter\n",
    "    def course_price_del(self):\n",
    "        del self.__course_price"
   ]
  },
  {
   "cell_type": "code",
   "execution_count": 89,
   "id": "9d19dba8-7a86-4398-9d69-7f2516dba1fe",
   "metadata": {},
   "outputs": [
    {
     "data": {
      "text/plain": [
       "3500"
      ]
     },
     "execution_count": 89,
     "metadata": {},
     "output_type": "execute_result"
    }
   ],
   "source": [
    "pw = pwskills(3500, 'Data Science Masters')\n",
    "#Not able to access private variable directly\n",
    "pw._pwskills__course_price"
   ]
  },
  {
   "cell_type": "code",
   "execution_count": 92,
   "id": "e587877a-436e-4efa-a144-040d3816a2dc",
   "metadata": {},
   "outputs": [
    {
     "data": {
      "text/plain": [
       "3500"
      ]
     },
     "execution_count": 92,
     "metadata": {},
     "output_type": "execute_result"
    }
   ],
   "source": [
    "pw = pwskills(3500, 'Data Science Masters')\n",
    "\n",
    "pw.course_price_access"
   ]
  },
  {
   "cell_type": "code",
   "execution_count": 93,
   "id": "de9b1f61-c074-4858-a0c5-7a2f9aefd2c5",
   "metadata": {},
   "outputs": [],
   "source": [
    "pw.course_price_set=1000"
   ]
  },
  {
   "cell_type": "code",
   "execution_count": 94,
   "id": "933e7a76-b1c9-4e9c-b952-86b390c176fb",
   "metadata": {},
   "outputs": [
    {
     "data": {
      "text/plain": [
       "1000"
      ]
     },
     "execution_count": 94,
     "metadata": {},
     "output_type": "execute_result"
    }
   ],
   "source": [
    "pw.course_price_access"
   ]
  },
  {
   "cell_type": "code",
   "execution_count": 98,
   "id": "0d592fc0-663f-40ec-a7a7-bc412fafdb44",
   "metadata": {},
   "outputs": [],
   "source": [
    "del pw.course_price_del"
   ]
  },
  {
   "cell_type": "code",
   "execution_count": 99,
   "id": "af827575-9c88-4db9-a5b3-9770fcba0b26",
   "metadata": {},
   "outputs": [
    {
     "ename": "AttributeError",
     "evalue": "'pwskills' object has no attribute '_pwskills__course_price'",
     "output_type": "error",
     "traceback": [
      "\u001b[0;31m---------------------------------------------------------------------------\u001b[0m",
      "\u001b[0;31mAttributeError\u001b[0m                            Traceback (most recent call last)",
      "Cell \u001b[0;32mIn[99], line 1\u001b[0m\n\u001b[0;32m----> 1\u001b[0m \u001b[43mpw\u001b[49m\u001b[38;5;241;43m.\u001b[39;49m\u001b[43mcourse_price_access\u001b[49m\n",
      "Cell \u001b[0;32mIn[88], line 9\u001b[0m, in \u001b[0;36mpwskills.course_price_access\u001b[0;34m(self)\u001b[0m\n\u001b[1;32m      7\u001b[0m \u001b[38;5;129m@property\u001b[39m\n\u001b[1;32m      8\u001b[0m \u001b[38;5;28;01mdef\u001b[39;00m \u001b[38;5;21mcourse_price_access\u001b[39m(\u001b[38;5;28mself\u001b[39m):\n\u001b[0;32m----> 9\u001b[0m     \u001b[38;5;28;01mreturn\u001b[39;00m \u001b[38;5;28;43mself\u001b[39;49m\u001b[38;5;241;43m.\u001b[39;49m\u001b[43m__course_price\u001b[49m\n",
      "\u001b[0;31mAttributeError\u001b[0m: 'pwskills' object has no attribute '_pwskills__course_price'"
     ]
    }
   ],
   "source": [
    "pw.course_price_access"
   ]
  },
  {
   "cell_type": "code",
   "execution_count": null,
   "id": "2689964a-f517-4eec-a996-86236be6f67b",
   "metadata": {},
   "outputs": [],
   "source": []
  }
 ],
 "metadata": {
  "kernelspec": {
   "display_name": "Python 3 (ipykernel)",
   "language": "python",
   "name": "python3"
  },
  "language_info": {
   "codemirror_mode": {
    "name": "ipython",
    "version": 3
   },
   "file_extension": ".py",
   "mimetype": "text/x-python",
   "name": "python",
   "nbconvert_exporter": "python",
   "pygments_lexer": "ipython3",
   "version": "3.10.8"
  }
 },
 "nbformat": 4,
 "nbformat_minor": 5
}
