{
 "cells": [
  {
   "cell_type": "code",
   "execution_count": 1,
   "id": "310da893-1b4e-4d5a-bc28-54f3649c6e57",
   "metadata": {},
   "outputs": [],
   "source": [
    "import requests\n",
    "from bs4 import BeautifulSoup as bs\n",
    "from urllib.request import urlopen\n",
    "import logging"
   ]
  },
  {
   "cell_type": "code",
   "execution_count": 4,
   "id": "1fe63780-75f2-49a2-a2e0-66abe6c56abe",
   "metadata": {},
   "outputs": [
    {
     "data": {
      "text/plain": [
       "'https://www.flipkart.com/search?q=iphone+11'"
      ]
     },
     "execution_count": 4,
     "metadata": {},
     "output_type": "execute_result"
    }
   ],
   "source": [
    "main_url = 'https://www.flipkart.com/search?q='\n",
    "item_name = \"iphone+11\"\n",
    "url = main_url+item_name\n",
    "url"
   ]
  },
  {
   "cell_type": "code",
   "execution_count": null,
   "id": "fd6c5c60-31f7-40fc-9f27-eac9f45fedbd",
   "metadata": {},
   "outputs": [],
   "source": [
    "# Opens urls automatically\n",
    "urlclinet = urlopen(url)\n",
    "urlclient.read()"
   ]
  },
  {
   "cell_type": "code",
   "execution_count": null,
   "id": "90c190c5-ac27-4212-83aa-952ee30d86b0",
   "metadata": {},
   "outputs": [],
   "source": []
  }
 ],
 "metadata": {
  "kernelspec": {
   "display_name": "Python 3 (ipykernel)",
   "language": "python",
   "name": "python3"
  },
  "language_info": {
   "codemirror_mode": {
    "name": "ipython",
    "version": 3
   },
   "file_extension": ".py",
   "mimetype": "text/x-python",
   "name": "python",
   "nbconvert_exporter": "python",
   "pygments_lexer": "ipython3",
   "version": "3.10.8"
  }
 },
 "nbformat": 4,
 "nbformat_minor": 5
}
