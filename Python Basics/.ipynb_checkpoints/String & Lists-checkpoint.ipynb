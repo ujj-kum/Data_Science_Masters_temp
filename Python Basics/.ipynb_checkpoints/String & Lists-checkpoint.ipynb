{
 "cells": [
  {
   "cell_type": "code",
   "execution_count": null,
   "id": "36d5fc00-3ea3-4783-ae5d-1645b29c1cdd",
   "metadata": {},
   "outputs": [],
   "source": [
    "\" \".join(\"ABCDE\")"
   ]
  },
  {
   "cell_type": "code",
   "execution_count": null,
   "id": "0acff14c-f480-4b0a-9cae-ba056df2e77c",
   "metadata": {},
   "outputs": [],
   "source": [
    "name = \"Data Science Masters\""
   ]
  },
  {
   "cell_type": "code",
   "execution_count": null,
   "id": "8c90a0a7-689a-44b5-8778-3daa34e5f29a",
   "metadata": {},
   "outputs": [],
   "source": [
    "\"\".join(reversed(name))"
   ]
  },
  {
   "cell_type": "code",
   "execution_count": null,
   "id": "a5f221f7-72d6-449f-a383-69e8aadb6925",
   "metadata": {},
   "outputs": [],
   "source": [
    "\"K\".join(\"ABCDE\")"
   ]
  },
  {
   "cell_type": "code",
   "execution_count": null,
   "id": "c882c963-3be5-4819-84d5-36319d784e72",
   "metadata": {},
   "outputs": [],
   "source": [
    "x = \" ABC \""
   ]
  },
  {
   "cell_type": "code",
   "execution_count": null,
   "id": "0091469f-590f-4b68-ab1c-b93988447543",
   "metadata": {},
   "outputs": [],
   "source": [
    "x.strip(\" \")"
   ]
  },
  {
   "cell_type": "code",
   "execution_count": null,
   "id": "f0cd4e14-263e-4475-ae9f-1119caf5f0b9",
   "metadata": {},
   "outputs": [],
   "source": [
    "x.lstrip(\" \")"
   ]
  },
  {
   "cell_type": "code",
   "execution_count": null,
   "id": "f898f92d-51c3-40be-80f2-6032dece4560",
   "metadata": {},
   "outputs": [],
   "source": [
    "x.rstrip(\" \")"
   ]
  },
  {
   "cell_type": "code",
   "execution_count": null,
   "id": "159e3b9e-498e-4bfa-8a50-489ff4ca4cf9",
   "metadata": {},
   "outputs": [],
   "source": [
    "x = \"ABC\""
   ]
  },
  {
   "cell_type": "code",
   "execution_count": null,
   "id": "6e0e79c7-7110-43c4-9d31-7dbff7cc4b78",
   "metadata": {},
   "outputs": [],
   "source": [
    "x.replace(\"A\", \"D\")"
   ]
  },
  {
   "cell_type": "markdown",
   "id": "9251613f-f3c6-48fe-9b18-5c69aafdd928",
   "metadata": {},
   "source": [
    "### expandtabs()"
   ]
  },
  {
   "cell_type": "code",
   "execution_count": null,
   "id": "5c0cbf7b-bf4f-46ab-9a71-5f9a00010040",
   "metadata": {},
   "outputs": [],
   "source": [
    "\"Hello\\tWorld\""
   ]
  },
  {
   "cell_type": "code",
   "execution_count": null,
   "id": "ddddae23-5473-4783-ad36-9fb3277a4f71",
   "metadata": {},
   "outputs": [],
   "source": [
    "x = 'Hello\\tWorld'"
   ]
  },
  {
   "cell_type": "code",
   "execution_count": null,
   "id": "f16dff1d-283d-4482-8237-29f01622e334",
   "metadata": {},
   "outputs": [],
   "source": [
    "x.expandtabs()"
   ]
  },
  {
   "cell_type": "code",
   "execution_count": null,
   "id": "70af2c23-3f52-40c3-bcac-1ce0442ff8bc",
   "metadata": {},
   "outputs": [],
   "source": [
    "x = \"    \"\n",
    "x.isspace()"
   ]
  },
  {
   "cell_type": "markdown",
   "id": "5788e381-f9cd-4e04-88a2-b2145eef84ac",
   "metadata": {},
   "source": [
    "# Lists"
   ]
  },
  {
   "cell_type": "code",
   "execution_count": null,
   "id": "025f30de-7e0b-4d34-b3a3-c147c56b70ea",
   "metadata": {},
   "outputs": [],
   "source": [
    "x = \"ABC\"\n",
    "x.patition(\"B\")"
   ]
  },
  {
   "cell_type": "code",
   "execution_count": null,
   "id": "4363b0c5-cc35-4d60-b038-7b253a6c5233",
   "metadata": {},
   "outputs": [],
   "source": [
    "x.index(\"AB\")"
   ]
  },
  {
   "cell_type": "code",
   "execution_count": null,
   "id": "bbab9648-df1c-4e79-a8fd-c3c8eee18e1e",
   "metadata": {},
   "outputs": [],
   "source": [
    "x = \"PW Skills Data Science Masters\"\n",
    "arr = list(x.split())\n",
    "arr"
   ]
  },
  {
   "cell_type": "code",
   "execution_count": null,
   "id": "f77337c8-ed7c-4174-989e-0f1b00170322",
   "metadata": {},
   "outputs": [],
   "source": [
    "arr[-5:-3:2]"
   ]
  },
  {
   "cell_type": "code",
   "execution_count": null,
   "id": "d6f5a7b0-3258-4a1a-b57e-341496fe6bda",
   "metadata": {},
   "outputs": [],
   "source": [
    "arr.index(\"Skills\")"
   ]
  },
  {
   "cell_type": "code",
   "execution_count": null,
   "id": "126cd317-e2d3-48f3-be5a-a96c73875a28",
   "metadata": {},
   "outputs": [],
   "source": [
    "type(2.0)"
   ]
  },
  {
   "cell_type": "code",
   "execution_count": null,
   "id": "dd50050c-54f0-4174-9a5d-61d73a18493b",
   "metadata": {},
   "outputs": [],
   "source": [
    "a = [1,2,3]\n",
    "b = [4,5,6]\n",
    "c = [7,8,9]\n",
    "arr = [a,b,c]\n",
    "arr"
   ]
  },
  {
   "cell_type": "code",
   "execution_count": null,
   "id": "33cc07e9-e1b2-4ecb-8e43-19a107b34916",
   "metadata": {},
   "outputs": [],
   "source": [
    "arr[:,0]"
   ]
  },
  {
   "cell_type": "code",
   "execution_count": null,
   "id": "d822ead3-ccb2-4362-9912-958336cd13cc",
   "metadata": {},
   "outputs": [],
   "source": [
    "import numpy as np"
   ]
  },
  {
   "cell_type": "code",
   "execution_count": null,
   "id": "1c50c88b-edb5-4b10-ac88-2526414e55f8",
   "metadata": {},
   "outputs": [],
   "source": [
    "arr = np.array(arr)\n",
    "arr"
   ]
  },
  {
   "cell_type": "code",
   "execution_count": null,
   "id": "5e3ea8c7-1501-40de-8394-950e4f656ff3",
   "metadata": {},
   "outputs": [],
   "source": [
    "arr[:,0]"
   ]
  },
  {
   "cell_type": "code",
   "execution_count": null,
   "id": "831c4de9-9a38-4d41-b0bf-b9d596b0d4fb",
   "metadata": {},
   "outputs": [],
   "source": [
    "arr.T"
   ]
  },
  {
   "cell_type": "markdown",
   "id": "5d875a29-e84d-42eb-a508-6e91c27b0a85",
   "metadata": {},
   "source": [
    "## List Comphrension"
   ]
  },
  {
   "cell_type": "code",
   "execution_count": null,
   "id": "7bb1945f-39b0-4393-96e4-00e15709dff6",
   "metadata": {},
   "outputs": [],
   "source": [
    "[(i**2) if i%2==0 else i for i in range(10)]"
   ]
  },
  {
   "cell_type": "code",
   "execution_count": null,
   "id": "c9d4cc6d-11fd-421e-84a4-ed005286d954",
   "metadata": {},
   "outputs": [],
   "source": [
    "arr = [i+1 for i in range(10)]\n",
    "arr"
   ]
  },
  {
   "cell_type": "code",
   "execution_count": null,
   "id": "9452756d-8f9d-407d-a802-bd6dc4789428",
   "metadata": {},
   "outputs": [],
   "source": [
    "even_sum = sum([x for x in arr if x%2==0])\n",
    "odd_sum  = sum([x for x in arr if x%2!=0])\n",
    "even_sum, odd_sum"
   ]
  },
  {
   "cell_type": "code",
   "execution_count": null,
   "id": "5fca841d-e2bd-4c55-bad3-5666cbc0e551",
   "metadata": {},
   "outputs": [],
   "source": [
    "even_sum, odd_sum"
   ]
  },
  {
   "cell_type": "code",
   "execution_count": null,
   "id": "80679ddd-704b-496c-8ec7-d2180e20f693",
   "metadata": {},
   "outputs": [],
   "source": [
    "[x*x for x in arr]"
   ]
  },
  {
   "cell_type": "code",
   "execution_count": null,
   "id": "0e5e249c-c367-4d5c-9cd2-e40937a9709e",
   "metadata": {},
   "outputs": [],
   "source": [
    "fruits = ['apple', 'banana', 'mango', 'pineapple']\n",
    "[x[0] for x in fruits]"
   ]
  },
  {
   "cell_type": "code",
   "execution_count": null,
   "id": "8e7eb48d-2707-4fd9-a033-eaf0f0075fc7",
   "metadata": {},
   "outputs": [],
   "source": [
    "celsius_temp = [0, 10, 20, 30, 40, 50]\n",
    "farenheit_temp = [(9/5)*temp+32 for temp in celsius_temp]\n",
    "farenheit_temp"
   ]
  },
  {
   "cell_type": "markdown",
   "id": "b6015ec6-2a6f-4a6f-b633-2fc52fffa2a7",
   "metadata": {},
   "source": [
    "**Flatten a list of lists using list comphrension**"
   ]
  },
  {
   "cell_type": "code",
   "execution_count": null,
   "id": "7f3a7692-ddd0-4667-b9f5-1986fd9665ab",
   "metadata": {},
   "outputs": [],
   "source": [
    "a = [1,2,3]\n",
    "b = [4,5,6]\n",
    "c = [7,8,9]\n",
    "arr = [a,b,c]\n",
    "arr"
   ]
  },
  {
   "cell_type": "code",
   "execution_count": null,
   "id": "adc91624-83e4-435e-971a-d5bf328f0df3",
   "metadata": {},
   "outputs": [],
   "source": [
    "single_list = [i for x in arr for i in x]\n",
    "single_list"
   ]
  },
  {
   "cell_type": "code",
   "execution_count": null,
   "id": "e8e17298-a07e-4e54-b050-90a9d0417331",
   "metadata": {},
   "outputs": [],
   "source": [
    "arr = [i+1 for i in range(10)]\n",
    "arr"
   ]
  },
  {
   "cell_type": "code",
   "execution_count": null,
   "id": "576edf94-bea6-49ec-a495-517998bf4834",
   "metadata": {},
   "outputs": [],
   "source": [
    "arr"
   ]
  },
  {
   "cell_type": "code",
   "execution_count": null,
   "id": "d0471d9b-5533-45f4-8feb-c95890236fa7",
   "metadata": {},
   "outputs": [],
   "source": [
    "[(arr[i], arr[j]) for i in range(len(arr)) for j in range(i+1,len(arr))]"
   ]
  },
  {
   "cell_type": "code",
   "execution_count": null,
   "id": "8f1857f6-a902-431d-a841-08c1f8ef57ca",
   "metadata": {},
   "outputs": [],
   "source": [
    "x "
   ]
  },
  {
   "cell_type": "code",
   "execution_count": 105,
   "id": "2dad55e2-29e1-4ef0-9b8b-7e3eb655a5ed",
   "metadata": {},
   "outputs": [
    {
     "data": {
      "text/plain": [
       "[0, 1, 4, 3, 16, 5, 36, 7, 64, 9]"
      ]
     },
     "execution_count": 105,
     "metadata": {},
     "output_type": "execute_result"
    }
   ],
   "source": [
    "[(i**2) if i%2==0 else i for i in range(10)]"
   ]
  },
  {
   "cell_type": "code",
   "execution_count": 107,
   "id": "7842d7c8-5460-4e9e-af08-27c267c3642a",
   "metadata": {},
   "outputs": [
    {
     "ename": "SyntaxError",
     "evalue": "invalid syntax (2687332493.py, line 1)",
     "output_type": "error",
     "traceback": [
      "\u001b[0;36m  Cell \u001b[0;32mIn[107], line 1\u001b[0;36m\u001b[0m\n\u001b[0;31m    [(i**2) for i in range(10) if i%2==0 else i]\u001b[0m\n\u001b[0m                                         ^\u001b[0m\n\u001b[0;31mSyntaxError\u001b[0m\u001b[0;31m:\u001b[0m invalid syntax\n"
     ]
    }
   ],
   "source": [
    "[(i**2) for i in range(10) if i%2==0 else i]"
   ]
  },
  {
   "cell_type": "code",
   "execution_count": null,
   "id": "beb4d34a-7699-4ba1-b97e-2090452bba9b",
   "metadata": {},
   "outputs": [],
   "source": []
  }
 ],
 "metadata": {
  "kernelspec": {
   "display_name": "Python 3 (ipykernel)",
   "language": "python",
   "name": "python3"
  },
  "language_info": {
   "codemirror_mode": {
    "name": "ipython",
    "version": 3
   },
   "file_extension": ".py",
   "mimetype": "text/x-python",
   "name": "python",
   "nbconvert_exporter": "python",
   "pygments_lexer": "ipython3",
   "version": "3.10.8"
  }
 },
 "nbformat": 4,
 "nbformat_minor": 5
}
