{
 "cells": [
  {
   "cell_type": "code",
   "execution_count": 1,
   "id": "6df381dd-4dd6-4717-82e1-780b839ad616",
   "metadata": {},
   "outputs": [],
   "source": [
    "def fun():\n",
    "    return 1,2,3+2j,\"Hello World\",{1,2,3},[1,2,3]"
   ]
  },
  {
   "cell_type": "code",
   "execution_count": 3,
   "id": "0044b0d8-5b75-4aa5-b87e-ef98da64fc08",
   "metadata": {},
   "outputs": [
    {
     "data": {
      "text/plain": [
       "(1, 2, (3+2j), 'Hello World', {1, 2, 3}, [1, 2, 3])"
      ]
     },
     "execution_count": 3,
     "metadata": {},
     "output_type": "execute_result"
    }
   ],
   "source": [
    "fun()"
   ]
  },
  {
   "cell_type": "code",
   "execution_count": 4,
   "id": "a97d8cc4-79c7-434c-8e34-b91648ea782b",
   "metadata": {},
   "outputs": [],
   "source": [
    "def name(first, last):\n",
    "    return first+\" \"+last"
   ]
  },
  {
   "cell_type": "code",
   "execution_count": 7,
   "id": "cc1b5f70-57a3-4a75-85aa-f1e7d26f9c78",
   "metadata": {},
   "outputs": [
    {
     "data": {
      "text/plain": [
       "'Kumar Ujjwal'"
      ]
     },
     "execution_count": 7,
     "metadata": {},
     "output_type": "execute_result"
    }
   ],
   "source": [
    "name(last = \"Ujjwal\", first = \"Kumar\")"
   ]
  },
  {
   "cell_type": "markdown",
   "id": "8b7af4a0-81b0-41b9-a801-8fb2ee0a7020",
   "metadata": {},
   "source": [
    "**Write a function which take a list and returns integer values**"
   ]
  },
  {
   "cell_type": "code",
   "execution_count": 3,
   "id": "86e4d6fa-c748-4006-a102-10ca9dc9dd05",
   "metadata": {},
   "outputs": [],
   "source": [
    "def extract_int(arr):\n",
    "    res = []\n",
    "    for i in arr:\n",
    "        if type(i)==list:\n",
    "            for j in i:\n",
    "                if type(j)==int or type(j)==float:\n",
    "                    res.append(j)\n",
    "        else:\n",
    "            if type(i)==int or type(i)==float:\n",
    "                res.append(i)\n",
    "    return res\n",
    "    "
   ]
  },
  {
   "cell_type": "code",
   "execution_count": 4,
   "id": "461a388c-afa8-41ad-8412-6f9e73cb76fe",
   "metadata": {},
   "outputs": [
    {
     "data": {
      "text/plain": [
       "[1, 2, 3, 5, 6, 7]"
      ]
     },
     "execution_count": 4,
     "metadata": {},
     "output_type": "execute_result"
    }
   ],
   "source": [
    "extract_int([1,2,3,'PW',[5,6,7,'Hello']])"
   ]
  },
  {
   "cell_type": "markdown",
   "id": "b09e2e2a-5811-4a57-bcfb-e8a12de2662f",
   "metadata": {},
   "source": [
    "#### Passing unknown number of arguments\n",
    "\n",
    "#### ***args allows to take n number of arguments**"
   ]
  },
  {
   "cell_type": "code",
   "execution_count": 5,
   "id": "b6443ee7-a289-45fc-86a2-cfb06035784a",
   "metadata": {},
   "outputs": [],
   "source": [
    "def test(*args):\n",
    "    return args"
   ]
  },
  {
   "cell_type": "code",
   "execution_count": 6,
   "id": "3f618494-c943-49c5-9ef9-722e056f03a9",
   "metadata": {},
   "outputs": [
    {
     "data": {
      "text/plain": [
       "(1, 2, 3, 4, 5)"
      ]
     },
     "execution_count": 6,
     "metadata": {},
     "output_type": "execute_result"
    }
   ],
   "source": [
    "test(1,2,3,4,5)"
   ]
  },
  {
   "cell_type": "code",
   "execution_count": 8,
   "id": "1d7bf11f-29d2-4dba-a05f-48faed8e9d69",
   "metadata": {},
   "outputs": [
    {
     "data": {
      "text/plain": [
       "('Ujj', [1, 2, 3, 4, 5], (1, 2, 3, 4, 5))"
      ]
     },
     "execution_count": 8,
     "metadata": {},
     "output_type": "execute_result"
    }
   ],
   "source": [
    "test(\"Ujj\", [1,2,3,4,5], (1,2,3,4,5))"
   ]
  },
  {
   "cell_type": "code",
   "execution_count": 9,
   "id": "e289fe08-3662-4266-9ebd-575158e4242e",
   "metadata": {},
   "outputs": [],
   "source": [
    "def test(*random_name):\n",
    "    return random_name"
   ]
  },
  {
   "cell_type": "code",
   "execution_count": 10,
   "id": "31ddc64b-3984-4f4b-9a68-fa294b62ecac",
   "metadata": {},
   "outputs": [
    {
     "data": {
      "text/plain": [
       "('Ujj', [1, 2, 3, 4, 5], (1, 2, 3, 4, 5))"
      ]
     },
     "execution_count": 10,
     "metadata": {},
     "output_type": "execute_result"
    }
   ],
   "source": [
    "test(\"Ujj\", [1,2,3,4,5], (1,2,3,4,5))"
   ]
  },
  {
   "cell_type": "markdown",
   "id": "1c74e7ee-6e71-4c96-829b-5ef8b64debd5",
   "metadata": {},
   "source": [
    "### Can pass even no values"
   ]
  },
  {
   "cell_type": "code",
   "execution_count": 11,
   "id": "ececaa0e-613b-45e3-bd8a-d87c11768f10",
   "metadata": {},
   "outputs": [
    {
     "data": {
      "text/plain": [
       "()"
      ]
     },
     "execution_count": 11,
     "metadata": {},
     "output_type": "execute_result"
    }
   ],
   "source": [
    "test()"
   ]
  },
  {
   "cell_type": "code",
   "execution_count": 12,
   "id": "ecbe8695-3f15-4a43-83a6-cc1c8a8849bf",
   "metadata": {},
   "outputs": [],
   "source": [
    "def test(*args, a):\n",
    "    return args, a"
   ]
  },
  {
   "cell_type": "code",
   "execution_count": 17,
   "id": "e3459e99-002b-44ee-abd0-81d1d2efdea8",
   "metadata": {},
   "outputs": [
    {
     "ename": "TypeError",
     "evalue": "test() missing 1 required keyword-only argument: 'a'",
     "output_type": "error",
     "traceback": [
      "\u001b[0;31m---------------------------------------------------------------------------\u001b[0m",
      "\u001b[0;31mTypeError\u001b[0m                                 Traceback (most recent call last)",
      "Cell \u001b[0;32mIn[17], line 1\u001b[0m\n\u001b[0;32m----> 1\u001b[0m \u001b[43mtest\u001b[49m\u001b[43m(\u001b[49m\u001b[38;5;124;43m\"\u001b[39;49m\u001b[38;5;124;43mHello\u001b[39;49m\u001b[38;5;124;43m\"\u001b[39;49m\u001b[43m)\u001b[49m\n",
      "\u001b[0;31mTypeError\u001b[0m: test() missing 1 required keyword-only argument: 'a'"
     ]
    }
   ],
   "source": [
    "test(\"Hello\")"
   ]
  },
  {
   "cell_type": "code",
   "execution_count": 18,
   "id": "fea0dd41-9c5e-476a-860b-9d938bdd961f",
   "metadata": {},
   "outputs": [
    {
     "data": {
      "text/plain": [
       "((), 'Hello')"
      ]
     },
     "execution_count": 18,
     "metadata": {},
     "output_type": "execute_result"
    }
   ],
   "source": [
    "test(a=\"Hello\")"
   ]
  },
  {
   "cell_type": "code",
   "execution_count": 20,
   "id": "487a065d-aeb6-4d44-96d9-f0da12c2ab23",
   "metadata": {},
   "outputs": [
    {
     "data": {
      "text/plain": [
       "((1, 2, 3, 'Hello World'), 'Hello')"
      ]
     },
     "execution_count": 20,
     "metadata": {},
     "output_type": "execute_result"
    }
   ],
   "source": [
    "test(1,2,3,\"Hello World\", a=\"Hello\")"
   ]
  },
  {
   "cell_type": "markdown",
   "id": "ec383daf-9816-452e-9bf0-35b4006d8724",
   "metadata": {},
   "source": [
    "#### Order can not be changes"
   ]
  },
  {
   "cell_type": "code",
   "execution_count": 23,
   "id": "9337474c-dd5c-4550-8fde-0a1355a174eb",
   "metadata": {},
   "outputs": [
    {
     "ename": "SyntaxError",
     "evalue": "positional argument follows keyword argument (2842622557.py, line 1)",
     "output_type": "error",
     "traceback": [
      "\u001b[0;36m  Cell \u001b[0;32mIn[23], line 1\u001b[0;36m\u001b[0m\n\u001b[0;31m    test(a=\"Hello\",args=1,2,3,4,5)\u001b[0m\n\u001b[0m                                 ^\u001b[0m\n\u001b[0;31mSyntaxError\u001b[0m\u001b[0;31m:\u001b[0m positional argument follows keyword argument\n"
     ]
    }
   ],
   "source": [
    "test(a=\"Hello\",args=1,2,3,4,5)"
   ]
  },
  {
   "cell_type": "markdown",
   "id": "5d777233-375f-4ffa-96dc-23ed1875ecbd",
   "metadata": {},
   "source": [
    "### Passing key and value pairs\n",
    "\n",
    "### N number of input in form of key value pairs"
   ]
  },
  {
   "cell_type": "code",
   "execution_count": 24,
   "id": "01c41f2b-194a-44be-8fc8-e0fb1cafbadf",
   "metadata": {},
   "outputs": [],
   "source": [
    "def test(**kwargs):\n",
    "    return kwargs"
   ]
  },
  {
   "cell_type": "code",
   "execution_count": 25,
   "id": "52598af5-ac62-42a4-be4c-2e0d53ab0a1c",
   "metadata": {},
   "outputs": [
    {
     "data": {
      "text/plain": [
       "{}"
      ]
     },
     "execution_count": 25,
     "metadata": {},
     "output_type": "execute_result"
    }
   ],
   "source": [
    "test()"
   ]
  },
  {
   "cell_type": "code",
   "execution_count": 26,
   "id": "9197e665-1b46-443d-a882-02d58315fc24",
   "metadata": {},
   "outputs": [
    {
     "data": {
      "text/plain": [
       "{'a': 34, 'b': 23, 'c': [1, 2, 3], 'd': ('Ujj', 'Kum')}"
      ]
     },
     "execution_count": 26,
     "metadata": {},
     "output_type": "execute_result"
    }
   ],
   "source": [
    "test(a=34, b=23, c=[1,2,3], d=(\"Ujj\", \"Kum\"))"
   ]
  },
  {
   "cell_type": "code",
   "execution_count": 27,
   "id": "5ae0b92e-8b4a-476a-9996-d0baafb4fe88",
   "metadata": {},
   "outputs": [],
   "source": [
    "def test(*args, **kwargs):\n",
    "    return args, kwargs"
   ]
  },
  {
   "cell_type": "code",
   "execution_count": 28,
   "id": "4876cf37-7e76-4c4b-bd87-a68856856ac2",
   "metadata": {},
   "outputs": [
    {
     "data": {
      "text/plain": [
       "((1, 2, 3, [1, 2, 3], 'Hello'), {'a': '1', 'b': '2'})"
      ]
     },
     "execution_count": 28,
     "metadata": {},
     "output_type": "execute_result"
    }
   ],
   "source": [
    "test(1,2,3,[1,2,3],\"Hello\", a=\"1\", b=\"2\")"
   ]
  },
  {
   "cell_type": "code",
   "execution_count": 29,
   "id": "78a1c15f-8499-432b-8692-ecd181b64f56",
   "metadata": {},
   "outputs": [
    {
     "ename": "SyntaxError",
     "evalue": "positional argument follows keyword argument (846069352.py, line 1)",
     "output_type": "error",
     "traceback": [
      "\u001b[0;36m  Cell \u001b[0;32mIn[29], line 1\u001b[0;36m\u001b[0m\n\u001b[0;31m    test(a=\"1\", b=\"2\",1,2,3,[1,2,3],\"Hello\")\u001b[0m\n\u001b[0m                                           ^\u001b[0m\n\u001b[0;31mSyntaxError\u001b[0m\u001b[0;31m:\u001b[0m positional argument follows keyword argument\n"
     ]
    }
   ],
   "source": [
    "test(a=\"1\", b=\"2\",1,2,3,[1,2,3],\"Hello\")"
   ]
  },
  {
   "cell_type": "markdown",
   "id": "21ad6f97-279d-43aa-b160-0a0bc497cd54",
   "metadata": {},
   "source": [
    "## Generator Functions\n",
    "\n",
    "#### Use : Normal functions create a bottleneck. Return only when entire iterable has been iterated. Too slow for large iterables because it collects the result and only returs at last. Holds the entire memory chunk at once\n",
    "\n",
    "#### **Generator Functions** only gives result one by one. Does not hold all the data in  memory at once"
   ]
  },
  {
   "cell_type": "code",
   "execution_count": 1,
   "id": "b1e1d43f-caca-46f2-8afe-b828ef832028",
   "metadata": {},
   "outputs": [
    {
     "data": {
      "text/plain": [
       "range(1, 11)"
      ]
     },
     "execution_count": 1,
     "metadata": {},
     "output_type": "execute_result"
    }
   ],
   "source": [
    "range(1,11)"
   ]
  },
  {
   "cell_type": "code",
   "execution_count": 2,
   "id": "3da1de70-ce8e-483d-9614-04079cab4f51",
   "metadata": {},
   "outputs": [],
   "source": [
    "def test_fibo(n):\n",
    "    a, b = 0, 1\n",
    "    for i in range(n):\n",
    "        yield a\n",
    "        a, b = b, a+b"
   ]
  },
  {
   "cell_type": "code",
   "execution_count": 3,
   "id": "fafd041b-16b9-4734-b9be-97953cf37933",
   "metadata": {},
   "outputs": [
    {
     "data": {
      "text/plain": [
       "<generator object test_fibo at 0x7f32c5748ba0>"
      ]
     },
     "execution_count": 3,
     "metadata": {},
     "output_type": "execute_result"
    }
   ],
   "source": [
    "test_fibo(10)"
   ]
  },
  {
   "cell_type": "code",
   "execution_count": 4,
   "id": "ec3a9e8c-5d79-491a-9105-889a61919cde",
   "metadata": {},
   "outputs": [
    {
     "name": "stdout",
     "output_type": "stream",
     "text": [
      "0\n",
      "1\n",
      "1\n",
      "2\n",
      "3\n",
      "5\n",
      "8\n",
      "13\n",
      "21\n",
      "34\n"
     ]
    }
   ],
   "source": [
    "for i in test_fibo(10):\n",
    "    print(i)"
   ]
  },
  {
   "cell_type": "code",
   "execution_count": 5,
   "id": "11d958ca-1d06-4ef0-9662-66b7ccfa75c5",
   "metadata": {},
   "outputs": [
    {
     "ename": "AttributeError",
     "evalue": "'generator' object has no attribute 'next'",
     "output_type": "error",
     "traceback": [
      "\u001b[0;31m---------------------------------------------------------------------------\u001b[0m",
      "\u001b[0;31mAttributeError\u001b[0m                            Traceback (most recent call last)",
      "Cell \u001b[0;32mIn[5], line 1\u001b[0m\n\u001b[0;32m----> 1\u001b[0m \u001b[43mtest_fibo\u001b[49m\u001b[43m(\u001b[49m\u001b[38;5;241;43m10\u001b[39;49m\u001b[43m)\u001b[49m\u001b[38;5;241;43m.\u001b[39;49m\u001b[43mnext\u001b[49m()\n",
      "\u001b[0;31mAttributeError\u001b[0m: 'generator' object has no attribute 'next'"
     ]
    }
   ],
   "source": [
    "test_fibo(10).next()"
   ]
  },
  {
   "cell_type": "markdown",
   "id": "b676bc41-9f72-4985-a8ae-0231d66fa497",
   "metadata": {},
   "source": [
    "## Lambda Function/ Anonymous Function\n"
   ]
  },
  {
   "cell_type": "code",
   "execution_count": 7,
   "id": "0522f2a6-39e6-46d3-bab5-42f386d90029",
   "metadata": {},
   "outputs": [],
   "source": [
    "a = lambda n,p:n**p"
   ]
  },
  {
   "cell_type": "code",
   "execution_count": 8,
   "id": "e5c12321-df52-4b38-850f-7eb0b6e9794a",
   "metadata": {},
   "outputs": [
    {
     "data": {
      "text/plain": [
       "9"
      ]
     },
     "execution_count": 8,
     "metadata": {},
     "output_type": "execute_result"
    }
   ],
   "source": [
    "a(3,2)"
   ]
  },
  {
   "cell_type": "code",
   "execution_count": 11,
   "id": "ebdb7443-ba60-4e4e-863f-a52cf0e12600",
   "metadata": {},
   "outputs": [],
   "source": [
    "max_bw_two = lambda x,y:x if x>y else y"
   ]
  },
  {
   "cell_type": "code",
   "execution_count": 12,
   "id": "63f3b2d8-0da2-4869-8d74-dedd47078259",
   "metadata": {},
   "outputs": [
    {
     "data": {
      "text/plain": [
       "3"
      ]
     },
     "execution_count": 12,
     "metadata": {},
     "output_type": "execute_result"
    }
   ],
   "source": [
    "max_bw_two(2,3)"
   ]
  },
  {
   "cell_type": "markdown",
   "id": "d3be36fc-fa36-40d4-baef-bb1dbb24efbd",
   "metadata": {},
   "source": [
    "## Map functions\n",
    "\n",
    "**Takes a function and applies it to every element of an iteratable**"
   ]
  },
  {
   "cell_type": "code",
   "execution_count": 14,
   "id": "51741c8b-f4a7-4efb-9bf9-2fbe6476db2f",
   "metadata": {},
   "outputs": [
    {
     "data": {
      "text/plain": [
       "[1, 4, 9, 16, 25]"
      ]
     },
     "execution_count": 14,
     "metadata": {},
     "output_type": "execute_result"
    }
   ],
   "source": [
    "l = [1,2,3,4,5]\n",
    "list(map(lambda x:x**2, l))"
   ]
  },
  {
   "cell_type": "code",
   "execution_count": 20,
   "id": "d692ed62-6b5e-48b6-a494-056f74596938",
   "metadata": {},
   "outputs": [],
   "source": [
    "l1 = [1,2,3,4,5]\n",
    "l2 = [6,7,8,9,10,11]"
   ]
  },
  {
   "cell_type": "code",
   "execution_count": 21,
   "id": "1d3cced9-ec0a-4476-8223-8d276e5d3dbe",
   "metadata": {},
   "outputs": [
    {
     "data": {
      "text/plain": [
       "[7, 9, 11, 13, 15]"
      ]
     },
     "execution_count": 21,
     "metadata": {},
     "output_type": "execute_result"
    }
   ],
   "source": [
    "list(map(lambda x, y:x+y, l1, l2))"
   ]
  },
  {
   "cell_type": "markdown",
   "id": "81de4ddb-6804-4d3f-919c-bd2c15475ad0",
   "metadata": {},
   "source": [
    "## Reduce Function\n",
    "\n",
    "**Better for function with 2 arguments**"
   ]
  },
  {
   "cell_type": "code",
   "execution_count": 22,
   "id": "25d3bc7e-abfc-4e49-9215-93ae92496600",
   "metadata": {},
   "outputs": [],
   "source": [
    "import functools as f"
   ]
  },
  {
   "cell_type": "code",
   "execution_count": 25,
   "id": "b70d4a25-7d9e-47b5-8dc5-42c8e519e6ae",
   "metadata": {},
   "outputs": [
    {
     "data": {
      "text/plain": [
       "15"
      ]
     },
     "execution_count": 25,
     "metadata": {},
     "output_type": "execute_result"
    }
   ],
   "source": [
    "f.reduce(lambda x, y:x+y, [1,2,3,4,5])"
   ]
  },
  {
   "cell_type": "code",
   "execution_count": 29,
   "id": "d4a9eed7-f248-4bd8-bf84-fc0515ce3e17",
   "metadata": {},
   "outputs": [
    {
     "data": {
      "text/plain": [
       "1"
      ]
     },
     "execution_count": 29,
     "metadata": {},
     "output_type": "execute_result"
    }
   ],
   "source": [
    "f.reduce(lambda x, y:x**y, [1,2,3,4,5])"
   ]
  },
  {
   "cell_type": "code",
   "execution_count": 27,
   "id": "2a2634f6-e82e-4c67-83dc-8ed4f8af070c",
   "metadata": {},
   "outputs": [
    {
     "data": {
      "text/plain": [
       "[1, 4, 9, 16, 25]"
      ]
     },
     "execution_count": 27,
     "metadata": {},
     "output_type": "execute_result"
    }
   ],
   "source": [
    "list(map(lambda x:x**2, [1,2,3,4,5]))"
   ]
  },
  {
   "cell_type": "markdown",
   "id": "099fe3fb-a443-4ce0-a6fe-c57fcab8e948",
   "metadata": {},
   "source": [
    "## Filter Functions"
   ]
  },
  {
   "cell_type": "code",
   "execution_count": 31,
   "id": "bcbc9393-32b4-4e83-a3de-b7b77a041d63",
   "metadata": {},
   "outputs": [],
   "source": [
    "l = [i for i in range(1, 11)]"
   ]
  },
  {
   "cell_type": "code",
   "execution_count": 32,
   "id": "e53360e4-0b87-4d63-ad62-f5fdb8cec511",
   "metadata": {},
   "outputs": [
    {
     "data": {
      "text/plain": [
       "[2, 4, 6, 8, 10]"
      ]
     },
     "execution_count": 32,
     "metadata": {},
     "output_type": "execute_result"
    }
   ],
   "source": [
    "list(filter(lambda x:x%2==0, l))"
   ]
  },
  {
   "cell_type": "code",
   "execution_count": null,
   "id": "1c9629e2-0839-4b9f-9b98-3ece1a6dcc8b",
   "metadata": {},
   "outputs": [],
   "source": []
  }
 ],
 "metadata": {
  "kernelspec": {
   "display_name": "Python 3 (ipykernel)",
   "language": "python",
   "name": "python3"
  },
  "language_info": {
   "codemirror_mode": {
    "name": "ipython",
    "version": 3
   },
   "file_extension": ".py",
   "mimetype": "text/x-python",
   "name": "python",
   "nbconvert_exporter": "python",
   "pygments_lexer": "ipython3",
   "version": "3.10.8"
  }
 },
 "nbformat": 4,
 "nbformat_minor": 5
}
