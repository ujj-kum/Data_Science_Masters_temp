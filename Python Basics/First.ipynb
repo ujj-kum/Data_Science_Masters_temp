{
 "cells": [
  {
   "cell_type": "markdown",
   "id": "cf07a15e-a1d3-4046-898b-889503b46e67",
   "metadata": {},
   "source": [
    "### Complex Numbers"
   ]
  },
  {
   "cell_type": "code",
   "execution_count": 1,
   "id": "fd1670b8-e1c1-4921-a904-d4946ad16780",
   "metadata": {},
   "outputs": [
    {
     "name": "stdout",
     "output_type": "stream",
     "text": [
      "<class 'complex'>\n",
      "(3+2j)\n"
     ]
    }
   ],
   "source": [
    "x = 3+2j\n",
    "print(type(x))\n",
    "print(x)"
   ]
  },
  {
   "cell_type": "code",
   "execution_count": 2,
   "id": "1e3e5a37-1f48-44b3-89f4-ddfb5d30a767",
   "metadata": {},
   "outputs": [
    {
     "name": "stdout",
     "output_type": "stream",
     "text": [
      "Real =  3.0\n",
      "Imaginary =  2.0\n"
     ]
    }
   ],
   "source": [
    "print(\"Real = \",x.real)\n",
    "print(\"Imaginary = \",x.imag)"
   ]
  },
  {
   "cell_type": "code",
   "execution_count": 4,
   "id": "6948a6cc-5c0f-4067-8b03-e185565482de",
   "metadata": {},
   "outputs": [
    {
     "data": {
      "text/plain": [
       "2"
      ]
     },
     "execution_count": 4,
     "metadata": {},
     "output_type": "execute_result"
    }
   ],
   "source": [
    "_ = 2\n",
    "_"
   ]
  },
  {
   "cell_type": "markdown",
   "id": "99f5378e-d24a-4b94-ae8e-a5c131edd861",
   "metadata": {},
   "source": [
    "### Bitwise Operators\n",
    "1. **&** Binary And \n",
    "2. **|** Binary Or\n",
    "3. **~** Binary Negate\n",
    "\n",
    "First Convert Data to bits and then apply the operations"
   ]
  },
  {
   "cell_type": "code",
   "execution_count": 11,
   "id": "1df319b6-f8a1-4cba-b02d-498da1a9b9a1",
   "metadata": {
    "tags": []
   },
   "outputs": [
    {
     "data": {
      "text/plain": [
       "10"
      ]
     },
     "execution_count": 11,
     "metadata": {},
     "output_type": "execute_result"
    }
   ],
   "source": [
    "10&10"
   ]
  },
  {
   "cell_type": "code",
   "execution_count": 2,
   "id": "b9a009ca-c0df-42d7-b1ce-de99f3ba969c",
   "metadata": {},
   "outputs": [
    {
     "data": {
      "text/plain": [
       "3"
      ]
     },
     "execution_count": 2,
     "metadata": {},
     "output_type": "execute_result"
    }
   ],
   "source": [
    "23&3"
   ]
  },
  {
   "cell_type": "code",
   "execution_count": 5,
   "id": "199fd859-9655-4290-9cc4-025eb1d57a29",
   "metadata": {},
   "outputs": [
    {
     "data": {
      "text/plain": [
       "'10111'"
      ]
     },
     "execution_count": 5,
     "metadata": {},
     "output_type": "execute_result"
    }
   ],
   "source": [
    "bin(23).replace(\"0b\",'')"
   ]
  },
  {
   "cell_type": "code",
   "execution_count": 7,
   "id": "26cdf861-2946-47e6-8230-fa7d34ce5abe",
   "metadata": {},
   "outputs": [
    {
     "data": {
      "text/plain": [
       "'11'"
      ]
     },
     "execution_count": 7,
     "metadata": {},
     "output_type": "execute_result"
    }
   ],
   "source": [
    "bin(3).replace('0b','')"
   ]
  },
  {
   "cell_type": "code",
   "execution_count": 9,
   "id": "bf4ce235-e427-440d-9efd-49fbe12f9b10",
   "metadata": {},
   "outputs": [
    {
     "data": {
      "text/plain": [
       "0"
      ]
     },
     "execution_count": 9,
     "metadata": {},
     "output_type": "execute_result"
    }
   ],
   "source": [
    "24 & 5"
   ]
  },
  {
   "cell_type": "code",
   "execution_count": 10,
   "id": "038d1f53-dea9-432b-b1f8-4be04bb92b9c",
   "metadata": {},
   "outputs": [
    {
     "data": {
      "text/plain": [
       "('0b11000', '0b101')"
      ]
     },
     "execution_count": 10,
     "metadata": {},
     "output_type": "execute_result"
    }
   ],
   "source": [
    "bin(24), bin(5)"
   ]
  },
  {
   "cell_type": "code",
   "execution_count": 15,
   "id": "9726f01b-e155-4115-824c-ed39e9adec7e",
   "metadata": {},
   "outputs": [
    {
     "data": {
      "text/plain": [
       "32"
      ]
     },
     "execution_count": 15,
     "metadata": {},
     "output_type": "execute_result"
    }
   ],
   "source": [
    "~-33"
   ]
  },
  {
   "cell_type": "code",
   "execution_count": 13,
   "id": "295e95f5-1841-41a6-8e89-ee0908e3b05a",
   "metadata": {},
   "outputs": [
    {
     "data": {
      "text/plain": [
       "('0b100000', '-0b100001')"
      ]
     },
     "execution_count": 13,
     "metadata": {},
     "output_type": "execute_result"
    }
   ],
   "source": [
    "bin(32), bin(-33)"
   ]
  },
  {
   "cell_type": "code",
   "execution_count": 21,
   "id": "9d0fc29e-1f41-4e31-8348-dbde13c46828",
   "metadata": {},
   "outputs": [
    {
     "name": "stdout",
     "output_type": "stream",
     "text": [
      "0\n",
      "1\n",
      "2\n",
      "4\n",
      "5\n",
      "6\n",
      "7\n",
      "8\n",
      "9\n",
      "Will run only once\n"
     ]
    }
   ],
   "source": [
    "for i in range(10):\n",
    "    if i==3:\n",
    "        continue\n",
    "    print(i)\n",
    "else:\n",
    "    print(\"Will run only once\")"
   ]
  },
  {
   "cell_type": "code",
   "execution_count": 23,
   "id": "8cc8cf95-279c-4b04-bcd4-e0f9cb779d19",
   "metadata": {},
   "outputs": [
    {
     "data": {
      "text/plain": [
       "[0, 1, 2, 3, 4, 5, 6, 7, 8, 9]"
      ]
     },
     "execution_count": 23,
     "metadata": {},
     "output_type": "execute_result"
    }
   ],
   "source": [
    "list(range(10))"
   ]
  },
  {
   "cell_type": "raw",
   "id": "faf924bc-b86a-471f-9b1e-f82e8b22198a",
   "metadata": {},
   "source": [
    "print(\"Hello\")"
   ]
  },
  {
   "cell_type": "raw",
   "id": "cb75e189-6d03-4bf9-8c20-e3f5cbcdb772",
   "metadata": {},
   "source": [
    "%%html\n",
    "<iframe src=\"https://example.com/index.html\"></iframe>"
   ]
  },
  {
   "cell_type": "code",
   "execution_count": 27,
   "id": "a4a6b6d1-6974-4ded-92ad-d627b34946d2",
   "metadata": {},
   "outputs": [
    {
     "data": {
      "text/plain": [
       "'Hello'"
      ]
     },
     "execution_count": 27,
     "metadata": {},
     "output_type": "execute_result"
    }
   ],
   "source": [
    "a=\"Hello\"\n",
    "a"
   ]
  },
  {
   "cell_type": "code",
   "execution_count": 28,
   "id": "7eaef795-1991-4f20-b262-2a6ded9871d2",
   "metadata": {},
   "outputs": [
    {
     "name": "stdout",
     "output_type": "stream",
     "text": [
      "Hello\n"
     ]
    }
   ],
   "source": [
    "print(a)"
   ]
  },
  {
   "cell_type": "markdown",
   "id": "c2db14d2-8e06-4526-aded-50914ed8645b",
   "metadata": {},
   "source": [
    "### String Format"
   ]
  },
  {
   "cell_type": "code",
   "execution_count": 1,
   "id": "f9776e3a-9629-4ffd-9036-7a3a348d614e",
   "metadata": {},
   "outputs": [],
   "source": [
    "name = \"Ujjwal Kumar\"\n",
    "age = 24\n",
    "degree = \"B.Tech\""
   ]
  },
  {
   "cell_type": "code",
   "execution_count": null,
   "id": "c82b22ce-aeab-46d8-b12f-a938b741bb4e",
   "metadata": {},
   "outputs": [],
   "source": [
    "print(\"My name is {} and I have com\")"
   ]
  },
  {
   "cell_type": "markdown",
   "id": "78b092e9-c1b2-4db7-81cd-670b09a00749",
   "metadata": {},
   "source": [
    "# Equilateral Triangle"
   ]
  },
  {
   "cell_type": "code",
   "execution_count": 16,
   "id": "f86d4633-0eb1-4fe2-93a3-aa2615c4e210",
   "metadata": {},
   "outputs": [
    {
     "name": "stdout",
     "output_type": "stream",
     "text": [
      "          \n",
      "         *\n",
      "        ***\n",
      "       *****\n",
      "      *******\n",
      "     *********\n",
      "    ***********\n",
      "   *************\n",
      "  ***************\n",
      " *****************\n"
     ]
    }
   ],
   "source": [
    "n = 10\n",
    "for i in range(n):\n",
    "    for space in range(n-i):\n",
    "        print(\" \",end=\"\")\n",
    "    for star in range(i):\n",
    "        print(\"*\",end=\"\")\n",
    "    for star in range(i-1):\n",
    "        print(\"*\", end=\"\")\n",
    "    print(\"\\r\")"
   ]
  },
  {
   "cell_type": "markdown",
   "id": "dd58eb1c-cc6f-441d-b720-455daa14c6d5",
   "metadata": {},
   "source": [
    "# (id) Function"
   ]
  },
  {
   "cell_type": "markdown",
   "id": "2407a6c0-9b35-4d89-ae89-95f400c73864",
   "metadata": {},
   "source": [
    "### is => True when both variables refer to same memory address"
   ]
  },
  {
   "cell_type": "code",
   "execution_count": 1,
   "id": "6dded28c-6ffa-41af-a9e4-14ff467b351f",
   "metadata": {},
   "outputs": [
    {
     "name": "stdout",
     "output_type": "stream",
     "text": [
      "139947416252544\n",
      "139947416252288\n"
     ]
    }
   ],
   "source": [
    "a = [1,2,3]\n",
    "b = [1,2,3]\n",
    "print(id(a))\n",
    "print(id(b))"
   ]
  },
  {
   "cell_type": "code",
   "execution_count": 2,
   "id": "217f1926-56f9-4951-8820-30a77b9c1bb1",
   "metadata": {},
   "outputs": [
    {
     "data": {
      "text/plain": [
       "False"
      ]
     },
     "execution_count": 2,
     "metadata": {},
     "output_type": "execute_result"
    }
   ],
   "source": [
    "a is b"
   ]
  },
  {
   "cell_type": "code",
   "execution_count": 3,
   "id": "1e551c29-f889-4b1b-809a-4016ddb11c76",
   "metadata": {},
   "outputs": [
    {
     "data": {
      "text/plain": [
       "True"
      ]
     },
     "execution_count": 3,
     "metadata": {},
     "output_type": "execute_result"
    }
   ],
   "source": [
    "a==b"
   ]
  },
  {
   "cell_type": "code",
   "execution_count": 4,
   "id": "ea0b7dad-b50a-4e0c-80de-dac4d0703553",
   "metadata": {},
   "outputs": [
    {
     "name": "stdout",
     "output_type": "stream",
     "text": [
      "139947416249600\n",
      "139947416249600\n"
     ]
    }
   ],
   "source": [
    "a = [1,2,3]\n",
    "b = a\n",
    "print(id(a))\n",
    "print(id(b))"
   ]
  },
  {
   "cell_type": "code",
   "execution_count": 5,
   "id": "a16f81a2-5784-416c-bcce-6a17f4c6bbaa",
   "metadata": {},
   "outputs": [
    {
     "data": {
      "text/plain": [
       "True"
      ]
     },
     "execution_count": 5,
     "metadata": {},
     "output_type": "execute_result"
    }
   ],
   "source": [
    "a is b"
   ]
  },
  {
   "cell_type": "code",
   "execution_count": 6,
   "id": "12476fa7-3c34-46b8-b8de-844dbcea0770",
   "metadata": {},
   "outputs": [
    {
     "name": "stdout",
     "output_type": "stream",
     "text": [
      "139947483414800\n",
      "139947483414800\n"
     ]
    },
    {
     "data": {
      "text/plain": [
       "True"
      ]
     },
     "execution_count": 6,
     "metadata": {},
     "output_type": "execute_result"
    }
   ],
   "source": [
    "a = 2\n",
    "b = 2\n",
    "print(id(a))\n",
    "print(id(b))\n",
    "a is b"
   ]
  },
  {
   "cell_type": "code",
   "execution_count": 7,
   "id": "236c83e4-6cfd-4755-b14e-3c18fca356d1",
   "metadata": {},
   "outputs": [
    {
     "name": "stdout",
     "output_type": "stream",
     "text": [
      "139947416176048\n",
      "139947416177776\n"
     ]
    },
    {
     "data": {
      "text/plain": [
       "False"
      ]
     },
     "execution_count": 7,
     "metadata": {},
     "output_type": "execute_result"
    }
   ],
   "source": [
    "a = \"Hello World\"\n",
    "b = \"Hello World\"\n",
    "print(id(a))\n",
    "print(id(b))\n",
    "a is b"
   ]
  },
  {
   "cell_type": "code",
   "execution_count": 8,
   "id": "7bb72f60-0a35-4102-a27b-bd51cf4ef1df",
   "metadata": {},
   "outputs": [
    {
     "name": "stdout",
     "output_type": "stream",
     "text": [
      "139947440563072\n",
      "139947416198464\n"
     ]
    },
    {
     "data": {
      "text/plain": [
       "False"
      ]
     },
     "execution_count": 8,
     "metadata": {},
     "output_type": "execute_result"
    }
   ],
   "source": [
    "a = (1,2,3)\n",
    "b = (1,2,3)\n",
    "print(id(a))\n",
    "print(id(b))\n",
    "a is b"
   ]
  },
  {
   "cell_type": "code",
   "execution_count": 9,
   "id": "aaaa6fc7-d268-41c4-acec-287d47e0ae00",
   "metadata": {},
   "outputs": [
    {
     "name": "stdout",
     "output_type": "stream",
     "text": [
      "139947416188544\n",
      "139947416186816\n"
     ]
    },
    {
     "data": {
      "text/plain": [
       "False"
      ]
     },
     "execution_count": 9,
     "metadata": {},
     "output_type": "execute_result"
    }
   ],
   "source": [
    "a = {1:1,2:2,3:3}\n",
    "b = {1:1,2:2,3:3}\n",
    "print(id(a))\n",
    "print(id(b))\n",
    "a is b"
   ]
  },
  {
   "cell_type": "markdown",
   "id": "bce8b475-204c-4d58-9a7e-5cf97bb23b73",
   "metadata": {},
   "source": [
    "### Conclusion => Only for int and str, IDs will be same if the values are same"
   ]
  },
  {
   "cell_type": "code",
   "execution_count": 11,
   "id": "af099cd3-5088-4f1c-be81-9b46bf78c9bc",
   "metadata": {},
   "outputs": [],
   "source": [
    "s = \"Data Science Masters\""
   ]
  },
  {
   "cell_type": "code",
   "execution_count": 13,
   "id": "f2f496f6-00b9-47e1-a60f-09d53f9534ef",
   "metadata": {},
   "outputs": [
    {
     "data": {
      "text/plain": [
       "'Science'"
      ]
     },
     "execution_count": 13,
     "metadata": {},
     "output_type": "execute_result"
    }
   ],
   "source": [
    "s[5:12]"
   ]
  },
  {
   "cell_type": "code",
   "execution_count": 27,
   "id": "02afa883-faee-4118-b097-22c11c7be69f",
   "metadata": {},
   "outputs": [
    {
     "data": {
      "text/plain": [
       "'Science'"
      ]
     },
     "execution_count": 27,
     "metadata": {},
     "output_type": "execute_result"
    }
   ],
   "source": [
    "s[-15:-8]"
   ]
  },
  {
   "cell_type": "code",
   "execution_count": 35,
   "id": "b1eaafdf-6f69-4913-8fcf-f1205c24818f",
   "metadata": {},
   "outputs": [
    {
     "data": {
      "text/plain": [
       "'cneicS'"
      ]
     },
     "execution_count": 35,
     "metadata": {},
     "output_type": "execute_result"
    }
   ],
   "source": [
    "s[10:4:-1]"
   ]
  },
  {
   "cell_type": "markdown",
   "id": "e2b0385d-d24d-4c83-a46d-6d2db27ef19f",
   "metadata": {},
   "source": [
    "### Conclusion => While moving to right, step size should be +ve, while moving to left step size should be -ve"
   ]
  },
  {
   "cell_type": "code",
   "execution_count": 28,
   "id": "3baef201-5d03-47b2-8922-374d97c8dbe7",
   "metadata": {},
   "outputs": [
    {
     "data": {
      "text/plain": [
       "21"
      ]
     },
     "execution_count": 28,
     "metadata": {},
     "output_type": "execute_result"
    }
   ],
   "source": [
    "course = \"Data Science Masters\"\n",
    "course.count(\"\")"
   ]
  },
  {
   "cell_type": "code",
   "execution_count": 29,
   "id": "77fac737-4719-49c0-9bb3-d5bfeec639ba",
   "metadata": {},
   "outputs": [
    {
     "data": {
      "text/plain": [
       "20"
      ]
     },
     "execution_count": 29,
     "metadata": {},
     "output_type": "execute_result"
    }
   ],
   "source": [
    "len(course)"
   ]
  },
  {
   "cell_type": "code",
   "execution_count": 30,
   "id": "0ffe2895-20bf-4f88-b168-44f719d71324",
   "metadata": {},
   "outputs": [
    {
     "data": {
      "text/plain": [
       "['Data ', 'cience Masters']"
      ]
     },
     "execution_count": 30,
     "metadata": {},
     "output_type": "execute_result"
    }
   ],
   "source": [
    "course.split(\"S\")"
   ]
  },
  {
   "cell_type": "code",
   "execution_count": 31,
   "id": "bf0d8f24-0320-4ab0-98b9-cc58cd74f27b",
   "metadata": {},
   "outputs": [
    {
     "data": {
      "text/plain": [
       "('Data ', 'S', 'cience Masters')"
      ]
     },
     "execution_count": 31,
     "metadata": {},
     "output_type": "execute_result"
    }
   ],
   "source": [
    "course.partition(\"S\")"
   ]
  },
  {
   "cell_type": "code",
   "execution_count": 33,
   "id": "1119878d-105b-4de2-96b5-e35323473773",
   "metadata": {},
   "outputs": [
    {
     "data": {
      "text/plain": [
       "'S ataD sll'"
      ]
     },
     "execution_count": 33,
     "metadata": {},
     "output_type": "execute_result"
    }
   ],
   "source": [
    "course = \"PW Skills Data Science\"\n",
    "course[-7:5:-1]"
   ]
  },
  {
   "cell_type": "code",
   "execution_count": 36,
   "id": "cf5bd201-f04d-4713-9b7e-6e2e117e45b4",
   "metadata": {},
   "outputs": [
    {
     "data": {
      "text/plain": [
       "15"
      ]
     },
     "execution_count": 36,
     "metadata": {},
     "output_type": "execute_result"
    }
   ],
   "source": [
    "course.find(\"Science\")"
   ]
  },
  {
   "cell_type": "code",
   "execution_count": null,
   "id": "e727817d-c274-4a4f-a230-60b30ce459fa",
   "metadata": {},
   "outputs": [],
   "source": [
    "\" \""
   ]
  }
 ],
 "metadata": {
  "kernelspec": {
   "display_name": "Python 3 (ipykernel)",
   "language": "python",
   "name": "python3"
  },
  "language_info": {
   "codemirror_mode": {
    "name": "ipython",
    "version": 3
   },
   "file_extension": ".py",
   "mimetype": "text/x-python",
   "name": "python",
   "nbconvert_exporter": "python",
   "pygments_lexer": "ipython3",
   "version": "3.10.8"
  }
 },
 "nbformat": 4,
 "nbformat_minor": 5
}
