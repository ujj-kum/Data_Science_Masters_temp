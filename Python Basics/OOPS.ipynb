{
 "cells": [
  {
   "cell_type": "markdown",
   "id": "476b9e94-7ceb-464f-bf5d-42a498b3b001",
   "metadata": {},
   "source": [
    "# OOPS->Object Oriented Programming System\n",
    "\n",
    "* Classes->Blueprint\n",
    "* Objects/Instance/Variable Entities->Real world entities"
   ]
  },
  {
   "cell_type": "code",
   "execution_count": 4,
   "id": "a2f41f8e-c0cc-4f1e-964e-0601cdafd574",
   "metadata": {},
   "outputs": [],
   "source": [
    "class pwskills:\n",
    "    def welcome_msg(self):\n",
    "        print(\"Welcome to pwskills\")"
   ]
  },
  {
   "cell_type": "code",
   "execution_count": 5,
   "id": "3cc44896-29c6-4799-8fcd-499c4931047a",
   "metadata": {},
   "outputs": [],
   "source": [
    "rohan = pwskills()"
   ]
  },
  {
   "cell_type": "code",
   "execution_count": 6,
   "id": "0aa862a2-4cc6-48cc-814c-50f3d01e3879",
   "metadata": {},
   "outputs": [
    {
     "name": "stdout",
     "output_type": "stream",
     "text": [
      "Welcome to pwskills\n"
     ]
    }
   ],
   "source": [
    "rohan.welcome_msg()"
   ]
  },
  {
   "cell_type": "markdown",
   "id": "2959d6b3-216b-45db-abdf-b0791dc39068",
   "metadata": {},
   "source": [
    "### Constructor helps class to take data\n",
    "\n",
    "* self is not a keyword, just a reference name. can use any string value"
   ]
  },
  {
   "cell_type": "code",
   "execution_count": 7,
   "id": "d1372c79-f519-4eb8-b56b-18d6b5ea3af8",
   "metadata": {},
   "outputs": [],
   "source": [
    "class pwskills:\n",
    "    def __init__(self, phone_number, email_id, student_id):\n",
    "        self.phone_number = phone_number\n",
    "        self.email_id = email_id\n",
    "        self.student_id = student_id\n",
    "    def return_student_detailsa(self):\n",
    "        return self.phone_number, self.email_id, self.student_id    "
   ]
  },
  {
   "cell_type": "code",
   "execution_count": 10,
   "id": "7ea526a0-8e79-4806-85d2-63dd6833b5c2",
   "metadata": {},
   "outputs": [],
   "source": [
    "rohan = pwskills(12345, \"a@b.com\", 1)"
   ]
  },
  {
   "cell_type": "code",
   "execution_count": 11,
   "id": "a861acd4-eb9c-4b79-a59b-abaa6766e151",
   "metadata": {},
   "outputs": [
    {
     "data": {
      "text/plain": [
       "(12345, 'a@b.com', 1)"
      ]
     },
     "execution_count": 11,
     "metadata": {},
     "output_type": "execute_result"
    }
   ],
   "source": [
    "rohan.return_student_details()"
   ]
  },
  {
   "cell_type": "code",
   "execution_count": 14,
   "id": "1fa1982c-a352-43c6-ab82-86b376b791d5",
   "metadata": {},
   "outputs": [],
   "source": [
    "class pwskills:\n",
    "    def __init__(ujj, phone_number, email_id, student_id):\n",
    "        ujj.phone_number = phone_number\n",
    "        ujj.email_id = email_id\n",
    "        ujj.student_id = student_id\n",
    "    def return_student_details(ujj):\n",
    "        return ujj.phone_number, ujj.email_id, ujj.student_id    "
   ]
  },
  {
   "cell_type": "markdown",
   "id": "e0bdde9a-43b3-4e86-acd2-ac91a6ccab44",
   "metadata": {},
   "source": [
    "### Polymorphism\n",
    "\n",
    "* Same function behaves differently with different inputs"
   ]
  },
  {
   "cell_type": "code",
   "execution_count": 15,
   "id": "40bd296d-a923-4273-804b-ba22591bf756",
   "metadata": {},
   "outputs": [],
   "source": [
    "def test(a, b):\n",
    "    return a+b"
   ]
  },
  {
   "cell_type": "code",
   "execution_count": 16,
   "id": "5940df2e-dfee-4e2d-aa58-ac67625e053b",
   "metadata": {},
   "outputs": [
    {
     "data": {
      "text/plain": [
       "3"
      ]
     },
     "execution_count": 16,
     "metadata": {},
     "output_type": "execute_result"
    }
   ],
   "source": [
    "test(1, 2)"
   ]
  },
  {
   "cell_type": "code",
   "execution_count": 17,
   "id": "87066fc2-86bd-4ad8-a08c-6bdfe405302c",
   "metadata": {},
   "outputs": [
    {
     "data": {
      "text/plain": [
       "'UjjwalKumar'"
      ]
     },
     "execution_count": 17,
     "metadata": {},
     "output_type": "execute_result"
    }
   ],
   "source": [
    "test(\"Ujjwal\", \"Kumar\")"
   ]
  },
  {
   "cell_type": "code",
   "execution_count": 18,
   "id": "7aab84df-984e-436b-b3aa-a4a50929e238",
   "metadata": {},
   "outputs": [
    {
     "data": {
      "text/plain": [
       "[1, 2, 3, 4, 5, 6]"
      ]
     },
     "execution_count": 18,
     "metadata": {},
     "output_type": "execute_result"
    }
   ],
   "source": [
    "test([1,2,3], [4,5,6])"
   ]
  },
  {
   "cell_type": "code",
   "execution_count": 19,
   "id": "9a0b2f45-79e8-4933-afb0-e7d580394731",
   "metadata": {},
   "outputs": [],
   "source": [
    "class Data_Science:\n",
    "    def syllabus(self):\n",
    "        print(\"This is Data Science\")"
   ]
  },
  {
   "cell_type": "code",
   "execution_count": 20,
   "id": "ae625bf9-9cd1-4d20-9fe8-a92edbe61043",
   "metadata": {},
   "outputs": [],
   "source": [
    "class Web_Dev:\n",
    "    def syllabus(self):\n",
    "        print(\"This is Web Dev\")"
   ]
  },
  {
   "cell_type": "code",
   "execution_count": 25,
   "id": "fd28d7c6-b90d-40cb-8f2e-0ac5696f58a4",
   "metadata": {},
   "outputs": [],
   "source": [
    "def class_parser(class_obj):\n",
    "    for i in class_obj:\n",
    "        i.syllabus()\n",
    "        #Syallabus function behaves diffently with diffn object"
   ]
  },
  {
   "cell_type": "code",
   "execution_count": 22,
   "id": "435c26ec-5a89-4271-a044-f409428869c8",
   "metadata": {},
   "outputs": [],
   "source": [
    "obj_data_science = Data_Science()\n",
    "obj_web_dev = Web_Dev()"
   ]
  },
  {
   "cell_type": "code",
   "execution_count": 23,
   "id": "296d30ce-eafa-4f16-a486-25db95ff2113",
   "metadata": {},
   "outputs": [],
   "source": [
    "class_obj = [obj_data_science, obj_web_dev]"
   ]
  },
  {
   "cell_type": "code",
   "execution_count": 24,
   "id": "576ec976-3a0f-4102-84ec-6884cb2442f2",
   "metadata": {},
   "outputs": [
    {
     "name": "stdout",
     "output_type": "stream",
     "text": [
      "This is Data Science\n",
      "This is Web Dev\n"
     ]
    }
   ],
   "source": [
    "class_parser(class_obj)"
   ]
  },
  {
   "cell_type": "markdown",
   "id": "409d4063-f8a3-488a-b0e3-ee367596ad3f",
   "metadata": {},
   "source": [
    "# Encapsulation"
   ]
  },
  {
   "cell_type": "code",
   "execution_count": null,
   "id": "5e89b6c6-5789-4921-8084-7051f7c62109",
   "metadata": {},
   "outputs": [],
   "source": [
    "class test:\n",
    "    def try(self, a, b):\n",
    "        self.__a = a\n",
    "        self.__b = b\n",
    "\n",
    "obj_test = test()\n",
    "obj_test.__a, obj_test.__b"
   ]
  },
  {
   "cell_type": "code",
   "execution_count": null,
   "id": "09742984-8b0f-407d-a759-5e4e11069f3b",
   "metadata": {},
   "outputs": [],
   "source": []
  }
 ],
 "metadata": {
  "kernelspec": {
   "display_name": "Python 3 (ipykernel)",
   "language": "python",
   "name": "python3"
  },
  "language_info": {
   "codemirror_mode": {
    "name": "ipython",
    "version": 3
   },
   "file_extension": ".py",
   "mimetype": "text/x-python",
   "name": "python",
   "nbconvert_exporter": "python",
   "pygments_lexer": "ipython3",
   "version": "3.10.8"
  }
 },
 "nbformat": 4,
 "nbformat_minor": 5
}
