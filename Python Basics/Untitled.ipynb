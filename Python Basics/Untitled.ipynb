{
 "cells": [
  {
   "cell_type": "markdown",
   "id": "969b9e44-b42f-4335-a937-c57ce4a49dec",
   "metadata": {},
   "source": [
    "# OOPS-> Object Oriented Programming System #\n",
    "\n",
    "* Class -> Real World Entity "
   ]
  },
  {
   "cell_type": "code",
   "execution_count": 1,
   "id": "9fd09ccb-edca-402b-a10b-66a4d3913ce1",
   "metadata": {},
   "outputs": [],
   "source": [
    "class Test:\n",
    "    pass"
   ]
  },
  {
   "cell_type": "markdown",
   "id": "0b8967bf-f327-4d3e-bab6-a982fbf16daa",
   "metadata": {},
   "source": [
    "**a is the object/variable/instance of class Test**"
   ]
  },
  {
   "cell_type": "code",
   "execution_count": 3,
   "id": "ce490000-13b6-4989-8eb7-4cddb71c13e5",
   "metadata": {},
   "outputs": [
    {
     "name": "stdout",
     "output_type": "stream",
     "text": [
      "<class '__main__.Test'>\n"
     ]
    }
   ],
   "source": [
    "a = Test()\n",
    "print(type(a))"
   ]
  },
  {
   "cell_type": "code",
   "execution_count": 6,
   "id": "af773362-ce8b-4506-aaeb-dfce80ca61e0",
   "metadata": {},
   "outputs": [],
   "source": [
    "class pwskills:\n",
    "    def welcome_msg(self):\n",
    "        print(\"Welcome to pwskills\")"
   ]
  },
  {
   "cell_type": "code",
   "execution_count": 8,
   "id": "1aea1455-cf9b-463a-aa56-90bf6e8aed8a",
   "metadata": {},
   "outputs": [
    {
     "name": "stdout",
     "output_type": "stream",
     "text": [
      "Welcome to pwskills\n"
     ]
    }
   ],
   "source": [
    "rohan = pwskills()\n",
    "rohan.welcome_msg()"
   ]
  },
  {
   "cell_type": "code",
   "execution_count": null,
   "id": "7a8196d7-85e3-4074-b911-6cec74eecacb",
   "metadata": {},
   "outputs": [],
   "source": []
  }
 ],
 "metadata": {
  "kernelspec": {
   "display_name": "Python 3 (ipykernel)",
   "language": "python",
   "name": "python3"
  },
  "language_info": {
   "codemirror_mode": {
    "name": "ipython",
    "version": 3
   },
   "file_extension": ".py",
   "mimetype": "text/x-python",
   "name": "python",
   "nbconvert_exporter": "python",
   "pygments_lexer": "ipython3",
   "version": "3.10.8"
  }
 },
 "nbformat": 4,
 "nbformat_minor": 5
}
