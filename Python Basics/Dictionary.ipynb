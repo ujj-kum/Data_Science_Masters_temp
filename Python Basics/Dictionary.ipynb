{
 "cells": [
  {
   "cell_type": "code",
   "execution_count": 1,
   "id": "769ba10e-9a6c-4407-bf99-a041130ffd65",
   "metadata": {},
   "outputs": [
    {
     "data": {
      "text/plain": [
       "dict"
      ]
     },
     "execution_count": 1,
     "metadata": {},
     "output_type": "execute_result"
    }
   ],
   "source": [
    "d = {}\n",
    "type(d)"
   ]
  },
  {
   "cell_type": "code",
   "execution_count": 2,
   "id": "872a826c-1ead-4531-b71b-42d38190a0f3",
   "metadata": {},
   "outputs": [],
   "source": [
    "d = {(1,2,3):1}"
   ]
  },
  {
   "cell_type": "code",
   "execution_count": 3,
   "id": "e09128a9-d0fa-45ae-89ba-8d67f9436097",
   "metadata": {},
   "outputs": [
    {
     "data": {
      "text/plain": [
       "{(1, 2, 3): 1}"
      ]
     },
     "execution_count": 3,
     "metadata": {},
     "output_type": "execute_result"
    }
   ],
   "source": [
    "d"
   ]
  },
  {
   "cell_type": "code",
   "execution_count": 4,
   "id": "96eff2a2-0201-4d06-bae7-a2e117bf4746",
   "metadata": {},
   "outputs": [
    {
     "ename": "TypeError",
     "evalue": "unhashable type: 'list'",
     "output_type": "error",
     "traceback": [
      "\u001b[0;31m---------------------------------------------------------------------------\u001b[0m",
      "\u001b[0;31mTypeError\u001b[0m                                 Traceback (most recent call last)",
      "Cell \u001b[0;32mIn[4], line 1\u001b[0m\n\u001b[0;32m----> 1\u001b[0m d \u001b[38;5;241m=\u001b[39m {[\u001b[38;5;241m1\u001b[39m,\u001b[38;5;241m2\u001b[39m,\u001b[38;5;241m3\u001b[39m]:\u001b[38;5;241m1\u001b[39m}\n",
      "\u001b[0;31mTypeError\u001b[0m: unhashable type: 'list'"
     ]
    }
   ],
   "source": [
    "d = {[1,2,3]:1}"
   ]
  },
  {
   "cell_type": "code",
   "execution_count": 5,
   "id": "989fe4c7-dee5-4818-818b-4e9340acaec1",
   "metadata": {},
   "outputs": [],
   "source": [
    "d = {1:2, 3:4}\n",
    "s = set(d)"
   ]
  },
  {
   "cell_type": "code",
   "execution_count": 6,
   "id": "7ab0755e-fbd8-4d3a-888b-e7aa83c67a74",
   "metadata": {},
   "outputs": [
    {
     "data": {
      "text/plain": [
       "{1, 3}"
      ]
     },
     "execution_count": 6,
     "metadata": {},
     "output_type": "execute_result"
    }
   ],
   "source": [
    "s"
   ]
  },
  {
   "cell_type": "markdown",
   "id": "1a786539-aeca-4991-916d-d376415314af",
   "metadata": {},
   "source": [
    "### Key can not be list, set or dictionary"
   ]
  },
  {
   "cell_type": "code",
   "execution_count": 8,
   "id": "d2a1f117-6806-43a5-a34e-861e4da48790",
   "metadata": {},
   "outputs": [
    {
     "data": {
      "text/plain": [
       "'Not Available'"
      ]
     },
     "execution_count": 8,
     "metadata": {},
     "output_type": "execute_result"
    }
   ],
   "source": [
    "d.get(4, \"Not Available\")"
   ]
  },
  {
   "cell_type": "code",
   "execution_count": 22,
   "id": "45b50e41-4a2a-46cf-8e77-bf872002305f",
   "metadata": {},
   "outputs": [],
   "source": [
    "d = dict()"
   ]
  },
  {
   "cell_type": "code",
   "execution_count": 23,
   "id": "2d2eb4c2-a2e6-4da1-8477-a3cf42a2a4e6",
   "metadata": {},
   "outputs": [],
   "source": [
    "d = d.fromkeys([1,2,3],(4,5,6))"
   ]
  },
  {
   "cell_type": "code",
   "execution_count": 24,
   "id": "8eb8f9be-2555-4326-8b9b-0d8a7258dffd",
   "metadata": {},
   "outputs": [
    {
     "data": {
      "text/plain": [
       "{1: (4, 5, 6), 2: (4, 5, 6), 3: (4, 5, 6)}"
      ]
     },
     "execution_count": 24,
     "metadata": {},
     "output_type": "execute_result"
    }
   ],
   "source": [
    "d"
   ]
  },
  {
   "cell_type": "markdown",
   "id": "7eac4df6-b60a-4868-8800-a38fad534b8a",
   "metadata": {},
   "source": [
    "### Dictionary Comphrension"
   ]
  },
  {
   "cell_type": "code",
   "execution_count": 25,
   "id": "98537f24-de36-47ed-a950-2ff608587ef7",
   "metadata": {},
   "outputs": [
    {
     "data": {
      "text/plain": [
       "{1: 1, 2: 4, 3: 9, 4: 16, 5: 25, 6: 36, 7: 49, 8: 64, 9: 81, 10: 100}"
      ]
     },
     "execution_count": 25,
     "metadata": {},
     "output_type": "execute_result"
    }
   ],
   "source": [
    "{i:i**2 for i in range(1, 11)}"
   ]
  },
  {
   "cell_type": "code",
   "execution_count": null,
   "id": "ce643f71-c3e8-43dd-bd37-227378190347",
   "metadata": {},
   "outputs": [],
   "source": []
  }
 ],
 "metadata": {
  "kernelspec": {
   "display_name": "Python 3 (ipykernel)",
   "language": "python",
   "name": "python3"
  },
  "language_info": {
   "codemirror_mode": {
    "name": "ipython",
    "version": 3
   },
   "file_extension": ".py",
   "mimetype": "text/x-python",
   "name": "python",
   "nbconvert_exporter": "python",
   "pygments_lexer": "ipython3",
   "version": "3.10.8"
  }
 },
 "nbformat": 4,
 "nbformat_minor": 5
}
