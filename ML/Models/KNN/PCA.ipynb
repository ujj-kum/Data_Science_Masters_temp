{
 "cells": [
  {
   "cell_type": "code",
   "execution_count": 1,
   "id": "d30d982e-85a1-4925-9ce8-0c2b061a18e2",
   "metadata": {},
   "outputs": [],
   "source": [
    "import numpy as np\n",
    "import matplotlib.pyplot as plt\n",
    "\n",
    "from sklearn.decomposition import PCA\n",
    "from sklearn.datasets import load_iris"
   ]
  },
  {
   "cell_type": "code",
   "execution_count": 2,
   "id": "e7bdda8d-f7a5-4266-8a36-8a81db095bf2",
   "metadata": {},
   "outputs": [],
   "source": [
    "dataset = load_iris()"
   ]
  },
  {
   "cell_type": "code",
   "execution_count": 3,
   "id": "86e9781e-953b-42d2-803b-f1f06756d56f",
   "metadata": {},
   "outputs": [
    {
     "data": {
      "text/plain": [
       "sklearn.utils._bunch.Bunch"
      ]
     },
     "execution_count": 3,
     "metadata": {},
     "output_type": "execute_result"
    }
   ],
   "source": [
    "type(dataset)"
   ]
  },
  {
   "cell_type": "code",
   "execution_count": 4,
   "id": "143a720d-5418-4f20-952c-f14d138815ed",
   "metadata": {},
   "outputs": [
    {
     "data": {
      "text/plain": [
       "dict_keys(['data', 'target', 'frame', 'target_names', 'DESCR', 'feature_names', 'filename', 'data_module'])"
      ]
     },
     "execution_count": 4,
     "metadata": {},
     "output_type": "execute_result"
    }
   ],
   "source": [
    "dataset.keys()"
   ]
  },
  {
   "cell_type": "code",
   "execution_count": 5,
   "id": "57a86d5c-4a49-4438-8f19-95c9c55f0776",
   "metadata": {},
   "outputs": [
    {
     "name": "stdout",
     "output_type": "stream",
     "text": [
      ".. _iris_dataset:\n",
      "\n",
      "Iris plants dataset\n",
      "--------------------\n",
      "\n",
      "**Data Set Characteristics:**\n",
      "\n",
      "    :Number of Instances: 150 (50 in each of three classes)\n",
      "    :Number of Attributes: 4 numeric, predictive attributes and the class\n",
      "    :Attribute Information:\n",
      "        - sepal length in cm\n",
      "        - sepal width in cm\n",
      "        - petal length in cm\n",
      "        - petal width in cm\n",
      "        - class:\n",
      "                - Iris-Setosa\n",
      "                - Iris-Versicolour\n",
      "                - Iris-Virginica\n",
      "                \n",
      "    :Summary Statistics:\n",
      "\n",
      "    ============== ==== ==== ======= ===== ====================\n",
      "                    Min  Max   Mean    SD   Class Correlation\n",
      "    ============== ==== ==== ======= ===== ====================\n",
      "    sepal length:   4.3  7.9   5.84   0.83    0.7826\n",
      "    sepal width:    2.0  4.4   3.05   0.43   -0.4194\n",
      "    petal length:   1.0  6.9   3.76   1.76    0.9490  (high!)\n",
      "    petal width:    0.1  2.5   1.20   0.76    0.9565  (high!)\n",
      "    ============== ==== ==== ======= ===== ====================\n",
      "\n",
      "    :Missing Attribute Values: None\n",
      "    :Class Distribution: 33.3% for each of 3 classes.\n",
      "    :Creator: R.A. Fisher\n",
      "    :Donor: Michael Marshall (MARSHALL%PLU@io.arc.nasa.gov)\n",
      "    :Date: July, 1988\n",
      "\n",
      "The famous Iris database, first used by Sir R.A. Fisher. The dataset is taken\n",
      "from Fisher's paper. Note that it's the same as in R, but not as in the UCI\n",
      "Machine Learning Repository, which has two wrong data points.\n",
      "\n",
      "This is perhaps the best known database to be found in the\n",
      "pattern recognition literature.  Fisher's paper is a classic in the field and\n",
      "is referenced frequently to this day.  (See Duda & Hart, for example.)  The\n",
      "data set contains 3 classes of 50 instances each, where each class refers to a\n",
      "type of iris plant.  One class is linearly separable from the other 2; the\n",
      "latter are NOT linearly separable from each other.\n",
      "\n",
      ".. topic:: References\n",
      "\n",
      "   - Fisher, R.A. \"The use of multiple measurements in taxonomic problems\"\n",
      "     Annual Eugenics, 7, Part II, 179-188 (1936); also in \"Contributions to\n",
      "     Mathematical Statistics\" (John Wiley, NY, 1950).\n",
      "   - Duda, R.O., & Hart, P.E. (1973) Pattern Classification and Scene Analysis.\n",
      "     (Q327.D83) John Wiley & Sons.  ISBN 0-471-22361-1.  See page 218.\n",
      "   - Dasarathy, B.V. (1980) \"Nosing Around the Neighborhood: A New System\n",
      "     Structure and Classification Rule for Recognition in Partially Exposed\n",
      "     Environments\".  IEEE Transactions on Pattern Analysis and Machine\n",
      "     Intelligence, Vol. PAMI-2, No. 1, 67-71.\n",
      "   - Gates, G.W. (1972) \"The Reduced Nearest Neighbor Rule\".  IEEE Transactions\n",
      "     on Information Theory, May 1972, 431-433.\n",
      "   - See also: 1988 MLC Proceedings, 54-64.  Cheeseman et al\"s AUTOCLASS II\n",
      "     conceptual clustering system finds 3 classes in the data.\n",
      "   - Many, many more ...\n"
     ]
    }
   ],
   "source": [
    "print(dataset.DESCR)"
   ]
  },
  {
   "cell_type": "code",
   "execution_count": 6,
   "id": "562eb36a-c993-4b51-90c1-9d411ef8e45c",
   "metadata": {},
   "outputs": [],
   "source": [
    "X = dataset['data']\n",
    "y = dataset['target']"
   ]
  },
  {
   "cell_type": "code",
   "execution_count": 7,
   "id": "00d613f2-ebde-40a3-a25e-abb7a2e86886",
   "metadata": {},
   "outputs": [
    {
     "data": {
      "text/plain": [
       "(150, 150)"
      ]
     },
     "execution_count": 7,
     "metadata": {},
     "output_type": "execute_result"
    }
   ],
   "source": [
    "len(X), len(y)"
   ]
  },
  {
   "cell_type": "code",
   "execution_count": 8,
   "id": "774ab8a6-ea10-48be-a776-e4baebac3572",
   "metadata": {},
   "outputs": [],
   "source": [
    "from sklearn.model_selection import train_test_split as tts\n",
    "\n",
    "X_train, X_test, y_train, y_test = tts(X, y, test_size=0.2, random_state=42)"
   ]
  },
  {
   "cell_type": "markdown",
   "id": "0c27b3ea-a0d0-4340-84c7-8308a429dae5",
   "metadata": {},
   "source": [
    "### Using PCA, convert 3 features to 2 features"
   ]
  },
  {
   "cell_type": "code",
   "execution_count": 9,
   "id": "d490944c-c7d1-4b10-bfc0-b4553c16cde4",
   "metadata": {},
   "outputs": [],
   "source": [
    "pca = PCA(n_components=3)"
   ]
  },
  {
   "cell_type": "code",
   "execution_count": 10,
   "id": "0ffbd4ad-9e66-471a-b479-1b88d958fd7c",
   "metadata": {},
   "outputs": [
    {
     "data": {
      "text/plain": [
       "array([[-3.17191553e+00,  1.29457045e-01,  2.74955159e-01],\n",
       "       [-2.34745821e+00,  1.33781523e+00,  2.71788068e-01],\n",
       "       [ 9.71520952e-01,  4.86044204e-01, -3.20689648e-01],\n",
       "       [-2.56753356e+00,  1.60522934e-02,  8.62344384e-02],\n",
       "       [-2.95088792e+00, -3.43587883e-01,  1.72320523e-01],\n",
       "       [ 1.57397400e+00, -3.56283392e-01, -1.34399639e-01],\n",
       "       [ 9.76313730e-01,  3.35516537e-01, -2.45953936e-02],\n",
       "       [-2.51851294e+00,  3.69738445e-01, -9.24482207e-02],\n",
       "       [-2.68502537e+00,  3.26991300e-01,  7.57370407e-02],\n",
       "       [-2.60734589e+00,  8.14321255e-01,  2.16884159e-01],\n",
       "       [ 1.46242806e+00, -5.57915855e-01,  2.83802576e-01],\n",
       "       [ 8.50516252e-01,  2.08313940e-01,  3.81872802e-01],\n",
       "       [ 1.26454870e+00,  4.27647245e-01, -2.42585185e-01],\n",
       "       [-2.58248688e+00,  8.09432716e-01,  1.26361388e-01],\n",
       "       [-2.46440403e+00,  6.47300146e-01, -8.69320372e-02],\n",
       "       [-1.40580297e-01, -6.65638257e-01, -3.23323589e-01],\n",
       "       [ 1.49066461e+00, -1.21522133e-01, -1.61020977e-01],\n",
       "       [ 1.95006505e+00,  7.09283723e-02,  1.57155374e-01],\n",
       "       [ 9.44466494e-01,  3.47263353e-01, -3.23447739e-01],\n",
       "       [ 2.95729263e+00,  8.04600346e-01,  4.24141255e-01],\n",
       "       [ 4.22807255e-01, -2.78386919e-01,  6.61870572e-02],\n",
       "       [ 3.44068284e+00,  5.82518148e-01, -3.46822908e-01],\n",
       "       [ 7.06671764e-01, -3.38478461e-01,  3.16756343e-01],\n",
       "       [-2.64023548e+00,  3.20354881e-01, -4.26436913e-02],\n",
       "       [ 3.54451415e+00,  4.94815444e-01, -5.71850353e-01],\n",
       "       [ 2.83784539e-01, -3.16050314e-01, -2.83022151e-01],\n",
       "       [-2.59544559e+00,  3.13718462e-01, -1.61024423e-01],\n",
       "       [-2.72633137e+00,  2.62640315e-01,  6.12449294e-02],\n",
       "       [-2.16658350e+00,  4.38375519e-01,  2.87266680e-01],\n",
       "       [-4.56321037e-01, -1.25345657e+00, -2.92558217e-01],\n",
       "       [ 1.43481155e+00, -1.85846468e-01, -7.53516969e-02],\n",
       "       [-2.31013247e+00, -3.40136637e-02,  1.10254810e-01],\n",
       "       [-2.46021835e+00, -1.42637813e-01, -2.71665849e-01],\n",
       "       [-2.25821900e+00,  9.98786487e-02,  2.24901304e-02],\n",
       "       [ 4.04620512e-01, -4.89876404e-01,  2.85955360e-03],\n",
       "       [-2.54556740e+00,  2.30957594e-01, -9.52063125e-02],\n",
       "       [ 3.78312887e-01, -1.97347282e-01,  7.26723779e-02],\n",
       "       [ 3.52709030e+00,  1.20523979e+00,  1.42011948e-01],\n",
       "       [-2.79324321e+00, -2.28132103e-01,  6.47046736e-02],\n",
       "       [ 6.88218493e-01,  3.52855090e-02, -2.14862753e-01],\n",
       "       [ 1.39406760e+00, -7.61047690e-01,  2.66552373e-01],\n",
       "       [-2.55862079e+00,  1.09360419e+00,  1.50096911e-01],\n",
       "       [ 1.21464151e+00, -1.49248560e-01,  2.71783708e-01],\n",
       "       [ 1.46242806e+00, -5.57915855e-01,  2.83802576e-01],\n",
       "       [ 3.14167103e-01, -5.30760403e-01, -7.09498641e-01],\n",
       "       [ 6.34827415e-01, -4.70622893e-01,  4.32378984e-01],\n",
       "       [ 1.94395045e+00,  1.31943487e-01,  7.16899915e-01],\n",
       "       [ 2.32568471e-01, -8.13405854e-01, -1.97620355e-01],\n",
       "       [-2.23928542e+00,  7.42678107e-01,  1.58388550e-01],\n",
       "       [-6.54524914e-01, -1.00195336e+00, -1.26863562e-01],\n",
       "       [ 1.84956184e+00, -1.94859864e-01, -4.70517633e-02],\n",
       "       [-2.65842223e+00,  1.08865396e-01, -1.05971195e-01],\n",
       "       [-2.82115524e+00,  6.95340656e-02, -1.82554188e-01],\n",
       "       [-1.91532796e-02, -6.90657911e-01, -2.61232707e-01],\n",
       "       [ 1.60207081e+00,  2.88210649e-01, -1.70966042e-01],\n",
       "       [-2.59080860e+00, -1.19312742e-01, -1.61291908e-01],\n",
       "       [ 1.63169361e+00, -5.26862230e-01,  6.14792444e-01],\n",
       "       [-2.58148958e+00,  1.64885378e-01, -3.73949924e-02],\n",
       "       [-2.36205032e+00,  1.87581353e-01,  2.47517575e-01],\n",
       "       [ 1.16098391e+00, -6.99035064e-02,  4.50733852e-01],\n",
       "       [-8.58112614e-01, -7.48728921e-01, -3.34723395e-02],\n",
       "       [ 2.47054220e+00,  3.98965773e-01,  2.15102223e-01],\n",
       "       [ 1.42739245e+00, -4.00778417e-01,  5.92766232e-03],\n",
       "       [ 1.82993086e+00, -4.74196094e-01, -1.80587299e-01],\n",
       "       [ 3.11885649e+00,  7.15371622e-01, -3.36499999e-01],\n",
       "       [ 2.14833039e-01, -6.67988585e-01, -7.64815313e-02],\n",
       "       [-2.83848441e+00, -5.78402439e-01, -1.38092178e-03],\n",
       "       [-3.17630205e+00, -5.13369062e-01,  3.88953471e-02],\n",
       "       [ 1.35030401e+00, -7.39301936e-01, -3.59010279e-01],\n",
       "       [ 2.65757656e+00,  5.88771473e-01, -2.04731822e-01],\n",
       "       [-2.69857513e+00, -3.17529390e-01,  1.21420524e-02],\n",
       "       [-2.60460883e+00,  3.12023879e-01,  1.14403999e-02],\n",
       "       [-2.93315249e+00, -4.89005152e-01,  5.11816995e-02],\n",
       "       [ 1.34566703e+00, -3.06270732e-01, -3.58742794e-01],\n",
       "       [ 2.18710001e+00,  1.56307397e-01,  7.29186268e-01],\n",
       "       [-2.77535199e+00, -9.10458357e-02,  2.39927589e-01],\n",
       "       [ 2.20950142e+00,  2.37515596e-01,  2.75929555e-02],\n",
       "       [ 2.57479584e+00,  8.51315047e-03,  7.54728109e-01],\n",
       "       [-2.84312140e+00, -1.45371235e-01, -1.11343710e-03],\n",
       "       [ 1.03112443e+00, -1.05872318e-01, -7.09401789e-02],\n",
       "       [ 1.13350713e+00,  9.40655614e-02, -3.16677571e-01],\n",
       "       [ 1.30422130e+00, -1.62521397e-01,  3.50222445e-02],\n",
       "       [ 1.32782086e+00,  7.06903530e-01, -4.09533824e-01],\n",
       "       [ 1.94772987e+00,  1.35359302e-01,  4.72131661e-01],\n",
       "       [-2.49523790e+00,  5.05103480e-01,  1.55078126e-01],\n",
       "       [ 2.15075552e+00,  3.92985099e-01,  2.23442566e-02],\n",
       "       [ 5.57037193e-01, -9.01958558e-02,  1.19302011e-01],\n",
       "       [ 1.80870715e+00,  9.76959070e-02,  1.22922453e-01],\n",
       "       [-2.58072109e-01, -3.54699250e-01, -3.33820986e-01],\n",
       "       [ 3.91573709e-02, -7.12430313e-01,  2.64168553e-01],\n",
       "       [ 9.36456350e-01, -1.64750314e-02, -1.83775576e-02],\n",
       "       [-2.79952965e+00, -9.40224381e-01, -3.76531413e-01],\n",
       "       [ 1.08930829e+00,  2.49508416e-01, -4.22087661e-01],\n",
       "       [ 5.13540131e-01, -6.53703558e-01, -3.79690481e-02],\n",
       "       [-2.50032620e+00,  5.81227930e-01, -2.91207171e-02],\n",
       "       [ 2.92217000e-01, -2.55061848e-01,  1.76560999e-01],\n",
       "       [ 2.97750298e+00,  3.86651828e-01, -4.20231005e-01],\n",
       "       [ 2.31857683e+00,  3.56191979e-01,  2.83126092e-01],\n",
       "       [-2.50091724e+00,  4.32421494e-01,  1.94670105e-01],\n",
       "       [-6.99314805e-01, -9.95316943e-01, -8.48283043e-03],\n",
       "       [ 2.46108344e+00,  3.22867972e-01,  4.99462457e-01],\n",
       "       [ 2.43245796e+00,  4.93393512e-01, -4.50052409e-01],\n",
       "       [-2.75657420e+00,  2.69250086e-01,  7.94642696e-02],\n",
       "       [ 2.35739186e+00,  2.02470357e-01,  3.16232752e-01],\n",
       "       [-2.66774125e+00, -1.75332725e-01, -2.29868110e-01],\n",
       "       [ 1.50799378e+00,  5.26414372e-01, -3.42194244e-01],\n",
       "       [ 2.88631879e+00,  4.05061712e-01, -5.00541227e-01],\n",
       "       [ 2.01767867e+00, -1.57249765e-01,  1.01834661e-01],\n",
       "       [ 3.45874606e-01, -3.34406901e-01, -2.38914526e-03],\n",
       "       [ 1.99485494e+00,  6.42919536e-02,  3.87746423e-02],\n",
       "       [ 8.63147328e-01, -3.51582736e-01, -6.28083753e-01],\n",
       "       [ 7.60062843e-01,  1.67429941e-01, -3.30485393e-01],\n",
       "       [ 1.24574192e+00, -5.92305349e-01,  4.98065138e-01],\n",
       "       [ 1.43612043e+00, -2.65386733e-01,  3.53615400e-01],\n",
       "       [-2.26620015e+00,  3.95796937e-01, -2.52626692e-01],\n",
       "       [ 4.03762940e-01, -5.34293846e-02, -2.41641216e-01],\n",
       "       [ 5.70808425e-01, -1.18118915e+00,  5.26756707e-01],\n",
       "       [-2.60471957e+00,  1.17978087e+00, -1.60489454e-01],\n",
       "       [ 2.78105195e-01, -3.88732300e-01, -2.43430171e-01],\n",
       "       [ 2.66046941e+00,  3.68977634e-01, -1.13813842e-01]])"
      ]
     },
     "execution_count": 10,
     "metadata": {},
     "output_type": "execute_result"
    }
   ],
   "source": [
    "X_train = pca.fit_transform(X_train)\n",
    "X_train"
   ]
  },
  {
   "cell_type": "code",
   "execution_count": 11,
   "id": "1c04f42c-330e-4e63-be39-cd3966e89652",
   "metadata": {},
   "outputs": [
    {
     "data": {
      "text/plain": [
       "array([[ 0.35922175, -0.08867716,  0.85800365,  0.35626652],\n",
       "       [ 0.66072216,  0.72708635, -0.16688652, -0.08331002],\n",
       "       [-0.5781132 ,  0.60569412,  0.08006791,  0.54084091]])"
      ]
     },
     "execution_count": 11,
     "metadata": {},
     "output_type": "execute_result"
    }
   ],
   "source": [
    "pca.components_"
   ]
  },
  {
   "cell_type": "code",
   "execution_count": 12,
   "id": "b74d8fef-1cd1-44b5-8aae-cb79453ea980",
   "metadata": {},
   "outputs": [],
   "source": [
    "X_test = pca.transform(X_test)"
   ]
  },
  {
   "cell_type": "code",
   "execution_count": 13,
   "id": "0c50e091-ab3d-49cf-bfc7-fdb3698d21a0",
   "metadata": {},
   "outputs": [
    {
     "data": {
      "text/plain": [
       "array([0.91959926, 0.05714377, 0.01838378])"
      ]
     },
     "execution_count": 13,
     "metadata": {},
     "output_type": "execute_result"
    }
   ],
   "source": [
    "pca.explained_variance_ratio_"
   ]
  },
  {
   "cell_type": "code",
   "execution_count": 14,
   "id": "d3aaa5de-230d-4d87-9263-56dca7ed516e",
   "metadata": {},
   "outputs": [
    {
     "name": "stdout",
     "output_type": "stream",
     "text": [
      "Requirement already satisfied: plotly in /opt/conda/lib/python3.10/site-packages (5.18.0)\n",
      "Requirement already satisfied: tenacity>=6.2.0 in /opt/conda/lib/python3.10/site-packages (from plotly) (8.2.3)\n",
      "Requirement already satisfied: packaging in /opt/conda/lib/python3.10/site-packages (from plotly) (22.0)\n"
     ]
    }
   ],
   "source": [
    "!pip install plotly\n",
    "import plotly.express as px"
   ]
  },
  {
   "cell_type": "code",
   "execution_count": 15,
   "id": "7a93a0d4-b50e-44a3-9197-9dbe07b8622b",
   "metadata": {},
   "outputs": [
    {
     "data": {
      "text/html": [
       "<div>\n",
       "<style scoped>\n",
       "    .dataframe tbody tr th:only-of-type {\n",
       "        vertical-align: middle;\n",
       "    }\n",
       "\n",
       "    .dataframe tbody tr th {\n",
       "        vertical-align: top;\n",
       "    }\n",
       "\n",
       "    .dataframe thead th {\n",
       "        text-align: right;\n",
       "    }\n",
       "</style>\n",
       "<table border=\"1\" class=\"dataframe\">\n",
       "  <thead>\n",
       "    <tr style=\"text-align: right;\">\n",
       "      <th></th>\n",
       "      <th>A</th>\n",
       "      <th>B</th>\n",
       "      <th>C</th>\n",
       "    </tr>\n",
       "  </thead>\n",
       "  <tbody>\n",
       "    <tr>\n",
       "      <th>0</th>\n",
       "      <td>-3.171916</td>\n",
       "      <td>0.129457</td>\n",
       "      <td>0.274955</td>\n",
       "    </tr>\n",
       "    <tr>\n",
       "      <th>1</th>\n",
       "      <td>-2.347458</td>\n",
       "      <td>1.337815</td>\n",
       "      <td>0.271788</td>\n",
       "    </tr>\n",
       "    <tr>\n",
       "      <th>2</th>\n",
       "      <td>0.971521</td>\n",
       "      <td>0.486044</td>\n",
       "      <td>-0.320690</td>\n",
       "    </tr>\n",
       "    <tr>\n",
       "      <th>3</th>\n",
       "      <td>-2.567534</td>\n",
       "      <td>0.016052</td>\n",
       "      <td>0.086234</td>\n",
       "    </tr>\n",
       "    <tr>\n",
       "      <th>4</th>\n",
       "      <td>-2.950888</td>\n",
       "      <td>-0.343588</td>\n",
       "      <td>0.172321</td>\n",
       "    </tr>\n",
       "  </tbody>\n",
       "</table>\n",
       "</div>"
      ],
      "text/plain": [
       "          A         B         C\n",
       "0 -3.171916  0.129457  0.274955\n",
       "1 -2.347458  1.337815  0.271788\n",
       "2  0.971521  0.486044 -0.320690\n",
       "3 -2.567534  0.016052  0.086234\n",
       "4 -2.950888 -0.343588  0.172321"
      ]
     },
     "execution_count": 15,
     "metadata": {},
     "output_type": "execute_result"
    }
   ],
   "source": [
    "import pandas as pd\n",
    "df = pd.DataFrame(X_train, columns = ['A', 'B', 'C'])\n",
    "df.head()"
   ]
  },
  {
   "cell_type": "code",
   "execution_count": 16,
   "id": "dc2c1f65-9680-4dfd-bd10-bdcdb122d7c2",
   "metadata": {},
   "outputs": [],
   "source": [
    "fig = px.scatter_3d(df, x='A', y='B', z='C')\n",
    "#fig.show()"
   ]
  },
  {
   "cell_type": "code",
   "execution_count": null,
   "id": "8da4bb95-f5da-42de-b974-eccb9503f61a",
   "metadata": {},
   "outputs": [],
   "source": []
  }
 ],
 "metadata": {
  "kernelspec": {
   "display_name": "Python 3 (ipykernel)",
   "language": "python",
   "name": "python3"
  },
  "language_info": {
   "codemirror_mode": {
    "name": "ipython",
    "version": 3
   },
   "file_extension": ".py",
   "mimetype": "text/x-python",
   "name": "python",
   "nbconvert_exporter": "python",
   "pygments_lexer": "ipython3",
   "version": "3.10.8"
  }
 },
 "nbformat": 4,
 "nbformat_minor": 5
}
