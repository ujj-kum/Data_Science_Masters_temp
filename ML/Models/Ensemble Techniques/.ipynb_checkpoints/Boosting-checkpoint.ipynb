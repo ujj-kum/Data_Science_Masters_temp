{
 "cells": [
  {
   "cell_type": "code",
   "execution_count": 1,
   "id": "4fa2f8da-4cfe-4c49-98f8-123d3a70c35a",
   "metadata": {},
   "outputs": [
    {
     "name": "stdout",
     "output_type": "stream",
     "text": [
      "Collecting Xgboost\n",
      "  Downloading xgboost-2.0.3-py3-none-manylinux2014_x86_64.whl (297.1 MB)\n",
      "\u001b[2K     \u001b[90m━━━━━━━━━━━━━━━━━━━━━━━━━━━━━━━━━━━━━━━\u001b[0m \u001b[32m297.1/297.1 MB\u001b[0m \u001b[31m5.8 MB/s\u001b[0m eta \u001b[36m0:00:00\u001b[0m00:01\u001b[0m00:01\u001b[0m\n",
      "\u001b[?25hRequirement already satisfied: scipy in /opt/conda/lib/python3.10/site-packages (from Xgboost) (1.9.3)\n",
      "Requirement already satisfied: numpy in /opt/conda/lib/python3.10/site-packages (from Xgboost) (1.23.5)\n",
      "Installing collected packages: Xgboost\n",
      "Successfully installed Xgboost-2.0.3\n"
     ]
    }
   ],
   "source": [
    "!pip install Xgboost"
   ]
  },
  {
   "cell_type": "code",
   "execution_count": null,
   "id": "f02945ca-fea1-427c-8995-5055b6005e9b",
   "metadata": {},
   "outputs": [],
   "source": [
    "from sklearn.datasets import make_classification\n",
    "\n",
    "X, y = make_classification()"
   ]
  }
 ],
 "metadata": {
  "kernelspec": {
   "display_name": "Python 3 (ipykernel)",
   "language": "python",
   "name": "python3"
  },
  "language_info": {
   "codemirror_mode": {
    "name": "ipython",
    "version": 3
   },
   "file_extension": ".py",
   "mimetype": "text/x-python",
   "name": "python",
   "nbconvert_exporter": "python",
   "pygments_lexer": "ipython3",
   "version": "3.10.8"
  }
 },
 "nbformat": 4,
 "nbformat_minor": 5
}
