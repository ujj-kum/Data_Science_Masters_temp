{
 "cells": [
  {
   "cell_type": "code",
   "execution_count": 1,
   "id": "5c64aeda-1ffa-462f-8eb0-6e154889a98f",
   "metadata": {},
   "outputs": [],
   "source": [
    "import numpy as np\n",
    "import matplotlib.pyplot as plt"
   ]
  },
  {
   "cell_type": "code",
   "execution_count": 2,
   "id": "ae17fef7-8db9-4a68-9f4b-d55e18a25961",
   "metadata": {},
   "outputs": [],
   "source": [
    "import pandas as pd\n",
    "import matplotlib.pyplot as plt\n",
    "import numpy as np\n",
    "import seaborn as sns\n",
    "import warnings\n",
    "warnings.filterwarnings(action='ignore')\n",
    "%matplotlib inline"
   ]
  },
  {
   "cell_type": "code",
   "execution_count": null,
   "id": "b831079e-f19d-4389-be49-08ff9cf05e5c",
   "metadata": {},
   "outputs": [],
   "source": [
    "x = np.random.randn(50)\n",
    "y = x**2"
   ]
  },
  {
   "cell_type": "code",
   "execution_count": null,
   "id": "97d7d220-c591-48ea-9b24-7165a8cf96c7",
   "metadata": {},
   "outputs": [],
   "source": [
    "for i in range(5):\n",
    "    plt.scatter(x, y+i)"
   ]
  },
  {
   "cell_type": "markdown",
   "id": "bc0874b8-9b20-4073-ae93-f8b276a86b14",
   "metadata": {},
   "source": [
    "# Algerian Forest Fire Dataset"
   ]
  },
  {
   "cell_type": "markdown",
   "id": "ebc31369-0448-4067-b04e-93db820c3ee5",
   "metadata": {},
   "source": [
    "### To Predict->Tempearture"
   ]
  },
  {
   "cell_type": "code",
   "execution_count": null,
   "id": "df790f09-97eb-4752-986c-08c3337e5c89",
   "metadata": {},
   "outputs": [],
   "source": [
    "df = pd.read_csv(\"Algerian_forest_fires_dataset_UPDATE.csv\", header=1)\n",
    "df.head()"
   ]
  },
  {
   "cell_type": "code",
   "execution_count": null,
   "id": "df3d1ac5-9f42-4329-8331-da4324cb1dba",
   "metadata": {},
   "outputs": [],
   "source": [
    "df.info()"
   ]
  },
  {
   "cell_type": "code",
   "execution_count": null,
   "id": "c9d6c779-e6e0-48a8-9614-c10dac0758ff",
   "metadata": {},
   "outputs": [],
   "source": [
    "df.describe()"
   ]
  },
  {
   "cell_type": "code",
   "execution_count": null,
   "id": "d21beb03-83b0-48ca-ad07-f1bd5fbf12fb",
   "metadata": {},
   "outputs": [],
   "source": [
    "df.dtypes"
   ]
  },
  {
   "cell_type": "code",
   "execution_count": null,
   "id": "c75613e8-0788-438a-9157-43f8d4291107",
   "metadata": {},
   "outputs": [],
   "source": [
    "df.isna().sum()"
   ]
  },
  {
   "cell_type": "code",
   "execution_count": null,
   "id": "933502b7-d2a9-460e-b4c9-4f48c0840665",
   "metadata": {},
   "outputs": [],
   "source": [
    "df[df.isnull().all(axis=1)]"
   ]
  },
  {
   "cell_type": "code",
   "execution_count": null,
   "id": "6c07a20f-3e42-402b-a83a-318e26446213",
   "metadata": {},
   "outputs": [],
   "source": [
    "df[df.isnull().any(axis=1)]"
   ]
  },
  {
   "cell_type": "code",
   "execution_count": null,
   "id": "f03c6453-5e69-4223-8c4d-0276179b48a7",
   "metadata": {},
   "outputs": [],
   "source": [
    "df.loc[:122, 'Region'] = 0#For Bejaia Region\n",
    "df.loc[122:, 'Region'] = 1#For Sidi-Bel Abbes Region"
   ]
  },
  {
   "cell_type": "code",
   "execution_count": null,
   "id": "2ca62c16-899b-4948-8f46-14c463f26798",
   "metadata": {},
   "outputs": [],
   "source": [
    "df.iloc[122]"
   ]
  },
  {
   "cell_type": "code",
   "execution_count": null,
   "id": "d01c5bca-c95f-4c8a-b47a-c16f9d0ea473",
   "metadata": {},
   "outputs": [],
   "source": [
    "df.Region = df.Region.astype(\"int\")"
   ]
  },
  {
   "cell_type": "code",
   "execution_count": null,
   "id": "033b6869-19a6-45af-ba72-360b42e74b88",
   "metadata": {},
   "outputs": [],
   "source": [
    "df.dtypes"
   ]
  },
  {
   "cell_type": "code",
   "execution_count": null,
   "id": "748989c5-7ae1-4cf7-ab2f-c38e56045e30",
   "metadata": {},
   "outputs": [],
   "source": [
    "#Checking Null Values\n",
    "df.isna().sum()"
   ]
  },
  {
   "cell_type": "code",
   "execution_count": null,
   "id": "e7e70219-25f8-4a35-b5e9-b2718fe11b80",
   "metadata": {},
   "outputs": [],
   "source": [
    "df[df.isna().any(axis=1)]"
   ]
  },
  {
   "cell_type": "code",
   "execution_count": null,
   "id": "85498b6a-1adf-405d-99dc-b3457ec2966e",
   "metadata": {},
   "outputs": [],
   "source": [
    "df.shape"
   ]
  },
  {
   "cell_type": "code",
   "execution_count": null,
   "id": "cdb2b57c-54c2-4630-8b49-099b95e9a28d",
   "metadata": {},
   "outputs": [],
   "source": [
    "df = df.dropna().reset_index(drop=True)"
   ]
  },
  {
   "cell_type": "code",
   "execution_count": null,
   "id": "a57bbcfc-2d4a-46de-b516-c19f768ae97e",
   "metadata": {},
   "outputs": [],
   "source": [
    "df.shape"
   ]
  },
  {
   "cell_type": "code",
   "execution_count": null,
   "id": "ca7eeac6-2765-41f4-99fb-7524a402b3f0",
   "metadata": {},
   "outputs": [],
   "source": [
    "df.iloc[120:125]"
   ]
  },
  {
   "cell_type": "code",
   "execution_count": null,
   "id": "9d595825-2b25-4b5c-a659-401afbc057b1",
   "metadata": {},
   "outputs": [],
   "source": [
    "#Drop 122nd index\n",
    "df = df.drop(122).reset_index(drop=True)"
   ]
  },
  {
   "cell_type": "code",
   "execution_count": null,
   "id": "e9e318b3-a0ed-42f7-b9bb-26cda901ded3",
   "metadata": {},
   "outputs": [],
   "source": [
    "df.shape"
   ]
  },
  {
   "cell_type": "markdown",
   "id": "630bbb44-9c2f-411c-bff6-cff3b76e2570",
   "metadata": {},
   "source": [
    "### Formatting Column names"
   ]
  },
  {
   "cell_type": "code",
   "execution_count": null,
   "id": "a8e68090-6c77-443e-8bd7-1dc35410c81d",
   "metadata": {},
   "outputs": [],
   "source": [
    "df.columns"
   ]
  },
  {
   "cell_type": "code",
   "execution_count": null,
   "id": "ffcee7a7-9ad8-448a-bb0c-d7e78712216e",
   "metadata": {},
   "outputs": [],
   "source": [
    "df.columns = df.columns.str.strip()\n",
    "df.columns"
   ]
  },
  {
   "cell_type": "code",
   "execution_count": null,
   "id": "032c28e6-ce61-424d-85ae-65b475131f21",
   "metadata": {},
   "outputs": [],
   "source": [
    "#Changing to int type\n",
    "df[['day', 'month', 'year', 'Temperature', 'RH', 'Ws']] = df[['day', 'month', 'year', 'Temperature', 'RH', 'Ws']].astype(int)"
   ]
  },
  {
   "cell_type": "code",
   "execution_count": null,
   "id": "0cd10f1c-1043-4f42-98a7-e31742b03c90",
   "metadata": {},
   "outputs": [],
   "source": [
    "df.dtypes"
   ]
  },
  {
   "cell_type": "code",
   "execution_count": null,
   "id": "536ff084-3533-4380-bea8-dcf4b3eef5ef",
   "metadata": {},
   "outputs": [],
   "source": [
    "#Changing other columns to float\n",
    "objects = [feat for feat in df.columns if df[feat].dtypes=='object']\n",
    "objects"
   ]
  },
  {
   "cell_type": "code",
   "execution_count": null,
   "id": "afd25546-6148-4a47-ad76-903941a7e8e0",
   "metadata": {},
   "outputs": [],
   "source": [
    "for feat in objects:\n",
    "    if feat!='Classes':\n",
    "        df[feat] = df[feat].astype(float)"
   ]
  },
  {
   "cell_type": "code",
   "execution_count": null,
   "id": "34892864-22c6-46db-9852-37e01e6417a0",
   "metadata": {},
   "outputs": [],
   "source": [
    "#Save to Cleaned dataset\n",
    "df.to_csv(\"Algerian_forest_fires_cleaned_dataset.csv\", index=False)"
   ]
  },
  {
   "cell_type": "markdown",
   "id": "0ccb5374-bf5c-4488-af49-cb6da700769d",
   "metadata": {},
   "source": [
    "## Exploratory Data Analysis"
   ]
  },
  {
   "cell_type": "code",
   "execution_count": null,
   "id": "3510fa61-7629-4721-9f47-80498d349730",
   "metadata": {},
   "outputs": [],
   "source": [
    "df_copy = df.drop(['day', 'month', 'year'], axis=1)\n",
    "df_copy.head()"
   ]
  },
  {
   "cell_type": "code",
   "execution_count": null,
   "id": "1cd199da-6c84-4ce8-afd8-a4d8632d6a3b",
   "metadata": {},
   "outputs": [],
   "source": [
    "df_copy.Classes.value_counts()"
   ]
  },
  {
   "cell_type": "code",
   "execution_count": null,
   "id": "b08c2793-b710-4562-b003-0a0f91a767f7",
   "metadata": {},
   "outputs": [],
   "source": [
    "#Making into only 2 classes\n",
    "df_copy.Classes = np.where(df.Classes.str.contains(\"not fire\"), 0, 1)\n",
    "df_copy.Classes.value_counts()"
   ]
  },
  {
   "cell_type": "code",
   "execution_count": null,
   "id": "1fae453d-8ced-477f-822b-1b43c19ab18a",
   "metadata": {},
   "outputs": [],
   "source": [
    "#Plotting data\n",
    "plt.style.use('seaborn')\n",
    "df_copy.hist(bins=50, figsize=(20, 15))\n",
    "plt.show()"
   ]
  },
  {
   "cell_type": "code",
   "execution_count": null,
   "id": "37a2c439-a601-4051-a0fb-2a3ab4b3f2bf",
   "metadata": {},
   "outputs": [],
   "source": [
    "#Percentage for pie-chart\n",
    "percentage = df_copy.Classes.value_counts(normalize=True)*100\n",
    "percentage"
   ]
  },
  {
   "cell_type": "code",
   "execution_count": null,
   "id": "04343541-9391-4f9c-aab3-f71b0de25926",
   "metadata": {},
   "outputs": [],
   "source": [
    "classlabels = [\"Fire\", \"Not Fire\"]\n",
    "plt.figure(figsize=(12, 7))\n",
    "plt.pie(percentage, labels= classlabels, autopct='%1.1f%%')\n",
    "plt.title(\"Pie Chart of Classes\")\n",
    "plt.show()"
   ]
  },
  {
   "cell_type": "markdown",
   "id": "437a0344-2168-407c-a24c-4dac0f3fbb7e",
   "metadata": {},
   "source": [
    "### Correlation"
   ]
  },
  {
   "cell_type": "code",
   "execution_count": null,
   "id": "505d38e7-fcfb-469a-8832-946b9d793e8c",
   "metadata": {},
   "outputs": [],
   "source": [
    "df_copy.corr()"
   ]
  },
  {
   "cell_type": "code",
   "execution_count": null,
   "id": "eae75d00-38e7-4f4e-b98a-32a309eeb975",
   "metadata": {},
   "outputs": [],
   "source": [
    "sns.heatmap(df_copy.corr(), annot=True)"
   ]
  },
  {
   "cell_type": "code",
   "execution_count": null,
   "id": "f209422e-1ad0-4ead-bd01-d4107986433e",
   "metadata": {},
   "outputs": [],
   "source": [
    "sns.boxplot(df[\"FWI\"])"
   ]
  },
  {
   "cell_type": "code",
   "execution_count": null,
   "id": "af59cd59-3a4e-49f4-8a00-c2b8dcbb0164",
   "metadata": {},
   "outputs": [],
   "source": [
    "df.month.value_counts()"
   ]
  },
  {
   "cell_type": "code",
   "execution_count": null,
   "id": "621e99dd-9ecd-4476-832e-8e90c45704d7",
   "metadata": {},
   "outputs": [],
   "source": [
    "df.Classes = np.where(df.Classes.str.contains(\"not fire\"), \"not fire\", 'fire')"
   ]
  },
  {
   "cell_type": "code",
   "execution_count": null,
   "id": "541daecb-5343-4790-bb1c-ddf19f7cdf8a",
   "metadata": {},
   "outputs": [],
   "source": [
    "#Monthly Fire Analysis\n",
    "df_reg_1 = df_copy.loc[df[\"Region\"]==1]\n",
    "plt.subplots(figsize=(13, 6))\n",
    "sns.set_style('whitegrid')\n",
    "sns.countplot(x='month',hue='Classes', data=df[df.Region==1])\n",
    "plt.ylabel(\"No. of Fires\", weight='bold')\n",
    "plt.xlabel(\"Months\", weight='bold')\n",
    "plt.title(\"Fire Analysis of Sidi-Bel Region\", weight=\"bold\")"
   ]
  },
  {
   "cell_type": "code",
   "execution_count": null,
   "id": "15df7e67-93ea-4d05-9b51-3d8d9876e172",
   "metadata": {},
   "outputs": [],
   "source": [
    "#Monthly Fire Analysis\n",
    "df_reg_0 = df_copy.loc[df[\"Region\"]==0]\n",
    "plt.subplots(figsize=(13, 6))\n",
    "sns.set_style('whitegrid')\n",
    "sns.countplot(x='month',hue='Classes', data=df[df.Region==0])\n",
    "plt.ylabel(\"No. of Fires\", weight='bold')\n",
    "plt.xlabel(\"Months\", weight='bold')\n",
    "plt.title(\"Fire Analysis of Bejia Region\", weight=\"bold\")\n",
    "#plt.show()"
   ]
  },
  {
   "cell_type": "markdown",
   "id": "209c0a01-ec2b-48e4-b2af-025b848ac9e7",
   "metadata": {},
   "source": [
    "# Machine Learning Models"
   ]
  },
  {
   "cell_type": "markdown",
   "id": "6834b8ee-39ca-4198-83d8-abb476d2f341",
   "metadata": {},
   "source": [
    "### Lasso Regression"
   ]
  },
  {
   "cell_type": "code",
   "execution_count": null,
   "id": "3c9c4463-c250-4d38-80d2-048f09caea2d",
   "metadata": {},
   "outputs": [],
   "source": [
    "df = pd.read_csv(\"Algerian_forest_fires_cleaned_dataset.csv\")\n",
    "df.head()"
   ]
  },
  {
   "cell_type": "code",
   "execution_count": null,
   "id": "1b5ad863-a540-400a-b19e-8c2cc9c665e7",
   "metadata": {},
   "outputs": [],
   "source": [
    "df.isna().sum()"
   ]
  },
  {
   "cell_type": "code",
   "execution_count": null,
   "id": "47cca853-8a6f-4259-848b-3ed371ee0b53",
   "metadata": {},
   "outputs": [],
   "source": [
    "df.dtypes"
   ]
  },
  {
   "cell_type": "code",
   "execution_count": null,
   "id": "498b2c62-07be-49a8-abc2-1ffab53da0f8",
   "metadata": {},
   "outputs": [],
   "source": [
    "df.drop(['day', 'month', 'year'], axis=1, inplace=True)"
   ]
  },
  {
   "cell_type": "code",
   "execution_count": null,
   "id": "dbe9a4c4-7f76-401f-ba1e-35ffbffc4de4",
   "metadata": {},
   "outputs": [],
   "source": [
    "df.Classes.value_counts()"
   ]
  },
  {
   "cell_type": "code",
   "execution_count": null,
   "id": "8e529a12-ca3f-458f-8e44-ebdd08e6fa2a",
   "metadata": {},
   "outputs": [],
   "source": [
    "df.Classes = np.where(df.Classes.str.contains(\"not fire\"), 0, 1)"
   ]
  },
  {
   "cell_type": "code",
   "execution_count": null,
   "id": "0010d268-8d4c-4c40-b1f2-fe82d128ad9c",
   "metadata": {},
   "outputs": [],
   "source": [
    "df.Classes.value_counts()"
   ]
  },
  {
   "cell_type": "code",
   "execution_count": null,
   "id": "50ca34cd-51b4-4091-ab60-491e7744e506",
   "metadata": {},
   "outputs": [],
   "source": [
    "# Independent and Dependent Features\n",
    "X = df.drop('FWI', axis=1)\n",
    "y = df['FWI']"
   ]
  },
  {
   "cell_type": "code",
   "execution_count": null,
   "id": "ad6ab1e8-83a9-446d-8e9a-7bd751de6450",
   "metadata": {},
   "outputs": [],
   "source": [
    "X.shape, y.shape"
   ]
  },
  {
   "cell_type": "code",
   "execution_count": null,
   "id": "f47f098b-0416-4909-be1b-ed2ec8cb965d",
   "metadata": {},
   "outputs": [],
   "source": [
    "from sklearn.model_selection import train_test_split\n",
    "\n",
    "X_train, X_test, y_train, y_test = train_test_split(X, y, test_size=0.25, random_state=42)"
   ]
  },
  {
   "cell_type": "code",
   "execution_count": null,
   "id": "d4782791-9963-4b9c-9f15-7fbee1b59113",
   "metadata": {},
   "outputs": [],
   "source": [
    "type(X_train), type(X_test), type(y_train), type(y_test)"
   ]
  },
  {
   "cell_type": "code",
   "execution_count": null,
   "id": "ad0ff8ad-24f4-40ce-9704-e24a942726c3",
   "metadata": {},
   "outputs": [],
   "source": [
    "X_train.shape, X_test.shape"
   ]
  },
  {
   "cell_type": "code",
   "execution_count": null,
   "id": "07e1800b-3ecd-4e8c-93e8-53e8bffa23db",
   "metadata": {},
   "outputs": [],
   "source": [
    "#Feature Selection based on Correlation\n",
    "X_train.corr()"
   ]
  },
  {
   "cell_type": "code",
   "execution_count": null,
   "id": "fd5fb802-8cca-4df8-8239-7b0af72e9ae5",
   "metadata": {
    "tags": []
   },
   "outputs": [],
   "source": [
    "sns.heatmap(X_train.corr(), annot=True)"
   ]
  },
  {
   "cell_type": "code",
   "execution_count": null,
   "id": "9a01b9cf-316e-4ed8-9310-7649b494605c",
   "metadata": {},
   "outputs": [],
   "source": [
    "for i in range(len(df.corr().columns)):\n",
    "    print(i, df.corr().columns[i])"
   ]
  },
  {
   "cell_type": "code",
   "execution_count": null,
   "id": "d0cd1f66-3be7-4140-9b3b-c86a3e4388ea",
   "metadata": {},
   "outputs": [],
   "source": [
    "def correlation(dataset, threshold):\n",
    "    col_corr = set()\n",
    "    corr_matrix = dataset.corr()\n",
    "    for i in range(len(corr_matrix.columns)):\n",
    "        print(\"************************\")\n",
    "        print(\"i value = \",i,\"col name = \",corr_matrix.columns[i] )\n",
    "        for j in range(i):\n",
    "            print(\"j value = \",j,\"col name = \",corr_matrix.columns[j])\n",
    "            if abs(corr_matrix.iloc[i, j])>threshold:\n",
    "                print(i, corr_matrix.columns[i],j, corr_matrix.columns[j])\n",
    "                col_name = corr_matrix.columns[i]\n",
    "                col_corr.add(col_name)\n",
    "            \n",
    "    return col_corr"
   ]
  },
  {
   "cell_type": "code",
   "execution_count": null,
   "id": "24c3c56d-b7de-4f4f-939f-8854f23839a9",
   "metadata": {},
   "outputs": [],
   "source": [
    "correlation(X_train, 0.85)"
   ]
  },
  {
   "cell_type": "code",
   "execution_count": null,
   "id": "3e4c2c79-93e1-4123-a418-a55f8a9fcc4b",
   "metadata": {},
   "outputs": [],
   "source": [
    "def correlation(dataset, threshold):\n",
    "    col_corr = set()\n",
    "    corr_matrix = dataset.corr()\n",
    "    for i in range(len(corr_matrix.columns)):\n",
    "        for j in range(i):\n",
    "            if abs(corr_matrix.iloc[i, j])>threshold:\n",
    "                col_name = corr_matrix.columns[i]\n",
    "                col_corr.add(col_name)\n",
    "    return col_corr"
   ]
  },
  {
   "cell_type": "code",
   "execution_count": null,
   "id": "9cef5679-5d55-466a-800f-c6c35b8c317b",
   "metadata": {},
   "outputs": [],
   "source": [
    "corr_features = correlation(X_train, 0.85)\n",
    "corr_features"
   ]
  },
  {
   "cell_type": "code",
   "execution_count": null,
   "id": "c498ed13-3abf-4904-a598-bc47307f07f3",
   "metadata": {},
   "outputs": [],
   "source": [
    "X_train.drop(corr_features, axis=1, inplace=True)\n",
    "X_test.drop(corr_features, axis=1, inplace=True)\n",
    "X_train.shape, X_test.shape"
   ]
  },
  {
   "cell_type": "code",
   "execution_count": null,
   "id": "7f07db39-f31c-478a-a36c-3a5079930ec4",
   "metadata": {},
   "outputs": [],
   "source": [
    "from sklearn.preprocessing import StandardScaler\n",
    "\n",
    "scaler = StandardScaler()\n",
    "X_train_scaled = scaler.fit_transform(X_train)\n",
    "X_test_scaled = scaler.transform(X_test)"
   ]
  },
  {
   "cell_type": "code",
   "execution_count": null,
   "id": "e6ae287f-9411-4467-aecb-93e87de8c8bc",
   "metadata": {},
   "outputs": [],
   "source": [
    "type(X_train_scaled), type(X_test_scaled), type(X_train)"
   ]
  },
  {
   "cell_type": "markdown",
   "id": "c8126c88-562a-4178-ad7a-5bc2e718228a",
   "metadata": {},
   "source": [
    "### Box Plot to understand Effect of Standard Scaler"
   ]
  },
  {
   "cell_type": "code",
   "execution_count": null,
   "id": "0331b79b-0934-4781-93a0-dc440063adbc",
   "metadata": {},
   "outputs": [],
   "source": [
    "plt.subplots(figsize=(15, 5))\n",
    "\n",
    "plt.subplot(1,2,1)\n",
    "sns.boxplot(data=X_train)\n",
    "plt.title(\"X_train before Scaling\")\n",
    "\n",
    "plt.subplot(1,2,2)\n",
    "sns.boxplot(data=X_train_scaled)\n",
    "plt.title(\"X_train after Scaling\")"
   ]
  },
  {
   "cell_type": "markdown",
   "id": "e378cf85-3c98-479e-a3eb-19f60c12a5bf",
   "metadata": {},
   "source": [
    "### Linear Regression Model"
   ]
  },
  {
   "cell_type": "code",
   "execution_count": null,
   "id": "d3180672-6b4e-4caa-b21e-12dab9d427eb",
   "metadata": {},
   "outputs": [],
   "source": [
    "from sklearn.linear_model import LinearRegression\n",
    "from sklearn.metrics import mean_squared_error\n",
    "from sklearn.metrics import r2_score\n",
    "\n",
    "linreg = LinearRegression()\n",
    "linreg.fit(X_train_scaled, y_train)\n",
    "y_pred = linreg.predict(X_test_scaled)\n",
    "mae = mean_squared_error(y_test, y_pred)\n",
    "score = r2_score(y_test, y_pred)\n",
    "\n",
    "print(\"MSE = \",mae)\n",
    "print(\"R2 Score = \",score)\n",
    "\n",
    "plt.scatter(y_test, y_pred)"
   ]
  },
  {
   "cell_type": "code",
   "execution_count": null,
   "id": "3acbd21b-784a-4e55-b579-548625da1ab4",
   "metadata": {},
   "outputs": [],
   "source": [
    "residuals = y_test-y_pred\n",
    "sns.histplot(residuals, kde=True)"
   ]
  },
  {
   "cell_type": "code",
   "execution_count": null,
   "id": "93db7448-b524-4778-8702-0601cad05b7e",
   "metadata": {},
   "outputs": [],
   "source": [
    "print(\"Coefficients : \",linreg.coef_)\n",
    "print(\"Intercept : \", linreg.intercept_)\n",
    "print(\"Number of features checked : \", linreg.n_features_in_)\n",
    "print(\"Names of features checked : \",linreg.feature_names_in_)"
   ]
  },
  {
   "cell_type": "markdown",
   "id": "3baa5039-bca4-41cf-853a-64616aa70f1c",
   "metadata": {},
   "source": [
    "# Lasso Regression"
   ]
  },
  {
   "cell_type": "code",
   "execution_count": null,
   "id": "b91bd438-2c93-456d-9cb6-1ec2097b9eea",
   "metadata": {},
   "outputs": [],
   "source": [
    "from sklearn.linear_model import Lasso\n",
    "\n",
    "lasso = Lasso()\n",
    "lasso.fit(X_train_scaled, y_train)\n",
    "y_pred = lasso.predict(X_test_scaled)\n",
    "\n",
    "mae = mean_squared_error(y_test, y_pred)\n",
    "score = r2_score(y_test, y_pred)\n",
    "\n",
    "print(\"MSE = \",mae)\n",
    "print(\"R2 Score = \",score)\n",
    "\n",
    "plt.scatter(y_test, y_pred)"
   ]
  },
  {
   "cell_type": "code",
   "execution_count": null,
   "id": "9b22964a-64ab-4b74-8295-b7514c8fd4ae",
   "metadata": {},
   "outputs": [],
   "source": [
    "residuals = y_test-y_pred\n",
    "sns.histplot(residuals, kde=True)"
   ]
  },
  {
   "cell_type": "code",
   "execution_count": null,
   "id": "24934a12-3d86-4806-aaaf-61225b4ca260",
   "metadata": {},
   "outputs": [],
   "source": [
    "print(\"Coefficients : \",lasso.coef_)\n",
    "print(\"Intercept : \", lasso.intercept_)\n",
    "print(\"Sparse Coefficient : \", lasso.sparse_coef_)\n",
    "print(\"Number of features checked : \", lasso.n_features_in_)\n",
    "print(\"Names of features checked : \",lasso.feature_names_in_)"
   ]
  },
  {
   "cell_type": "markdown",
   "id": "a5de9333-d757-4333-a0bb-74c6b14c5e88",
   "metadata": {},
   "source": [
    "# Cross Validation Lasso"
   ]
  },
  {
   "cell_type": "code",
   "execution_count": null,
   "id": "f19919b7-5142-46dd-bab9-e9d5b3ba4638",
   "metadata": {},
   "outputs": [],
   "source": [
    "from sklearn.linear_model import LassoCV"
   ]
  },
  {
   "cell_type": "code",
   "execution_count": null,
   "id": "a02a03e8-0991-4798-8296-51f23e882535",
   "metadata": {},
   "outputs": [],
   "source": [
    "lassocv = LassoCV(cv=5)"
   ]
  },
  {
   "cell_type": "code",
   "execution_count": null,
   "id": "6443ad87-382a-4adf-8e22-a12fd019892a",
   "metadata": {},
   "outputs": [],
   "source": [
    "lassocv.fit(X_train_scaled, y_train)"
   ]
  },
  {
   "cell_type": "code",
   "execution_count": null,
   "id": "b75ae227-cdb4-4874-8115-2f28a2eabfeb",
   "metadata": {},
   "outputs": [],
   "source": [
    "y_pred = lassocv.predict(X_test_scaled)\n",
    "mae = mean_squared_error(y_test, y_pred)\n",
    "r2 = r2_score(y_test, y_pred)\n",
    "mae, r2"
   ]
  },
  {
   "cell_type": "code",
   "execution_count": null,
   "id": "ac675eea-ebe3-4cd8-ab73-665d22216bd1",
   "metadata": {},
   "outputs": [],
   "source": [
    "plt.scatter(y_test, y_pred)"
   ]
  },
  {
   "cell_type": "markdown",
   "id": "bff9dc79-7fbd-4892-a8cc-ad66e825d457",
   "metadata": {},
   "source": [
    "### Ridge Regression"
   ]
  },
  {
   "cell_type": "code",
   "execution_count": 3,
   "id": "ce472797-f3f7-491a-8161-2411f5b6308a",
   "metadata": {},
   "outputs": [
    {
     "ename": "NameError",
     "evalue": "name 'X_train_scaled' is not defined",
     "output_type": "error",
     "traceback": [
      "\u001b[0;31m---------------------------------------------------------------------------\u001b[0m",
      "\u001b[0;31mNameError\u001b[0m                                 Traceback (most recent call last)",
      "Cell \u001b[0;32mIn[3], line 4\u001b[0m\n\u001b[1;32m      1\u001b[0m \u001b[38;5;28;01mfrom\u001b[39;00m \u001b[38;5;21;01msklearn\u001b[39;00m\u001b[38;5;21;01m.\u001b[39;00m\u001b[38;5;21;01mlinear_model\u001b[39;00m \u001b[38;5;28;01mimport\u001b[39;00m Ridge\n\u001b[1;32m      3\u001b[0m ridge \u001b[38;5;241m=\u001b[39m Ridge()\n\u001b[0;32m----> 4\u001b[0m ridge\u001b[38;5;241m.\u001b[39mfit(\u001b[43mX_train_scaled\u001b[49m, y_train)\n\u001b[1;32m      5\u001b[0m y_pred \u001b[38;5;241m=\u001b[39m ridge\u001b[38;5;241m.\u001b[39mpredict(X_test_scaled)\n\u001b[1;32m      7\u001b[0m mae \u001b[38;5;241m=\u001b[39m mean_squared_error(y_test, y_pred)\n",
      "\u001b[0;31mNameError\u001b[0m: name 'X_train_scaled' is not defined"
     ]
    }
   ],
   "source": [
    "from sklearn.linear_model import Ridge\n",
    "\n",
    "ridge = Ridge()\n",
    "ridge.fit(X_train_scaled, y_train)\n",
    "y_pred = ridge.predict(X_test_scaled)\n",
    "\n",
    "mae = mean_squared_error(y_test, y_pred)\n",
    "score = r2_score(y_test, y_pred)\n",
    "\n",
    "print(\"MSE = \",mae)\n",
    "print(\"R2 Score = \",score)\n",
    "\n",
    "plt.scatter(y_test, y_pred)"
   ]
  },
  {
   "cell_type": "code",
   "execution_count": null,
   "id": "f0d96172-fd42-404b-85cc-c5bb43214ed6",
   "metadata": {},
   "outputs": [],
   "source": [
    "from sklearn.linear_model import RidgeCV\n",
    "\n",
    "ridgecv = RidgeCV(cv=5)\n",
    "ridgecv.fit(X_train_scaled, y_train)\n",
    "y_pred = ridgecv.predict(X_test_scaled)\n",
    "\n",
    "mae = mean_squared_error(y_test, y_pred)\n",
    "score = r2_score(y_test, y_pred)\n",
    "\n",
    "print(\"MSE = \",mae)\n",
    "print(\"R2 Score = \",score)\n",
    "\n",
    "plt.scatter(y_test, y_pred)"
   ]
  },
  {
   "cell_type": "code",
   "execution_count": null,
   "id": "f186e6dd-1c02-4a2e-8a4a-75979336fd6d",
   "metadata": {},
   "outputs": [],
   "source": [
    "ridgecv.get_params()"
   ]
  },
  {
   "cell_type": "markdown",
   "id": "bc389e2f-1b17-4605-8bc7-5c962a968e6e",
   "metadata": {},
   "source": [
    "### ElasticNet"
   ]
  },
  {
   "cell_type": "code",
   "execution_count": null,
   "id": "0504cd6f-1d99-4ea1-8b94-da4b2edf7266",
   "metadata": {},
   "outputs": [],
   "source": [
    "from sklearn.linear_model import ElasticNetCV\n",
    "\n",
    "elasticnetCV = ElasticNetCV(cv=5)\n",
    "elasticnetCV.fit(X_train_scaled, y_train)\n",
    "y_pred = elasticnetCV.predict(X_test_scaled)\n",
    "\n",
    "mae = mean_squared_error(y_test, y_pred)\n",
    "score = r2_score(y_test, y_pred)\n",
    "\n",
    "print(\"MSE = \",mae)\n",
    "print(\"R2 Score = \",score)\n",
    "\n",
    "plt.scatter(y_test, y_pred)"
   ]
  },
  {
   "cell_type": "code",
   "execution_count": null,
   "id": "8cacfd9b-3bea-4b21-b518-0134f2f7cf70",
   "metadata": {},
   "outputs": [],
   "source": [
    "elasticnetCV.alphas_.shape"
   ]
  },
  {
   "cell_type": "markdown",
   "id": "b9867077-7b86-4250-b038-dd168f9eface",
   "metadata": {},
   "source": [
    "# Pickling Models\n",
    "\n",
    "- ML Models\n",
    "- Preprocessing Model StandardScaler"
   ]
  },
  {
   "cell_type": "code",
   "execution_count": null,
   "id": "7d429ac7-ce98-4a3b-b370-2c09e5c22e85",
   "metadata": {},
   "outputs": [],
   "source": [
    "scaler"
   ]
  },
  {
   "cell_type": "code",
   "execution_count": null,
   "id": "447b22c6-ab63-4064-ae55-d78cf80bb81f",
   "metadata": {},
   "outputs": [],
   "source": [
    "ridge"
   ]
  },
  {
   "cell_type": "code",
   "execution_count": null,
   "id": "8f114116-8c6d-4dfa-b923-d4fde8336b4a",
   "metadata": {},
   "outputs": [],
   "source": [
    "import pickle"
   ]
  },
  {
   "cell_type": "code",
   "execution_count": null,
   "id": "83ec8db2-3c57-4922-af11-a1cf7850967f",
   "metadata": {},
   "outputs": [],
   "source": [
    "pickle.dump(scaler, open(\"scaler.pkl\", 'wb'))\n",
    "pickle.dump(ridge, open(\"ridge.pkl\", 'wb'))"
   ]
  },
  {
   "cell_type": "code",
   "execution_count": null,
   "id": "3df457b8-b934-486e-a2eb-0f51a157724b",
   "metadata": {},
   "outputs": [],
   "source": []
  }
 ],
 "metadata": {
  "kernelspec": {
   "display_name": "Python 3 (ipykernel)",
   "language": "python",
   "name": "python3"
  },
  "language_info": {
   "codemirror_mode": {
    "name": "ipython",
    "version": 3
   },
   "file_extension": ".py",
   "mimetype": "text/x-python",
   "name": "python",
   "nbconvert_exporter": "python",
   "pygments_lexer": "ipython3",
   "version": "3.10.8"
  }
 },
 "nbformat": 4,
 "nbformat_minor": 5
}
