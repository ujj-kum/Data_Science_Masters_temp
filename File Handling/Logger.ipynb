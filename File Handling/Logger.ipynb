{
 "cells": [
  {
   "cell_type": "code",
   "execution_count": 1,
   "id": "2f2a9c99-cd08-41ca-be6d-d9e6fd2709f2",
   "metadata": {},
   "outputs": [],
   "source": [
    "import logging"
   ]
  },
  {
   "cell_type": "code",
   "execution_count": 2,
   "id": "a8784bd1-7b2a-4c5b-9454-867e5a51cc7a",
   "metadata": {},
   "outputs": [],
   "source": [
    "logging.basicConfig(filename='Error_info.log', level=logging.INFO)"
   ]
  },
  {
   "cell_type": "code",
   "execution_count": 3,
   "id": "9457e2dd-a049-429a-9859-94254fb796aa",
   "metadata": {},
   "outputs": [],
   "source": [
    "logging.info('This is my line of execution')"
   ]
  },
  {
   "cell_type": "code",
   "execution_count": 4,
   "id": "4da387b0-d0b0-439b-bf2d-e481d4a840ae",
   "metadata": {},
   "outputs": [],
   "source": [
    "logging.error('This is my error')"
   ]
  },
  {
   "cell_type": "code",
   "execution_count": 5,
   "id": "4e19445c-3bda-4c6b-9d1f-87cc5da3121a",
   "metadata": {},
   "outputs": [],
   "source": [
    "logging.critical('This is my critical error')"
   ]
  },
  {
   "cell_type": "code",
   "execution_count": 6,
   "id": "c3c942d6-941a-414e-86e8-ef1c373030b4",
   "metadata": {},
   "outputs": [],
   "source": [
    "logging.warning('This is my warning')"
   ]
  },
  {
   "cell_type": "code",
   "execution_count": 7,
   "id": "70674aa6-99ac-4095-b8f6-8d5618e7d3da",
   "metadata": {},
   "outputs": [],
   "source": [
    "logging.debug('This is my info related to debug')"
   ]
  },
  {
   "cell_type": "code",
   "execution_count": 8,
   "id": "d4cd754b-e1bc-44c1-bc9b-ad7ac64a8333",
   "metadata": {},
   "outputs": [
    {
     "ename": "AttributeError",
     "evalue": "module 'logging' has no attribute 'noset'",
     "output_type": "error",
     "traceback": [
      "\u001b[0;31m---------------------------------------------------------------------------\u001b[0m",
      "\u001b[0;31mAttributeError\u001b[0m                            Traceback (most recent call last)",
      "Cell \u001b[0;32mIn[8], line 1\u001b[0m\n\u001b[0;32m----> 1\u001b[0m \u001b[43mlogging\u001b[49m\u001b[38;5;241;43m.\u001b[39;49m\u001b[43mnoset\u001b[49m(\u001b[38;5;124m'\u001b[39m\u001b[38;5;124mThis is my noset related log\u001b[39m\u001b[38;5;124m'\u001b[39m)\n",
      "\u001b[0;31mAttributeError\u001b[0m: module 'logging' has no attribute 'noset'"
     ]
    }
   ],
   "source": [
    "logging.noset('This is my noset related log')"
   ]
  },
  {
   "cell_type": "code",
   "execution_count": 9,
   "id": "b530eae7-e33a-48f2-8bd4-cdc0ea18d532",
   "metadata": {},
   "outputs": [],
   "source": [
    "logging.shutdown()"
   ]
  },
  {
   "cell_type": "markdown",
   "id": "d3690541-622e-4fd0-aad4-55fd10e97b8b",
   "metadata": {},
   "source": [
    "### New Logging Session"
   ]
  },
  {
   "cell_type": "code",
   "execution_count": 10,
   "id": "bf34965e-3f6b-48d1-b70e-babc8daea90a",
   "metadata": {
    "tags": []
   },
   "outputs": [],
   "source": [
    "#Log in time and message as well\n",
    "logging.basicConfig(filename='test_log.log', level=logging.DEBUG, format='%(asctime)s %(message)s')"
   ]
  },
  {
   "cell_type": "code",
   "execution_count": 11,
   "id": "fad58761-8989-4021-9ee9-c11825e36675",
   "metadata": {},
   "outputs": [],
   "source": [
    "logging.info('This is my line of execution')"
   ]
  },
  {
   "cell_type": "code",
   "execution_count": 12,
   "id": "5f735b18-8950-4389-abd1-4d3c15e78dcc",
   "metadata": {},
   "outputs": [],
   "source": [
    "logging.error('This is my error')"
   ]
  },
  {
   "cell_type": "code",
   "execution_count": 13,
   "id": "2e1a4b75-e92f-4063-9058-95268975512b",
   "metadata": {},
   "outputs": [],
   "source": [
    "logging.critical('This is my critical error')"
   ]
  },
  {
   "cell_type": "code",
   "execution_count": 14,
   "id": "fbe318ec-f919-484b-8729-1978a47f7333",
   "metadata": {},
   "outputs": [],
   "source": [
    "logging.shutdown()"
   ]
  },
  {
   "cell_type": "markdown",
   "id": "b9a480b9-97f1-4df3-ab93-0d97ff98c087",
   "metadata": {},
   "source": [
    "### New Logging Session"
   ]
  },
  {
   "cell_type": "code",
   "execution_count": 9,
   "id": "ac48012d-faae-43ca-9b89-1cca40e147ec",
   "metadata": {},
   "outputs": [],
   "source": [
    "#Log in time and message as well\n",
    "logging.basicConfig(filename='test_log1.log', level=logging.DEBUG, format='%(asctime)s %(name)s %(levelname)s %(message)s')"
   ]
  },
  {
   "cell_type": "code",
   "execution_count": 10,
   "id": "65a582c6-01e7-4f65-8ac8-f66f658e6a8e",
   "metadata": {},
   "outputs": [],
   "source": [
    "logging.info('This is my line of execution')\n",
    "logging.error('This is my error')\n",
    "logging.critical('This is my critical error')\n",
    "logging.debug('This is my info related to debug')"
   ]
  },
  {
   "cell_type": "markdown",
   "id": "427ae248-289d-4554-82ad-6e012c7603ae",
   "metadata": {},
   "source": [
    "# Implementation in python"
   ]
  },
  {
   "cell_type": "code",
   "execution_count": 11,
   "id": "ffb387e2-8ba9-4b14-9eb9-dfc35c381b57",
   "metadata": {},
   "outputs": [],
   "source": [
    "l = [1,2,3,4,[5,6,7], 'Uk']"
   ]
  },
  {
   "cell_type": "code",
   "execution_count": 13,
   "id": "652653cf-0208-473d-bf2e-ac2e637aa37e",
   "metadata": {},
   "outputs": [
    {
     "name": "stdout",
     "output_type": "stream",
     "text": [
      "[1, 2, 3, 4, 5, 6, 7]\n",
      "['Uk']\n"
     ]
    }
   ],
   "source": [
    "l1_int = []\n",
    "l2_str = []\n",
    "\n",
    "for i in l:\n",
    "    if type(i)==list:\n",
    "        logging.info(\"Start of my 1st for loop {}\".format(l))\n",
    "        logging.info(\"This is the value of I being logged {}\".format(i) )\n",
    "        for j in i:\n",
    "            logging.info(\"Logging my j {}\".format(j))\n",
    "            if type(j)==int:\n",
    "                l1_int.append(j)\n",
    "    elif type(i)==int:\n",
    "        l1_int.append(i)\n",
    "    elif type(i)==str:\n",
    "        l2_str.append(i)\n",
    "        \n",
    "print(l1_int)\n",
    "print(l2_str)"
   ]
  },
  {
   "cell_type": "code",
   "execution_count": null,
   "id": "52a4f712-9c56-4e07-b7ce-5ded8d62f737",
   "metadata": {},
   "outputs": [],
   "source": []
  }
 ],
 "metadata": {
  "kernelspec": {
   "display_name": "Python 3 (ipykernel)",
   "language": "python",
   "name": "python3"
  },
  "language_info": {
   "codemirror_mode": {
    "name": "ipython",
    "version": 3
   },
   "file_extension": ".py",
   "mimetype": "text/x-python",
   "name": "python",
   "nbconvert_exporter": "python",
   "pygments_lexer": "ipython3",
   "version": "3.10.8"
  }
 },
 "nbformat": 4,
 "nbformat_minor": 5
}
