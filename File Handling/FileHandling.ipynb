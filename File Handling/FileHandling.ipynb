{
 "cells": [
  {
   "cell_type": "code",
   "execution_count": 1,
   "id": "5f1f5ac2-cfd4-4956-8443-9003e86b932c",
   "metadata": {},
   "outputs": [],
   "source": [
    "f = open(\"test.txt\", 'a')"
   ]
  },
  {
   "cell_type": "code",
   "execution_count": 2,
   "id": "c7c0f52a-fda8-462b-b817-9c871437afd0",
   "metadata": {},
   "outputs": [
    {
     "data": {
      "text/plain": [
       "'/home/jovyan/work/File Handling'"
      ]
     },
     "execution_count": 2,
     "metadata": {},
     "output_type": "execute_result"
    }
   ],
   "source": [
    "pwd"
   ]
  },
  {
   "cell_type": "code",
   "execution_count": 3,
   "id": "44dd1dc1-ea29-49e8-b122-ab0c791a853b",
   "metadata": {},
   "outputs": [
    {
     "name": "stdout",
     "output_type": "stream",
     "text": [
      "FileHandling.ipynb  new_test.txt  renamed_test.txt  test.txt\n"
     ]
    }
   ],
   "source": [
    "ls"
   ]
  },
  {
   "cell_type": "code",
   "execution_count": 4,
   "id": "7ab1dabb-dd69-480a-9594-fa9b30d86b9e",
   "metadata": {},
   "outputs": [
    {
     "data": {
      "text/plain": [
       "40"
      ]
     },
     "execution_count": 4,
     "metadata": {},
     "output_type": "execute_result"
    }
   ],
   "source": [
    "f.write(\"This is my first write operation in file\")"
   ]
  },
  {
   "cell_type": "code",
   "execution_count": 5,
   "id": "52a8497e-e362-45ab-a11e-2ddc6e1c7adf",
   "metadata": {},
   "outputs": [],
   "source": [
    "f.close()"
   ]
  },
  {
   "cell_type": "markdown",
   "id": "326df06d-f3c6-4bc4-838f-1f007ec101d8",
   "metadata": {},
   "source": [
    "# Read Operation"
   ]
  },
  {
   "cell_type": "code",
   "execution_count": 6,
   "id": "5f45bf23-675b-470a-a9b3-5e81c675c0ff",
   "metadata": {},
   "outputs": [
    {
     "data": {
      "text/plain": [
       "'This is my first write operation in file'"
      ]
     },
     "execution_count": 6,
     "metadata": {},
     "output_type": "execute_result"
    }
   ],
   "source": [
    "data = open('test.txt', 'r')\n",
    "data.read()"
   ]
  },
  {
   "cell_type": "markdown",
   "id": "5a8272d7-7603-47e8-9bc6-4cd8225b9a02",
   "metadata": {},
   "source": [
    "### Pointer has reached at the last character. Therefore printing nothing"
   ]
  },
  {
   "cell_type": "code",
   "execution_count": 7,
   "id": "6235e3c8-e721-48d6-85aa-b6b72771e735",
   "metadata": {},
   "outputs": [
    {
     "data": {
      "text/plain": [
       "''"
      ]
     },
     "execution_count": 7,
     "metadata": {},
     "output_type": "execute_result"
    }
   ],
   "source": [
    "data.read()"
   ]
  },
  {
   "cell_type": "markdown",
   "id": "97b41092-2f46-4704-afdd-2ca68b5eda7a",
   "metadata": {},
   "source": [
    "### Resets the pointer to the 1st Character"
   ]
  },
  {
   "cell_type": "code",
   "execution_count": 8,
   "id": "e31c9d90-4928-474e-b7a2-eb311869037b",
   "metadata": {},
   "outputs": [
    {
     "data": {
      "text/plain": [
       "'This is my first write operation in file'"
      ]
     },
     "execution_count": 8,
     "metadata": {},
     "output_type": "execute_result"
    }
   ],
   "source": [
    "data.seek(0)\n",
    "data.read()"
   ]
  },
  {
   "cell_type": "code",
   "execution_count": 9,
   "id": "feef53b5-d46b-449a-ba4c-28525fc73121",
   "metadata": {},
   "outputs": [
    {
     "name": "stdout",
     "output_type": "stream",
     "text": [
      "This is my first write operation in file\n"
     ]
    }
   ],
   "source": [
    "data1 = open('test.txt', 'r')\n",
    "for i in data1:\n",
    "    print(i)"
   ]
  },
  {
   "cell_type": "markdown",
   "id": "16d5f812-2555-458b-a123-a4416806bdb9",
   "metadata": {},
   "source": [
    "### View file details(In Bytes)"
   ]
  },
  {
   "cell_type": "code",
   "execution_count": 10,
   "id": "f082f1c4-f9b5-45eb-bfa8-0943a8826f73",
   "metadata": {},
   "outputs": [
    {
     "data": {
      "text/plain": [
       "40"
      ]
     },
     "execution_count": 10,
     "metadata": {},
     "output_type": "execute_result"
    }
   ],
   "source": [
    "import os\n",
    "\n",
    "os.path.getsize('test.txt')"
   ]
  },
  {
   "cell_type": "markdown",
   "id": "4b8df904-4a53-4075-a309-0ebbcffde243",
   "metadata": {},
   "source": [
    "### Create a copy of file"
   ]
  },
  {
   "cell_type": "code",
   "execution_count": 11,
   "id": "8ade9cda-95a6-4318-a972-9462a5e1311f",
   "metadata": {},
   "outputs": [
    {
     "data": {
      "text/plain": [
       "'copy_text.txt'"
      ]
     },
     "execution_count": 11,
     "metadata": {},
     "output_type": "execute_result"
    }
   ],
   "source": [
    "import shutil\n",
    "\n",
    "shutil.copy('test.txt', 'copy_text.txt')"
   ]
  },
  {
   "cell_type": "markdown",
   "id": "8602f70b-7f56-47be-a042-ce2b9670ec35",
   "metadata": {},
   "source": [
    "### Delete a file"
   ]
  },
  {
   "cell_type": "code",
   "execution_count": 12,
   "id": "f3177d4f-7c2a-4c61-adbc-964e62375869",
   "metadata": {},
   "outputs": [],
   "source": [
    "os.remove('copy_text.txt')"
   ]
  },
  {
   "cell_type": "markdown",
   "id": "6be4ef89-3673-4943-aa51-47a634af7914",
   "metadata": {},
   "source": [
    "# Open a file in different way"
   ]
  },
  {
   "cell_type": "code",
   "execution_count": 13,
   "id": "0ec3a155-a3be-4dc5-9cdd-74e0fab61a48",
   "metadata": {},
   "outputs": [
    {
     "name": "stdout",
     "output_type": "stream",
     "text": [
      "This is my first write operation in file\n"
     ]
    }
   ],
   "source": [
    "with open('test.txt', 'r') as f:\n",
    "    print(f.read())"
   ]
  },
  {
   "cell_type": "markdown",
   "id": "a6170f50-2942-4690-b705-e16882ffacc0",
   "metadata": {},
   "source": [
    "### Rename a file"
   ]
  },
  {
   "cell_type": "code",
   "execution_count": 14,
   "id": "68588c36-71f3-4369-89c5-6fc410313729",
   "metadata": {},
   "outputs": [],
   "source": [
    "os.rename('test.txt', 'renamed_test.txt')"
   ]
  },
  {
   "cell_type": "markdown",
   "id": "2fcc1ebe-6644-438d-9489-f31ef835d8e2",
   "metadata": {},
   "source": [
    "# Different file formats\n",
    "\n",
    "1. Java Script Object Notation(JSON)"
   ]
  },
  {
   "cell_type": "code",
   "execution_count": 15,
   "id": "9b0b7e70-a5b9-439e-a2e4-e845fbd055a6",
   "metadata": {},
   "outputs": [],
   "source": [
    "data = {\n",
    "    'Name':\"UK\",\n",
    "    \"Email_id\":\"A@b.com\",\n",
    "    \"Phone_No\":123456789,\n",
    "    \"Subject\":['Data Science', 'ML', \"DL\"]\n",
    "}"
   ]
  },
  {
   "cell_type": "code",
   "execution_count": 16,
   "id": "c4ae11ec-93ee-4a3b-be51-c58489680490",
   "metadata": {},
   "outputs": [],
   "source": [
    "import json"
   ]
  },
  {
   "cell_type": "code",
   "execution_count": 17,
   "id": "3eef7ed8-31a0-4d0f-bd80-607f48c64540",
   "metadata": {},
   "outputs": [],
   "source": [
    "with open('test1.json', 'w') as f:\n",
    "    json.dump(data, f)"
   ]
  },
  {
   "cell_type": "markdown",
   "id": "acb7d034-829e-478d-ba7e-7ce54863aaa3",
   "metadata": {},
   "source": [
    "### Read operation"
   ]
  },
  {
   "cell_type": "code",
   "execution_count": 18,
   "id": "626a9063-7b93-480e-8e7e-b73016cf6eca",
   "metadata": {},
   "outputs": [
    {
     "data": {
      "text/plain": [
       "{'Name': 'UK',\n",
       " 'Email_id': 'A@b.com',\n",
       " 'Phone_No': 123456789,\n",
       " 'Subject': ['Data Science', 'ML', 'DL']}"
      ]
     },
     "execution_count": 18,
     "metadata": {},
     "output_type": "execute_result"
    }
   ],
   "source": [
    "with open('test1.json', 'r') as f:\n",
    "    data1 = json.load(f)\n",
    "    \n",
    "data1"
   ]
  },
  {
   "cell_type": "markdown",
   "id": "72c2534e-4b69-4a96-8eec-90b00215b405",
   "metadata": {},
   "source": [
    "2. Comma Seperated Values(CSV)"
   ]
  },
  {
   "cell_type": "code",
   "execution_count": 19,
   "id": "a5c5e11f-602d-48a2-9339-cedd4ce03377",
   "metadata": {},
   "outputs": [],
   "source": [
    "data = [\n",
    "    ['Name', 'Email_id', 'Phone_No.'],\n",
    "    ['Uk', 'A@b.com', 123456],\n",
    "    ['SK', 'B@c.com', 456544]\n",
    "]"
   ]
  },
  {
   "cell_type": "code",
   "execution_count": 25,
   "id": "45382459-57b5-49d1-b801-13312672b382",
   "metadata": {},
   "outputs": [],
   "source": [
    "import csv\n",
    "\n",
    "with open('test3.csv', 'w') as f:\n",
    "    w = csv.writer(f)\n",
    "    for row in data:\n",
    "        w.writerow(row)"
   ]
  },
  {
   "cell_type": "markdown",
   "id": "efae976f-869f-46eb-a4cf-8e2d0c9af1ca",
   "metadata": {},
   "source": [
    "### Read data"
   ]
  },
  {
   "cell_type": "code",
   "execution_count": 26,
   "id": "0e40d871-8764-45b3-b1ac-0ff09fa5568d",
   "metadata": {},
   "outputs": [
    {
     "name": "stdout",
     "output_type": "stream",
     "text": [
      "['Name', 'Email_id', 'Phone_No.']\n",
      "['Uk', 'A@b.com', '123456']\n",
      "['SK', 'B@c.com', '456544']\n"
     ]
    }
   ],
   "source": [
    "with open('test3.csv', 'r') as f:\n",
    "    read = csv.reader(f)\n",
    "    for row in read:\n",
    "        print(row)"
   ]
  },
  {
   "cell_type": "markdown",
   "id": "3c7830a8-4c26-4fe4-b62b-f8af45df4c79",
   "metadata": {},
   "source": [
    "3. Binary Files(Audio/Video/Images)"
   ]
  },
  {
   "cell_type": "code",
   "execution_count": 27,
   "id": "e168fabb-daa8-4173-92b8-cda9d2881067",
   "metadata": {},
   "outputs": [],
   "source": [
    "with open('test4.bin', 'wb') as f:\n",
    "    f.write(b'\\x01\\x02\\x03')"
   ]
  },
  {
   "cell_type": "code",
   "execution_count": 29,
   "id": "794e3da2-c4fb-4bc7-bac7-d53b2cc64ab6",
   "metadata": {},
   "outputs": [
    {
     "name": "stdout",
     "output_type": "stream",
     "text": [
      "b'\\x01\\x02\\x03'\n"
     ]
    }
   ],
   "source": [
    "with open('test4.bin', 'rb') as f:\n",
    "    print(f.read())"
   ]
  },
  {
   "cell_type": "markdown",
   "id": "3c5641cd-08a7-4a11-9c5a-a647d7557cc7",
   "metadata": {},
   "source": [
    "# Buffered Read and Write\n",
    "\n",
    "- Done for large sized files(Reads and write files in chunks)"
   ]
  },
  {
   "cell_type": "code",
   "execution_count": 32,
   "id": "54ed6b54-7fb8-48aa-803b-56a4fa0cbf46",
   "metadata": {
    "tags": []
   },
   "outputs": [],
   "source": [
    "import io\n",
    "\n",
    "with open('file5.txt', 'wb') as f:\n",
    "    # By default, size is 8192 bytes\n",
    "    file = io.BufferedWriter(f)\n",
    "    file.write(b\"This is my buffer write\\n\")\n",
    "    file.write(b\"This is my 2nd line I am trying to write\")\n",
    "    file.flush()"
   ]
  },
  {
   "cell_type": "code",
   "execution_count": 33,
   "id": "17ca659a-6d25-491f-afac-131cca00a9fc",
   "metadata": {},
   "outputs": [
    {
     "name": "stdout",
     "output_type": "stream",
     "text": [
      "b'This is my buffer write\\nThis is my 2nd line I am trying to write'\n"
     ]
    }
   ],
   "source": [
    "# Read opeartion\n",
    "\n",
    "with open('file5.txt', 'rb') as f:\n",
    "    file = io.BufferedReader(f)\n",
    "    data = file.read()\n",
    "    print(data)"
   ]
  },
  {
   "cell_type": "code",
   "execution_count": null,
   "id": "90f58920-ff74-45dc-8011-c9556f3b26de",
   "metadata": {},
   "outputs": [],
   "source": []
  }
 ],
 "metadata": {
  "kernelspec": {
   "display_name": "Python 3 (ipykernel)",
   "language": "python",
   "name": "python3"
  },
  "language_info": {
   "codemirror_mode": {
    "name": "ipython",
    "version": 3
   },
   "file_extension": ".py",
   "mimetype": "text/x-python",
   "name": "python",
   "nbconvert_exporter": "python",
   "pygments_lexer": "ipython3",
   "version": "3.10.8"
  }
 },
 "nbformat": 4,
 "nbformat_minor": 5
}
