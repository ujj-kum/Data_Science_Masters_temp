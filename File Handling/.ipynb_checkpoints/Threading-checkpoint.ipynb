{
 "cells": [
  {
   "cell_type": "code",
   "execution_count": 1,
   "id": "3f210859-9206-4987-9287-7e973f5a73e5",
   "metadata": {},
   "outputs": [],
   "source": [
    "import threading"
   ]
  },
  {
   "cell_type": "code",
   "execution_count": 2,
   "id": "27795e5b-f130-441c-81c5-077cdecf4591",
   "metadata": {},
   "outputs": [],
   "source": [
    "def test(id):\n",
    "    print(\"This is my test id {}\".format(id))\n",
    "    "
   ]
  },
  {
   "cell_type": "code",
   "execution_count": 3,
   "id": "8f9973de-e8ad-468d-af18-091e3f8d06f0",
   "metadata": {},
   "outputs": [
    {
     "name": "stdout",
     "output_type": "stream",
     "text": [
      "This is my test id 10\n"
     ]
    }
   ],
   "source": [
    "test(10)"
   ]
  },
  {
   "cell_type": "code",
   "execution_count": 4,
   "id": "6e554f77-597b-4617-99bd-f2a679008a93",
   "metadata": {},
   "outputs": [
    {
     "name": "stdout",
     "output_type": "stream",
     "text": [
      "This is my test id 1\n"
     ]
    }
   ],
   "source": [
    "test(1)"
   ]
  },
  {
   "cell_type": "markdown",
   "id": "1de68e7e-1b45-4e2f-b927-387705a5a4a7",
   "metadata": {},
   "source": [
    "### Call all functions simultaneously"
   ]
  },
  {
   "cell_type": "code",
   "execution_count": 6,
   "id": "a5a78c4d-1b68-4cb9-b4cd-2d937751c5c7",
   "metadata": {},
   "outputs": [
    {
     "data": {
      "text/plain": [
       "[<Thread(Thread-8 (test), initial)>,\n",
       " <Thread(Thread-9 (test), initial)>,\n",
       " <Thread(Thread-10 (test), initial)>]"
      ]
     },
     "execution_count": 6,
     "metadata": {},
     "output_type": "execute_result"
    }
   ],
   "source": [
    "thread = [threading.Thread(target=test, args=(i, )) for i in [1, 2, 3]]\n",
    "thread"
   ]
  },
  {
   "cell_type": "code",
   "execution_count": 8,
   "id": "a72df006-191f-47bb-bc12-a4ee1a2e932e",
   "metadata": {},
   "outputs": [
    {
     "name": "stdout",
     "output_type": "stream",
     "text": [
      "This is my test id 1\n",
      "This is my test id 2\n",
      "This is my test id 3\n"
     ]
    }
   ],
   "source": [
    "for t in thread:\n",
    "    t.start()"
   ]
  },
  {
   "cell_type": "markdown",
   "id": "ff1172ee-7b65-4700-9e8f-7281c3e72055",
   "metadata": {},
   "source": [
    "### USE CASE:- Fetch data from links and store in a local file"
   ]
  },
  {
   "cell_type": "code",
   "execution_count": 9,
   "id": "ef302dac-3c3f-4f80-868e-b146bd50f5f6",
   "metadata": {},
   "outputs": [],
   "source": [
    "import urllib.request"
   ]
  },
  {
   "cell_type": "code",
   "execution_count": 10,
   "id": "c2cc5c26-1a07-4230-811f-b96918369a76",
   "metadata": {},
   "outputs": [],
   "source": [
    "def file_download(url, filename):\n",
    "    urllib.request.urlretrieve(url, filename)"
   ]
  },
  {
   "cell_type": "code",
   "execution_count": 11,
   "id": "817d6fb2-de3d-4bc5-a822-0f979202023e",
   "metadata": {},
   "outputs": [],
   "source": [
    "file_download(\"https://raw.githubusercontent.com/itsfoss/text-files/master/agatha.txt\", 'URL1.txt')"
   ]
  },
  {
   "cell_type": "markdown",
   "id": "938c95d4-c509-4265-869e-6ccb3e3fc767",
   "metadata": {},
   "source": [
    "### This process has to be repeated for 'n' times where n is the number of urls. This is not very efficient. We can use threading concept to make it efficient"
   ]
  },
  {
   "cell_type": "code",
   "execution_count": 13,
   "id": "167a6199-d281-468e-b5e7-5d4233b425dc",
   "metadata": {},
   "outputs": [],
   "source": [
    "url_list = [\"https://raw.githubusercontent.com/itsfoss/text-files/master/agatha.txt\",\n",
    "           \"https://raw.githubusercontent.com/itsfoss/text-files/master/sherlock.txt\",\n",
    "           \"https://raw.githubusercontent.com/itsfoss/text-files/master/sample_log_file.txt\"]"
   ]
  },
  {
   "cell_type": "code",
   "execution_count": 14,
   "id": "3ad384a4-af4f-4d8d-9010-71d0d01e2baf",
   "metadata": {},
   "outputs": [],
   "source": [
    "data_file_list = ['data1.txt', \"data2.txt\", 'data3.txt']"
   ]
  },
  {
   "cell_type": "code",
   "execution_count": 18,
   "id": "ac751be3-2a30-4cf0-b2ea-3e290d327c7d",
   "metadata": {},
   "outputs": [],
   "source": [
    "thread = [threading.Thread(target=file_download, args=(url_list[i], data_file_list[i])) for i in range(len(url_list))]"
   ]
  },
  {
   "cell_type": "code",
   "execution_count": 19,
   "id": "e00fe108-dcfb-49ae-b2d3-03539f6c43a9",
   "metadata": {},
   "outputs": [],
   "source": [
    "for t in thread:\n",
    "    t.start()"
   ]
  },
  {
   "cell_type": "markdown",
   "id": "58000d7b-96d2-4536-b08d-951ff82142cc",
   "metadata": {},
   "source": [
    "### USE CASE 2"
   ]
  },
  {
   "cell_type": "code",
   "execution_count": 20,
   "id": "06b8a1ef-138d-4b2b-a9ab-8b79cfc3d527",
   "metadata": {},
   "outputs": [],
   "source": [
    "import time\n",
    "\n",
    "def test(x):\n",
    "    for i in range(10):\n",
    "        print(f\"X = {x}, i = {i}\")\n",
    "        time.sleep(1)"
   ]
  },
  {
   "cell_type": "code",
   "execution_count": 21,
   "id": "ae654f1b-b3ca-4faf-9af2-86cc349a2177",
   "metadata": {},
   "outputs": [
    {
     "name": "stdout",
     "output_type": "stream",
     "text": [
      "X = 10, i = 0\n",
      "X = 10, i = 1\n",
      "X = 10, i = 2\n",
      "X = 10, i = 3\n",
      "X = 10, i = 4\n",
      "X = 10, i = 5\n",
      "X = 10, i = 6\n",
      "X = 10, i = 7\n",
      "X = 10, i = 8\n",
      "X = 10, i = 9\n"
     ]
    }
   ],
   "source": [
    "test(10)"
   ]
  },
  {
   "cell_type": "code",
   "execution_count": 24,
   "id": "e4e96926-5ec5-48dc-9cb3-9f4600856cb4",
   "metadata": {},
   "outputs": [],
   "source": [
    "thread = [threading.Thread(target=test, args=(i, )) for i in [100, 10, 20, 5]]"
   ]
  },
  {
   "cell_type": "markdown",
   "id": "42f4262b-1c62-4ef7-b6dc-538c9b6d8e76",
   "metadata": {},
   "source": [
    "### If we use sleep, then complete execution of the function for 1 input does not take place"
   ]
  },
  {
   "cell_type": "code",
   "execution_count": 27,
   "id": "dbe986b9-34ba-4e35-a72d-ab06f43ba1b3",
   "metadata": {},
   "outputs": [
    {
     "name": "stdout",
     "output_type": "stream",
     "text": [
      "X = 100, i = 0\n",
      "X = 10, i = 0\n",
      "X = 20, i = 0\n",
      "X = 5, i = 0\n",
      "X = 10, i = 1X = 5, i = 1\n",
      "X = 100, i = 1\n",
      "X = 20, i = 1\n",
      "\n",
      "X = 5, i = 2\n",
      "X = 20, i = 2\n",
      "X = 100, i = 2\n",
      "X = 10, i = 2\n",
      "X = 5, i = 3X = 100, i = 3\n",
      "\n",
      "X = 20, i = 3\n",
      "X = 10, i = 3\n",
      "X = 10, i = 4X = 100, i = 4\n",
      "\n",
      "X = 5, i = 4\n",
      "X = 20, i = 4\n",
      "X = 100, i = 5X = 10, i = 5\n",
      "X = 5, i = 5\n",
      "\n",
      "X = 20, i = 5\n",
      "X = 10, i = 6X = 5, i = 6\n",
      "X = 100, i = 6\n",
      "X = 20, i = 6\n",
      "\n",
      "X = 20, i = 7X = 10, i = 7\n",
      "\n",
      "X = 5, i = 7\n",
      "X = 100, i = 7\n",
      "X = 10, i = 8X = 100, i = 8\n",
      "X = 20, i = 8\n",
      "X = 5, i = 8\n",
      "\n",
      "X = 100, i = 9X = 20, i = 9\n",
      "X = 5, i = 9\n",
      "\n",
      "X = 10, i = 9\n"
     ]
    }
   ],
   "source": [
    "for t in thread:\n",
    "    t.start()"
   ]
  },
  {
   "cell_type": "code",
   "execution_count": null,
   "id": "e3c91352-e0d2-4baa-ad14-7ea04878bf3f",
   "metadata": {},
   "outputs": [],
   "source": []
  }
 ],
 "metadata": {
  "kernelspec": {
   "display_name": "Python 3 (ipykernel)",
   "language": "python",
   "name": "python3"
  },
  "language_info": {
   "codemirror_mode": {
    "name": "ipython",
    "version": 3
   },
   "file_extension": ".py",
   "mimetype": "text/x-python",
   "name": "python",
   "nbconvert_exporter": "python",
   "pygments_lexer": "ipython3",
   "version": "3.10.8"
  }
 },
 "nbformat": 4,
 "nbformat_minor": 5
}
