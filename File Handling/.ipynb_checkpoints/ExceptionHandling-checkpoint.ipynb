{
 "cells": [
  {
   "cell_type": "code",
   "execution_count": 1,
   "id": "8bece25d-a893-4182-8553-b86f1046148f",
   "metadata": {},
   "outputs": [
    {
     "ename": "ZeroDivisionError",
     "evalue": "division by zero",
     "output_type": "error",
     "traceback": [
      "\u001b[0;31m---------------------------------------------------------------------------\u001b[0m",
      "\u001b[0;31mZeroDivisionError\u001b[0m                         Traceback (most recent call last)",
      "Cell \u001b[0;32mIn[1], line 2\u001b[0m\n\u001b[1;32m      1\u001b[0m a\u001b[38;5;241m=\u001b[39m\u001b[38;5;241m10\u001b[39m\n\u001b[0;32m----> 2\u001b[0m \u001b[43ma\u001b[49m\u001b[38;5;241;43m/\u001b[39;49m\u001b[38;5;241;43m0\u001b[39;49m\n",
      "\u001b[0;31mZeroDivisionError\u001b[0m: division by zero"
     ]
    }
   ],
   "source": [
    "a=10\n",
    "a/0"
   ]
  },
  {
   "cell_type": "code",
   "execution_count": 8,
   "id": "afbf75c1-64a1-4056-a9d6-977c07a4d52d",
   "metadata": {},
   "outputs": [
    {
     "name": "stdout",
     "output_type": "stream",
     "text": [
      "Normal execution continues!!!\n"
     ]
    }
   ],
   "source": [
    "try:\n",
    "    with open('fileNotPresent.txt', 'a') as f:\n",
    "        f.write(\"My 1st line\")\n",
    "except Exception as e:\n",
    "    print(\"There is issue with code\", e)\n",
    "else:\n",
    "    f.close()\n",
    "\n",
    "print(\"Normal execution continues!!!\")"
   ]
  },
  {
   "cell_type": "code",
   "execution_count": 12,
   "id": "62382063-c025-4199-b366-af8cec26dcfa",
   "metadata": {},
   "outputs": [
    {
     "name": "stdout",
     "output_type": "stream",
     "text": [
      "division by zero\n",
      "It will always execute\n"
     ]
    }
   ],
   "source": [
    "try:\n",
    "    print(10/0)\n",
    "\n",
    "except Exception as e:\n",
    "    print(e)\n",
    "\n",
    "else:\n",
    "    print(\"This shows successful execution of try block without any exceptions\")\n",
    "\n",
    "finally:\n",
    "    print(\"It will always execute\")"
   ]
  },
  {
   "cell_type": "markdown",
   "id": "9860605e-6517-4433-b750-27ae351c0768",
   "metadata": {},
   "source": [
    "# Custom Exception Handling"
   ]
  },
  {
   "cell_type": "code",
   "execution_count": 2,
   "id": "889cc353-04e9-4f46-988f-79372a8dffb7",
   "metadata": {},
   "outputs": [],
   "source": [
    "age = 12"
   ]
  },
  {
   "cell_type": "code",
   "execution_count": 3,
   "id": "ff6401be-c70a-4e63-9328-fef7ab33b998",
   "metadata": {},
   "outputs": [],
   "source": [
    "class validateAge(Exception):\n",
    "    def __init__(self, msg):\n",
    "        self.msg = msg"
   ]
  },
  {
   "cell_type": "code",
   "execution_count": 4,
   "id": "f9ada5ea-4c9a-485f-a865-e49a5455d407",
   "metadata": {},
   "outputs": [],
   "source": [
    "def validate_age(age):\n",
    "    if age<0:\n",
    "        raise validateAge(\"Age Should not be lesser than 0\")\n",
    "    elif age>200:\n",
    "        raise validateAge(\"Age is too high\")\n",
    "    else:\n",
    "        print(age)"
   ]
  },
  {
   "cell_type": "code",
   "execution_count": 11,
   "id": "23088252-2ad0-4857-9d3f-217e55802199",
   "metadata": {},
   "outputs": [
    {
     "name": "stdout",
     "output_type": "stream",
     "text": [
      "Age Should not be lesser than 0\n",
      "Age is too high\n",
      "OK\n"
     ]
    }
   ],
   "source": [
    "try:\n",
    "    validate_age(-10)\n",
    "except validateAge as e:\n",
    "    print(e)\n",
    "try:\n",
    "    validate_age(500)\n",
    "except validateAge as e:\n",
    "    print(e)\n",
    "\n",
    "finally:\n",
    "    print(\"OK\")"
   ]
  },
  {
   "cell_type": "code",
   "execution_count": null,
   "id": "ae6a0362-6d98-4a31-9129-c14fdda5ec99",
   "metadata": {},
   "outputs": [],
   "source": []
  }
 ],
 "metadata": {
  "kernelspec": {
   "display_name": "Python 3 (ipykernel)",
   "language": "python",
   "name": "python3"
  },
  "language_info": {
   "codemirror_mode": {
    "name": "ipython",
    "version": 3
   },
   "file_extension": ".py",
   "mimetype": "text/x-python",
   "name": "python",
   "nbconvert_exporter": "python",
   "pygments_lexer": "ipython3",
   "version": "3.10.8"
  }
 },
 "nbformat": 4,
 "nbformat_minor": 5
}
