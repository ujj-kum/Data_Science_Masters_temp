{
 "cells": [
  {
   "cell_type": "code",
   "execution_count": 1,
   "id": "7f33f368-4874-4781-9f79-7955af75dd14",
   "metadata": {},
   "outputs": [],
   "source": [
    "import multiprocessing"
   ]
  },
  {
   "cell_type": "code",
   "execution_count": 2,
   "id": "a50bf1b8-ae87-49e0-848f-f22d580164e6",
   "metadata": {},
   "outputs": [
    {
     "name": "stdout",
     "output_type": "stream",
     "text": [
      "My main program\n",
      "My MultiProcessing Programme\n"
     ]
    }
   ],
   "source": [
    "def test():\n",
    "    print(\"My MultiProcessing Programme\")\n",
    "    \n",
    "if __name__=='__main__':\n",
    "    m = multiprocessing.Process(target=test)\n",
    "    print(\"My main program\")\n",
    "    m.start()#Start Child Process\n",
    "    m.join()#Wait until child process terminates"
   ]
  },
  {
   "cell_type": "markdown",
   "id": "6b1c804d-bf24-4a97-9add-43aeb83790c2",
   "metadata": {},
   "source": [
    "### Below program creates 5 process and execute them parallely"
   ]
  },
  {
   "cell_type": "code",
   "execution_count": 3,
   "id": "391af458-34b0-4591-932a-4ffd22970284",
   "metadata": {},
   "outputs": [
    {
     "name": "stdout",
     "output_type": "stream",
     "text": [
      "[9, 16, 25, 36, 49, 64, 81, 100]\n"
     ]
    }
   ],
   "source": [
    "def square(n):\n",
    "    return n**2\n",
    "\n",
    "if __name__=='__main__':\n",
    "    with multiprocessing.Pool(processes=5) as pool:\n",
    "        out=pool.map(square, [3,4,5,6,7,8,9,10])\n",
    "        print(out)"
   ]
  },
  {
   "cell_type": "markdown",
   "id": "1e71924c-c250-407a-934e-fdbf7a4ca286",
   "metadata": {},
   "source": [
    "### Below code executes enqueue and dequeue parallely"
   ]
  },
  {
   "cell_type": "code",
   "execution_count": null,
   "id": "d3f185a7-f382-4ac7-976e-142b38ec4c6f",
   "metadata": {},
   "outputs": [
    {
     "name": "stdout",
     "output_type": "stream",
     "text": [
      "Sudh\n",
      "Kumar\n",
      "PWSkills\n",
      "Krish\n",
      "Naik\n",
      "xyz\n"
     ]
    }
   ],
   "source": [
    "import multiprocessing\n",
    "\n",
    "#Performs enqueue\n",
    "def producer(q):\n",
    "    for i in [\"Sudh\", 'Kumar', 'PWSkills', 'Krish', 'Naik']:\n",
    "        q.put(i)\n",
    "\n",
    "#Perfoms dequeue        \n",
    "def consume(q):\n",
    "    while True:\n",
    "        item = q.get()\n",
    "        if not item:\n",
    "            break\n",
    "        print(item)\n",
    "        \n",
    "\n",
    "if __name__=='__main__':\n",
    "    queue = multiprocessing.Queue()\n",
    "    m1 = multiprocessing.Process(target=producer, args=(queue, ))\n",
    "    m2 = multiprocessing.Process(target=consume, args=(queue, ))\n",
    "    m1.start()\n",
    "    m2.start()\n",
    "    queue.put(\"xyz\")\n",
    "    m1.join()\n",
    "    m2.join()"
   ]
  },
  {
   "cell_type": "code",
   "execution_count": null,
   "id": "ff03b767-3b93-4c51-86fb-25368c13379f",
   "metadata": {},
   "outputs": [],
   "source": []
  }
 ],
 "metadata": {
  "kernelspec": {
   "display_name": "Python 3 (ipykernel)",
   "language": "python",
   "name": "python3"
  },
  "language_info": {
   "codemirror_mode": {
    "name": "ipython",
    "version": 3
   },
   "file_extension": ".py",
   "mimetype": "text/x-python",
   "name": "python",
   "nbconvert_exporter": "python",
   "pygments_lexer": "ipython3",
   "version": "3.10.8"
  }
 },
 "nbformat": 4,
 "nbformat_minor": 5
}
