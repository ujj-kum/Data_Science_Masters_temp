{
 "cells": [
  {
   "cell_type": "markdown",
   "id": "adeb613d-ee8e-4384-a1da-4445215fb23a",
   "metadata": {},
   "source": [
    "### Q1. Create a python program to sort the given list of tuples based on integer value using a lambda function."
   ]
  },
  {
   "cell_type": "code",
   "execution_count": 9,
   "id": "3d63b742-0ba6-4ba2-829d-2127c969aec8",
   "metadata": {},
   "outputs": [],
   "source": [
    "arr = [('Sachin Tendulkar', 34357), ('Ricky Ponting', 27483), ('Jack Kallis', 25534), ('Virat Kohli', 24936)]"
   ]
  },
  {
   "cell_type": "code",
   "execution_count": 14,
   "id": "c0851c88-e1ba-4d64-9846-486e2c8d9675",
   "metadata": {},
   "outputs": [],
   "source": [
    "arr.sort(key=lambda x:x[1])"
   ]
  },
  {
   "cell_type": "code",
   "execution_count": 15,
   "id": "962a8f73-7cb6-4923-8347-40c92906f089",
   "metadata": {},
   "outputs": [
    {
     "data": {
      "text/plain": [
       "[('Virat Kohli', 24936),\n",
       " ('Jack Kallis', 25534),\n",
       " ('Ricky Ponting', 27483),\n",
       " ('Sachin Tendulkar', 34357)]"
      ]
     },
     "execution_count": 15,
     "metadata": {},
     "output_type": "execute_result"
    }
   ],
   "source": [
    "arr"
   ]
  },
  {
   "cell_type": "markdown",
   "id": "ac305d15-2ff4-4e6a-b5e1-9ddd14043ae0",
   "metadata": {},
   "source": [
    "### Q2. Write a Python Program to find the squares of all the numbers in the given list of integers using lambda and map functions."
   ]
  },
  {
   "cell_type": "code",
   "execution_count": 17,
   "id": "8d0bef0c-53c7-4ccc-aa79-af38bbbd3e8d",
   "metadata": {},
   "outputs": [
    {
     "data": {
      "text/plain": [
       "[1, 4, 9, 16, 25, 36, 49, 64, 81, 100]"
      ]
     },
     "execution_count": 17,
     "metadata": {},
     "output_type": "execute_result"
    }
   ],
   "source": [
    "arr = [1, 2, 3, 4, 5, 6, 7, 8, 9, 10]\n",
    "list(map(lambda x:x**2, arr))"
   ]
  },
  {
   "cell_type": "markdown",
   "id": "d876132b-f0d2-4014-8a62-092869dd3246",
   "metadata": {},
   "source": [
    "### Q3. Write a python program to convert the given list of integers into a tuple of strings. Use map and lambda functions"
   ]
  },
  {
   "cell_type": "code",
   "execution_count": 18,
   "id": "91b66404-bba7-48b0-aa5a-ef4e2102d3df",
   "metadata": {},
   "outputs": [
    {
     "data": {
      "text/plain": [
       "['1', '2', '3', '4', '5', '6', '7', '8', '9', '10']"
      ]
     },
     "execution_count": 18,
     "metadata": {},
     "output_type": "execute_result"
    }
   ],
   "source": [
    "given_string = [1, 2, 3, 4, 5, 6, 7, 8, 9, 10]\n",
    "output = list(map(lambda x:str(x), given_string))\n",
    "output"
   ]
  },
  {
   "cell_type": "markdown",
   "id": "a317e93b-a47e-483c-9b97-8e0bd1f7bf63",
   "metadata": {},
   "source": [
    "### Q4. Write a python program using reduce function to compute the product of a list containing numbers from 1 to 25."
   ]
  },
  {
   "cell_type": "code",
   "execution_count": 20,
   "id": "a79e0f25-6253-4b04-a02e-006cceb33647",
   "metadata": {},
   "outputs": [],
   "source": [
    "from functools import reduce"
   ]
  },
  {
   "cell_type": "code",
   "execution_count": 24,
   "id": "4306d3e5-3efd-4b59-9c43-40acf763293e",
   "metadata": {},
   "outputs": [
    {
     "data": {
      "text/plain": [
       "15511210043330985984000000"
      ]
     },
     "execution_count": 24,
     "metadata": {},
     "output_type": "execute_result"
    }
   ],
   "source": [
    "arr = [i for i in range(1, 26)]\n",
    "reduce(lambda x,y:x*y, arr)"
   ]
  },
  {
   "cell_type": "markdown",
   "id": "ff084b0c-d516-472a-9626-7cc9289b7e50",
   "metadata": {},
   "source": [
    "### Q5. Write a python program to filter the numbers in a given list that are divisible by 2 and 3 using thefilter function."
   ]
  },
  {
   "cell_type": "code",
   "execution_count": 32,
   "id": "3cfee3f1-34f0-4f5f-ab7a-b94352142372",
   "metadata": {},
   "outputs": [],
   "source": [
    "arr = [2, 3, 6, 9, 27, 60, 90, 120, 55, 46]"
   ]
  },
  {
   "cell_type": "code",
   "execution_count": 33,
   "id": "1283af7d-10f9-4def-a6f0-4cb79323c5f6",
   "metadata": {},
   "outputs": [
    {
     "data": {
      "text/plain": [
       "[6, 60, 90, 120]"
      ]
     },
     "execution_count": 33,
     "metadata": {},
     "output_type": "execute_result"
    }
   ],
   "source": [
    "list(filter(lambda x:x%2==0 and x%3==0, arr))"
   ]
  },
  {
   "cell_type": "markdown",
   "id": "53bda675-8f98-42cb-b23d-ae49c20e6427",
   "metadata": {},
   "source": [
    "### Q6. Write a python program to find palindromes in the given list of strings using lambda and filter function.\n"
   ]
  },
  {
   "cell_type": "code",
   "execution_count": 34,
   "id": "fe747e24-b349-4929-8210-ce8fc1fd329b",
   "metadata": {},
   "outputs": [],
   "source": [
    "arr = ['python', 'php', 'aba', 'radar', 'level']"
   ]
  },
  {
   "cell_type": "code",
   "execution_count": 43,
   "id": "4de01c9d-5423-4646-9cc1-7239195501e4",
   "metadata": {},
   "outputs": [],
   "source": [
    "def pallindrome(x):\n",
    "    low, high = 0, len(x)-1\n",
    "    is_pallindrome = True\n",
    "    while low<=high:\n",
    "        if x[low]==x[high]:\n",
    "            low+=1\n",
    "            high-=1\n",
    "        else:\n",
    "            is_pallindrome = False\n",
    "            break\n",
    "    return is_pallindrome"
   ]
  },
  {
   "cell_type": "code",
   "execution_count": 44,
   "id": "55200f6e-dc46-4ee9-b49c-5b331fc683f9",
   "metadata": {},
   "outputs": [
    {
     "data": {
      "text/plain": [
       "['php', 'aba', 'radar', 'level']"
      ]
     },
     "execution_count": 44,
     "metadata": {},
     "output_type": "execute_result"
    }
   ],
   "source": [
    "list(filter(pallindrome, arr))"
   ]
  },
  {
   "cell_type": "code",
   "execution_count": 45,
   "id": "81a96302-9ccc-4de6-ac29-cc25bca6694a",
   "metadata": {},
   "outputs": [
    {
     "data": {
      "text/plain": [
       "['php', 'aba', 'radar', 'level']"
      ]
     },
     "execution_count": 45,
     "metadata": {},
     "output_type": "execute_result"
    }
   ],
   "source": [
    "list(filter(lambda x:x==\"\".join(reversed(x)), arr))"
   ]
  },
  {
   "cell_type": "code",
   "execution_count": null,
   "id": "222cfd91-820e-44e1-8e94-7a8d673ea14c",
   "metadata": {},
   "outputs": [],
   "source": []
  }
 ],
 "metadata": {
  "kernelspec": {
   "display_name": "Python 3 (ipykernel)",
   "language": "python",
   "name": "python3"
  },
  "language_info": {
   "codemirror_mode": {
    "name": "ipython",
    "version": 3
   },
   "file_extension": ".py",
   "mimetype": "text/x-python",
   "name": "python",
   "nbconvert_exporter": "python",
   "pygments_lexer": "ipython3",
   "version": "3.10.8"
  }
 },
 "nbformat": 4,
 "nbformat_minor": 5
}
