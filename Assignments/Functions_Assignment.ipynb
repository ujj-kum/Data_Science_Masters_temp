{
 "cells": [
  {
   "cell_type": "markdown",
   "id": "6a899a2f-44d6-4639-86f2-a5855a908e79",
   "metadata": {},
   "source": [
    "### Q1. Which keyword is used to create a function? Create a function to return a list of odd numbers in the range of 1 to 25."
   ]
  },
  {
   "cell_type": "code",
   "execution_count": null,
   "id": "bac14da7-4b48-44b1-966b-4f2f1b5aaa91",
   "metadata": {},
   "outputs": [],
   "source": [
    "#def is used to create functions in python\n",
    "def odd_numbers():\n",
    "    res = []\n",
    "    #Here using 26 as upper limit because in Python, upper limit is exclusive\n",
    "    for i in range(1, 26):\n",
    "        if i%2==1:\n",
    "            res.append(i)\n",
    "    return res"
   ]
  },
  {
   "cell_type": "code",
   "execution_count": null,
   "id": "2bbd48ab-8bdc-444a-9d6f-77570aedef92",
   "metadata": {},
   "outputs": [],
   "source": [
    "odd_numbers()"
   ]
  },
  {
   "cell_type": "markdown",
   "id": "19329eee-2239-4987-a7c7-2f530ac5197f",
   "metadata": {},
   "source": [
    "### Q2. Why *args and **kwargs is used in some functions? Create a function each for *args and **kwargs to demonstrate their use."
   ]
  },
  {
   "cell_type": "markdown",
   "id": "5c3d456a-a343-44f6-a3d7-fcee76a66e86",
   "metadata": {},
   "source": [
    "*args is used when the number of parameters accpeted by the function is not fixed.\n",
    "\n",
    "It is used to pass variable number of parameters to a function\n",
    "\n",
    "Let's consider a function which records a Employee arrival time in office for a week. It may be possible that the employee arrives at the office on all 7 days or not even 1 day. In that case we have to use *args"
   ]
  },
  {
   "cell_type": "code",
   "execution_count": null,
   "id": "1bb1e350-e8cf-41ad-a63b-3261afb67cc3",
   "metadata": {},
   "outputs": [],
   "source": [
    "# *args is used when the number of parameters accpeted by the function is not fixed\n",
    "# It is used to pass variable number of parameters to a function\n",
    "\n",
    "def time_of_arrival(*kwargs):\n",
    "    return kwargs"
   ]
  },
  {
   "cell_type": "code",
   "execution_count": null,
   "id": "8d0cf036-62c1-4e18-8ded-082e19169207",
   "metadata": {},
   "outputs": [],
   "source": [
    "time_of_arrival(8,8.3,9)#Employee arrived only 3 days"
   ]
  },
  {
   "cell_type": "code",
   "execution_count": null,
   "id": "79a52098-7fb8-44f7-bbc0-bb9c5912b688",
   "metadata": {},
   "outputs": [],
   "source": [
    "time_of_arrival()#Employee worked from home whole week"
   ]
  },
  {
   "cell_type": "markdown",
   "id": "2eaa5363-4b91-4dee-8e72-aa4f2fb7f2a9",
   "metadata": {},
   "source": [
    "*kwargs is used when the number of parameters accpeted by the function is in key-value pairs\n",
    "\n",
    "It is used to pass multiple number of key value pair parameters to a function\n",
    "\n",
    "Lets consider a function which is taking name of a person as input but many people don't have middle name or last name. So **kwargs will be used in that case."
   ]
  },
  {
   "cell_type": "code",
   "execution_count": null,
   "id": "6e5c6e53-fb49-416b-b19f-f3e4f92bad01",
   "metadata": {},
   "outputs": [],
   "source": [
    "def my_details(**kwargs):\n",
    "    return kwargs"
   ]
  },
  {
   "cell_type": "code",
   "execution_count": null,
   "id": "74d32ed1-1534-4a38-b244-cb77189c3a5b",
   "metadata": {},
   "outputs": [],
   "source": [
    "my_details(first_name=\"Ujjwal\", last_name=\"Kumar\")"
   ]
  },
  {
   "cell_type": "code",
   "execution_count": null,
   "id": "70216d27-9a4a-48be-8c09-db187e57535b",
   "metadata": {},
   "outputs": [],
   "source": [
    "my_details(first_name=\"Reddy\", middle_name=\"Mohan\", last_name=\"Krishna\")"
   ]
  },
  {
   "cell_type": "markdown",
   "id": "684c5ead-5eb5-444e-82ef-5a66d5dca88d",
   "metadata": {},
   "source": [
    "### Q3. What is an iterator in python? Name the method used to initialise the iterator object and the method used for iteration. Use these methods to print the first five elements of the given list [2, 4, 6, 8, 10, 12, 14,16,18, 20]."
   ]
  },
  {
   "cell_type": "markdown",
   "id": "036ac282-febe-4470-8496-7952260d067b",
   "metadata": {},
   "source": [
    "Iterator is an object in python that is used to iterate/traverse over iterable objects(lists/tuples/sets/dictionary/strings)\n",
    "\n",
    "**iter()** function is used to initialise the iterator object\n",
    "\n",
    "**next()** is used for iteration"
   ]
  },
  {
   "cell_type": "code",
   "execution_count": null,
   "id": "c14f40ac-80d5-48ad-9829-321ebe8fd675",
   "metadata": {},
   "outputs": [],
   "source": [
    "a = [1,2,3,4,5]#list is an iterable object\n",
    "iter_obj = iter(a)#converting list to an iterable object\n",
    "for i in range(5):\n",
    "    print(next(iter_obj))"
   ]
  },
  {
   "cell_type": "code",
   "execution_count": null,
   "id": "7d54c2f4-7380-4897-954a-3aadf19d03f9",
   "metadata": {},
   "outputs": [],
   "source": [
    "#After all the elements are exhausted, next() will return an error\n",
    "next(iter_obj)"
   ]
  },
  {
   "cell_type": "code",
   "execution_count": null,
   "id": "5886439e-8872-473c-b8b6-4711de119355",
   "metadata": {},
   "outputs": [],
   "source": [
    "arr = [2, 4, 6, 8, 10, 12, 14,16,18, 20]\n",
    "iter_arr = iter(arr)\n",
    "for i in range(5):\n",
    "    print(next(iter_arr))"
   ]
  },
  {
   "cell_type": "markdown",
   "id": "64af61c7-4d7b-4cca-ba09-c19e979e52dc",
   "metadata": {},
   "source": [
    "### Q4. What is a generator function in python? Why yield keyword is used? Give an example of a generator function."
   ]
  },
  {
   "cell_type": "markdown",
   "id": "242a01f6-e600-442f-87a0-6a81b6bf98f3",
   "metadata": {},
   "source": [
    "Generator is like a normal function in python. However. it produces an iterator usig **yield** keyword. Unlike normal functions, it reduced bottleneck by genenrating the elements of an iterator one by one"
   ]
  },
  {
   "cell_type": "code",
   "execution_count": null,
   "id": "5be7a5e2-600b-4805-b23a-ea1248e26810",
   "metadata": {},
   "outputs": [],
   "source": [
    "def sum_of_n_natural_numbers(n):\n",
    "    res = 0\n",
    "    for i in range(n):\n",
    "        res+=i\n",
    "        print(f\"Sum of 1st {i} numbers = \",end=\" \")\n",
    "        yield res"
   ]
  },
  {
   "cell_type": "code",
   "execution_count": null,
   "id": "639be215-e81c-48eb-9286-fa839dea74eb",
   "metadata": {},
   "outputs": [],
   "source": [
    "for i in sum_of_n_natural_numbers(6):\n",
    "    print(i)"
   ]
  },
  {
   "cell_type": "markdown",
   "id": "dd944095-f55e-4950-bd3e-d580ee6518e5",
   "metadata": {},
   "source": [
    "### Q5. Create a generator function for prime numbers less than 1000. Use the next() method to print the first 20 prime numbers."
   ]
  },
  {
   "cell_type": "code",
   "execution_count": 1,
   "id": "3083f500-cc70-4474-a68c-e737922962ca",
   "metadata": {},
   "outputs": [],
   "source": [
    "def prime_generator():\n",
    "    for i in range(2, 1000):\n",
    "        is_prime = True\n",
    "        for j in range(2, i):\n",
    "            if i%j==0:\n",
    "                is_prime = False\n",
    "                break\n",
    "        if is_prime:\n",
    "            yield i"
   ]
  },
  {
   "cell_type": "code",
   "execution_count": 6,
   "id": "4fc34ee3-0f8f-48b7-ba83-27f03d484577",
   "metadata": {},
   "outputs": [],
   "source": [
    "generator = prime_generator()"
   ]
  },
  {
   "cell_type": "code",
   "execution_count": 7,
   "id": "94e2202f-a769-4ee7-b1f7-72f818988db1",
   "metadata": {},
   "outputs": [
    {
     "name": "stdout",
     "output_type": "stream",
     "text": [
      "2\n",
      "3\n",
      "5\n",
      "7\n",
      "11\n",
      "13\n",
      "17\n",
      "19\n",
      "23\n",
      "29\n",
      "31\n",
      "37\n",
      "41\n",
      "43\n",
      "47\n",
      "53\n",
      "59\n",
      "61\n",
      "67\n",
      "71\n"
     ]
    }
   ],
   "source": [
    "for i in range(20):\n",
    "    print(next(generator))"
   ]
  },
  {
   "cell_type": "code",
   "execution_count": null,
   "id": "be397a4c-16f9-4e0f-9b99-f54af001668e",
   "metadata": {},
   "outputs": [],
   "source": []
  },
  {
   "cell_type": "code",
   "execution_count": null,
   "id": "7956e3af-16d0-4f2a-a5f9-d2896c99f85a",
   "metadata": {},
   "outputs": [],
   "source": []
  }
 ],
 "metadata": {
  "kernelspec": {
   "display_name": "Python 3 (ipykernel)",
   "language": "python",
   "name": "python3"
  },
  "language_info": {
   "codemirror_mode": {
    "name": "ipython",
    "version": 3
   },
   "file_extension": ".py",
   "mimetype": "text/x-python",
   "name": "python",
   "nbconvert_exporter": "python",
   "pygments_lexer": "ipython3",
   "version": "3.10.8"
  }
 },
 "nbformat": 4,
 "nbformat_minor": 5
}
