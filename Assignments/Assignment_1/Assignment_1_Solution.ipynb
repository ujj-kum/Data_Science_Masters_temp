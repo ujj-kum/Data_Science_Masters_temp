{
 "cells": [
  {
   "cell_type": "markdown",
   "id": "d4843f93-b7c7-488f-ab05-8a9fb0cef673",
   "metadata": {},
   "source": [
    "**Q1. Create one variable containing following type of data:**\n",
    "\n",
    "(i) string\n",
    "\n",
    "(ii) list\n",
    "\n",
    "(iii) float\n",
    "\n",
    "(iv) tuple"
   ]
  },
  {
   "cell_type": "code",
   "execution_count": 1,
   "id": "ffe45d74-3d88-4f5f-baae-67dd978e5ae6",
   "metadata": {},
   "outputs": [],
   "source": [
    "str_var = \"ABC\"\n",
    "list_var = [1, \"ABC\", 3.14, True]\n",
    "float_var = 3.14\n",
    "tuple_var = (1, \"ABC\", 3.14, True)"
   ]
  },
  {
   "cell_type": "markdown",
   "id": "76cb4f82-a847-4f74-8c2a-fba461343267",
   "metadata": {},
   "source": [
    "**Q2. Given are some following variables containing data:**\n",
    "\n",
    "(i) var1 = ‘ ‘ **String Type**\n",
    "\n",
    "(ii) var2 = ‘[ DS , ML , Python]’  **String Type**\n",
    "\n",
    "(iii) var3 = [ ‘DS’ , ’ML’ , ‘Python’ ]  **List Type**\n",
    "\n",
    "(iv) var4 = 1.  **Float Type**"
   ]
  },
  {
   "cell_type": "markdown",
   "id": "fbe158a2-47ff-4b00-bb85-c62999cac9e5",
   "metadata": {},
   "source": [
    "**Q3. Explain the use of the following operators using an example:**\n",
    "\n",
    "(i) /\n",
    "\n",
    "(ii) %\n",
    "\n",
    "(iii) //\n",
    "\n",
    "(iv) **\n"
   ]
  },
  {
   "cell_type": "code",
   "execution_count": 2,
   "id": "283d3f1e-abc2-426b-b650-ede4553a581c",
   "metadata": {},
   "outputs": [
    {
     "data": {
      "text/plain": [
       "1.5"
      ]
     },
     "execution_count": 2,
     "metadata": {},
     "output_type": "execute_result"
    }
   ],
   "source": [
    "# / This is the divison operator, calculates the quotient\n",
    "3/2"
   ]
  },
  {
   "cell_type": "code",
   "execution_count": 3,
   "id": "ac404911-bf9b-4808-882d-f2f0895f4666",
   "metadata": {},
   "outputs": [
    {
     "data": {
      "text/plain": [
       "1"
      ]
     },
     "execution_count": 3,
     "metadata": {},
     "output_type": "execute_result"
    }
   ],
   "source": [
    "# % This is the remainded opeartor, calculates the remainder\n",
    "3%2"
   ]
  },
  {
   "cell_type": "code",
   "execution_count": 4,
   "id": "a6cc1cff-a290-4c9e-bf22-1eb09e03053f",
   "metadata": {},
   "outputs": [
    {
     "data": {
      "text/plain": [
       "1"
      ]
     },
     "execution_count": 4,
     "metadata": {},
     "output_type": "execute_result"
    }
   ],
   "source": [
    "# // This is also divison operator. However it returns result only in the integral part\n",
    "3//2"
   ]
  },
  {
   "cell_type": "code",
   "execution_count": 5,
   "id": "e894b5ea-d155-488d-a8ea-435c2bcefd45",
   "metadata": {},
   "outputs": [
    {
     "data": {
      "text/plain": [
       "8"
      ]
     },
     "execution_count": 5,
     "metadata": {},
     "output_type": "execute_result"
    }
   ],
   "source": [
    "# ** This is exponent operator, Calculates the power of one number to another\n",
    "2**3"
   ]
  },
  {
   "cell_type": "markdown",
   "id": "c419c0fb-fd28-42e3-bf26-a9b2b6c1a7f0",
   "metadata": {},
   "source": [
    "**Q4. Create a list of length 10 of your choice containing multiple types of data. Using for loop print the\n",
    "element and its data type.**"
   ]
  },
  {
   "cell_type": "code",
   "execution_count": 6,
   "id": "956291ef-bfa7-4031-8504-fa50794f7851",
   "metadata": {},
   "outputs": [
    {
     "data": {
      "text/plain": [
       "10"
      ]
     },
     "execution_count": 6,
     "metadata": {},
     "output_type": "execute_result"
    }
   ],
   "source": [
    "arr = [1,2,3,True,False,3+2j,'A', \"Hello\",9.45,10]\n",
    "len(arr)"
   ]
  },
  {
   "cell_type": "code",
   "execution_count": 40,
   "id": "b93b2b67-a151-4189-96d7-563981ba23dc",
   "metadata": {},
   "outputs": [
    {
     "name": "stdout",
     "output_type": "stream",
     "text": [
      "1 <class 'int'>\n",
      "2 <class 'int'>\n",
      "3 <class 'int'>\n",
      "True <class 'bool'>\n",
      "False <class 'bool'>\n",
      "(3+2j) <class 'complex'>\n",
      "A <class 'str'>\n",
      "Hello <class 'str'>\n",
      "9.45 <class 'float'>\n",
      "10 <class 'int'>\n"
     ]
    }
   ],
   "source": [
    "for i in arr:\n",
    "    print(i, type(i))"
   ]
  },
  {
   "cell_type": "markdown",
   "id": "feecbc9f-1e88-48f6-a453-7c67dee7be5c",
   "metadata": {},
   "source": [
    "**Q5. Using a while loop, verify if the number A is purely divisible by number B and if so then how many\n",
    "times it can be divisible.**"
   ]
  },
  {
   "cell_type": "code",
   "execution_count": 50,
   "id": "01ee8ccb-05a5-49ea-8dab-016f5731a128",
   "metadata": {},
   "outputs": [
    {
     "name": "stdin",
     "output_type": "stream",
     "text": [
      "Enter 1st Number  10\n",
      "Enter 2nd Number  2\n"
     ]
    },
    {
     "name": "stdout",
     "output_type": "stream",
     "text": [
      "10 is divisible by 2 for 5 times\n"
     ]
    }
   ],
   "source": [
    "a = int(input(\"Enter 1st Number \"))\n",
    "b = int(input(\"Enter 2nd Number \"))\n",
    "if a%b==0:\n",
    "    print(f\"{a} is divisible by {b} for {a//b} times\")"
   ]
  },
  {
   "cell_type": "markdown",
   "id": "d5737b4d-0e46-48ab-ab27-85ad65a77758",
   "metadata": {},
   "source": [
    "**Q6. Create a list containing 25 int type data. Using for loop and if-else condition print if the element is\n",
    "divisible by 3 or not.**"
   ]
  },
  {
   "cell_type": "code",
   "execution_count": 51,
   "id": "2285a68b-1cc6-46f0-aee4-f2aa385ca669",
   "metadata": {},
   "outputs": [
    {
     "name": "stdout",
     "output_type": "stream",
     "text": [
      "0  is divisible by 3\n",
      "Not divisible\n",
      "Not divisible\n",
      "3  is divisible by 3\n",
      "Not divisible\n",
      "Not divisible\n",
      "6  is divisible by 3\n",
      "Not divisible\n",
      "Not divisible\n",
      "9  is divisible by 3\n",
      "Not divisible\n",
      "Not divisible\n",
      "12  is divisible by 3\n",
      "Not divisible\n",
      "Not divisible\n",
      "15  is divisible by 3\n",
      "Not divisible\n",
      "Not divisible\n",
      "18  is divisible by 3\n",
      "Not divisible\n",
      "Not divisible\n",
      "21  is divisible by 3\n",
      "Not divisible\n",
      "Not divisible\n",
      "24  is divisible by 3\n"
     ]
    }
   ],
   "source": [
    "arr = list(range(25))\n",
    "for i in arr:\n",
    "    if i%3==0:\n",
    "        print(f\"{i}  is divisible by 3\")\n",
    "    else:\n",
    "        print(\"Not divisible\")"
   ]
  },
  {
   "cell_type": "markdown",
   "id": "fd2b38f1-d61f-4291-b5bb-907d184385f2",
   "metadata": {},
   "source": [
    "**Q7. What do you understand about mutable and immutable data types? Give examples for both showing\n",
    "this property.**\n",
    "\n",
    "**Answer**\n",
    "\n",
    "1. Mutable : The datatypes which can be changed after assignment are called mutable. Eg-int, list, dictionary\n",
    "2. Immutable : The datatypes which can not be changed after assignment. Eg-string, tuple"
   ]
  },
  {
   "cell_type": "code",
   "execution_count": 54,
   "id": "f4892054-89b5-43dc-af5f-9b71433e22be",
   "metadata": {},
   "outputs": [
    {
     "name": "stdout",
     "output_type": "stream",
     "text": [
      "Before changing =  [1, 2, 3]\n",
      "After changing =  [10, 2, 3]\n"
     ]
    }
   ],
   "source": [
    "#Mutability->Here list items can be changed after assignment\n",
    "a = [1,2,3]\n",
    "print(\"Before changing = \",a)\n",
    "a[0] = 10\n",
    "print(\"After changing = \",a)"
   ]
  },
  {
   "cell_type": "code",
   "execution_count": 55,
   "id": "8d802b8f-62c8-4ce2-9bc4-78fd3e2290b4",
   "metadata": {},
   "outputs": [
    {
     "name": "stdout",
     "output_type": "stream",
     "text": [
      "Before changing =  (1, 2, 3)\n"
     ]
    },
    {
     "ename": "TypeError",
     "evalue": "'tuple' object does not support item assignment",
     "output_type": "error",
     "traceback": [
      "\u001b[0;31m---------------------------------------------------------------------------\u001b[0m",
      "\u001b[0;31mTypeError\u001b[0m                                 Traceback (most recent call last)",
      "Cell \u001b[0;32mIn[55], line 4\u001b[0m\n\u001b[1;32m      2\u001b[0m a \u001b[38;5;241m=\u001b[39m (\u001b[38;5;241m1\u001b[39m,\u001b[38;5;241m2\u001b[39m,\u001b[38;5;241m3\u001b[39m)\n\u001b[1;32m      3\u001b[0m \u001b[38;5;28mprint\u001b[39m(\u001b[38;5;124m\"\u001b[39m\u001b[38;5;124mBefore changing = \u001b[39m\u001b[38;5;124m\"\u001b[39m,a)\n\u001b[0;32m----> 4\u001b[0m \u001b[43ma\u001b[49m\u001b[43m[\u001b[49m\u001b[38;5;241;43m0\u001b[39;49m\u001b[43m]\u001b[49m \u001b[38;5;241m=\u001b[39m \u001b[38;5;241m10\u001b[39m\n\u001b[1;32m      5\u001b[0m \u001b[38;5;28mprint\u001b[39m(\u001b[38;5;124m\"\u001b[39m\u001b[38;5;124mAfter changing = \u001b[39m\u001b[38;5;124m\"\u001b[39m,a)\n",
      "\u001b[0;31mTypeError\u001b[0m: 'tuple' object does not support item assignment"
     ]
    }
   ],
   "source": [
    "#Immutability->Here tuple items can not be changed after assignment. Will throw an error if attempt to change\n",
    "a = (1,2,3)\n",
    "print(\"Before changing = \",a)\n",
    "a[0] = 10\n",
    "print(\"After changing = \",a)"
   ]
  },
  {
   "cell_type": "code",
   "execution_count": null,
   "id": "d5c700cf-67de-4764-929e-ab068fa138af",
   "metadata": {},
   "outputs": [],
   "source": []
  }
 ],
 "metadata": {
  "kernelspec": {
   "display_name": "Python 3 (ipykernel)",
   "language": "python",
   "name": "python3"
  },
  "language_info": {
   "codemirror_mode": {
    "name": "ipython",
    "version": 3
   },
   "file_extension": ".py",
   "mimetype": "text/x-python",
   "name": "python",
   "nbconvert_exporter": "python",
   "pygments_lexer": "ipython3",
   "version": "3.10.8"
  }
 },
 "nbformat": 4,
 "nbformat_minor": 5
}
