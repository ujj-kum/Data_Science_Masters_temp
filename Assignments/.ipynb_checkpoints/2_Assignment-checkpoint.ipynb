{
 "cells": [
  {
   "cell_type": "markdown",
   "id": "d8cf463a-3aff-4661-8c43-777567cac6a9",
   "metadata": {},
   "source": [
    "#### Q1. How do you comment code in Python? What are the different types of comments?**"
   ]
  },
  {
   "cell_type": "markdown",
   "id": "72b338ec-1a39-414a-a775-00eca1227209",
   "metadata": {},
   "source": [
    "There are two ways how to comment code in Python.\n",
    "\n",
    "* Using # for single Line comment\n",
    "\n",
    "* Using '''  '''For MultiLine comments"
   ]
  },
  {
   "cell_type": "code",
   "execution_count": null,
   "id": "dca310b3-289e-42a8-b3a6-3f096a291d87",
   "metadata": {},
   "outputs": [],
   "source": [
    "# This is a single line comment\n",
    "print(\"Not a comment\")"
   ]
  },
  {
   "cell_type": "code",
   "execution_count": null,
   "id": "318d5725-991b-4807-af96-1d594341fe93",
   "metadata": {},
   "outputs": [],
   "source": [
    "'''\n",
    "This\n",
    "is \n",
    "multiline comment\n",
    "'''\n",
    "print(\"Not a comment\")"
   ]
  },
  {
   "cell_type": "markdown",
   "id": "eeac3a58-7bb9-474d-8506-54c7b2dd5d28",
   "metadata": {},
   "source": [
    "#### Q2. What are variables in Python? How do you declare and assign values to variables?**"
   ]
  },
  {
   "cell_type": "markdown",
   "id": "ad6167ee-06ad-4f0c-b85f-e178aa2d1a2d",
   "metadata": {},
   "source": [
    "Variables can be defined as placeholders for data. They are used to store the values and then use it for later use. In python, variables are declared and values are assigned to them using **=** operator."
   ]
  },
  {
   "cell_type": "code",
   "execution_count": null,
   "id": "43ed5855-e742-49e0-9fa6-70b42e3c5923",
   "metadata": {},
   "outputs": [],
   "source": [
    "a = 2\n",
    "#Here a is the variable name and the value 2 is assigned to it."
   ]
  },
  {
   "cell_type": "markdown",
   "id": "0dce9e14-2f55-4a14-ae3a-7a0f755cf502",
   "metadata": {},
   "source": [
    "#### Q3. How do you convert one data type to another in Python?"
   ]
  },
  {
   "cell_type": "markdown",
   "id": "2c6d7781-dfaa-4297-979c-08a562c3c784",
   "metadata": {},
   "source": [
    "In Python, one data type can be converted using another data type using **typecasting**"
   ]
  },
  {
   "cell_type": "code",
   "execution_count": null,
   "id": "49182d0c-a836-4c0a-8370-fdbd325f0a9a",
   "metadata": {},
   "outputs": [],
   "source": [
    "a = \"123\"\n",
    "print(a, type(a))"
   ]
  },
  {
   "cell_type": "code",
   "execution_count": null,
   "id": "7f342d9a-f5b6-476e-8399-7282e259b573",
   "metadata": {},
   "outputs": [],
   "source": [
    "#Changing a's type to Int and float\n",
    "a_int = int(a)\n",
    "a_float = float(a)\n",
    "print(a_int, type(a_int))\n",
    "print(a_float, type(a_float))"
   ]
  },
  {
   "cell_type": "code",
   "execution_count": null,
   "id": "f761bd59-2391-4837-b1f3-84054a5a2706",
   "metadata": {},
   "outputs": [],
   "source": [
    "#However we have to be sure that the string values should be numeric in nature for converting to int or float...\n",
    "#Or else it will throw an error\n",
    "a = \"ABC\"\n",
    "a_int = int(a)\n",
    "#The above statement will lead to an error"
   ]
  },
  {
   "cell_type": "code",
   "execution_count": null,
   "id": "8ecf7a8e-9ae3-4d88-93c0-5a3595ac83d4",
   "metadata": {},
   "outputs": [],
   "source": [
    "a = 123"
   ]
  },
  {
   "cell_type": "code",
   "execution_count": null,
   "id": "30648a60-5bb0-4032-90ba-3db83c91b5fb",
   "metadata": {},
   "outputs": [],
   "source": [
    "#Changing a's type to string and float\n",
    "a_str = str(a)\n",
    "a_float = float(a)\n",
    "print(a_str, type(a_str))\n",
    "print(a_float, type(a_float))"
   ]
  },
  {
   "cell_type": "code",
   "execution_count": null,
   "id": "b16f0e70-e5a0-4f23-ae17-8e46dc07f16b",
   "metadata": {},
   "outputs": [],
   "source": [
    "a = 22/7\n",
    "a"
   ]
  },
  {
   "cell_type": "code",
   "execution_count": null,
   "id": "b4f36e66-96f6-4359-ac1a-ab476de8cbcb",
   "metadata": {},
   "outputs": [],
   "source": [
    "#Changing a's type to string and integer\n",
    "a_str = str(a)\n",
    "a_int = int(a)\n",
    "print(a_str, type(a_str))\n",
    "print(a_int, type(a_int))"
   ]
  },
  {
   "cell_type": "code",
   "execution_count": null,
   "id": "f1cfa2d6-e1e1-47a2-b2e5-ef66ea6cd399",
   "metadata": {},
   "outputs": [],
   "source": [
    "#CHanginf bool variables to other type of variables\n",
    "bool_no = False\n",
    "bool_yes = True\n",
    "print(int(bool_no), int(bool_yes))\n",
    "print(str(bool_no), str(bool_yes))\n",
    "print(float(bool_no), float(bool_yes))\n"
   ]
  },
  {
   "cell_type": "markdown",
   "id": "c5ebfad1-261c-4927-8e0a-880afbad5077",
   "metadata": {},
   "source": [
    "#### Q4. How do you write and execute a Python script from the command line?"
   ]
  },
  {
   "cell_type": "markdown",
   "id": "03497ecf-3a5a-4b36-9b2b-2f63d2cc2d79",
   "metadata": {},
   "source": [
    "First we gave to make sure that we are in the same directory where the python script is present. To verify this we can use the command **pwd**.\n",
    "\n",
    "Then write the following command:\n",
    "\n",
    "**python filename.py**\n",
    "\n",
    "and press enter"
   ]
  },
  {
   "cell_type": "markdown",
   "id": "62be52f4-f195-4e40-a5f5-4bf1be47fb03",
   "metadata": {},
   "source": [
    "#### Q5. Given a list my_list = [1, 2, 3, 4, 5], write the code to slice the list and obtain the sub-list [2, 3]."
   ]
  },
  {
   "cell_type": "code",
   "execution_count": 3,
   "id": "11f16c4b-2689-4a46-8b31-b9c6204e1f13",
   "metadata": {},
   "outputs": [
    {
     "data": {
      "text/plain": [
       "[2, 3]"
      ]
     },
     "execution_count": 3,
     "metadata": {},
     "output_type": "execute_result"
    }
   ],
   "source": [
    "my_list = [1,2,3,4,5]\n",
    "sub_list = my_list[1:3]\n",
    "sub_list"
   ]
  },
  {
   "cell_type": "markdown",
   "id": "4b13e6dd-4433-4820-b995-1338fb6f1a0a",
   "metadata": {},
   "source": [
    "#### Q6. What is a complex number in mathematics, and how is it represented in Python?"
   ]
  },
  {
   "cell_type": "markdown",
   "id": "24c5a246-6ed0-4fb1-a667-25d1afa732b7",
   "metadata": {},
   "source": [
    "Complex numbers are defined as the sum of a real and imaginary numbers where imaginary numbers are $\\sqrt{-k}$ where k>=0. They are represented using **a+ib** where a and b are real numbers and i=$\\sqrt{-1}$"
   ]
  },
  {
   "cell_type": "code",
   "execution_count": 6,
   "id": "2adc1e2b-7245-4cf7-a92c-6486bafa43ab",
   "metadata": {},
   "outputs": [
    {
     "name": "stdout",
     "output_type": "stream",
     "text": [
      "Real part of (1+2j) = 1.0\n",
      "Imaginary part of (1+2j) = 2.0\n"
     ]
    }
   ],
   "source": [
    "#Representation in python\n",
    "complex_num = 1+2j\n",
    "print(\"Real part of {} = {}\".format(complex_num, complex_num.real))\n",
    "print(\"Imaginary part of {} = {}\".format(complex_num, complex_num.imag))"
   ]
  },
  {
   "cell_type": "markdown",
   "id": "cc69a667-6ae3-4289-9ce5-7392b305dead",
   "metadata": {},
   "source": [
    "#### Q7. What is the correct way to declare a variable named age and assign the value 25 to it?"
   ]
  },
  {
   "cell_type": "code",
   "execution_count": 7,
   "id": "ab7b862e-918a-46ea-a299-6c58d98e1131",
   "metadata": {},
   "outputs": [],
   "source": [
    "age = 25"
   ]
  },
  {
   "cell_type": "markdown",
   "id": "64a2a62d-d467-49cb-b347-b5fbd6a9e82d",
   "metadata": {},
   "source": [
    "#### Q8. Declare a variable named price and assign the value 9.99 to it. What data type does this variable belong to?"
   ]
  },
  {
   "cell_type": "code",
   "execution_count": 8,
   "id": "9d598f4e-9b75-4a6b-bfac-3adf6e7d7f14",
   "metadata": {},
   "outputs": [
    {
     "data": {
      "text/plain": [
       "float"
      ]
     },
     "execution_count": 8,
     "metadata": {},
     "output_type": "execute_result"
    }
   ],
   "source": [
    "price = 9.99\n",
    "#This variable belongs to float type\n",
    "type(price)"
   ]
  },
  {
   "cell_type": "markdown",
   "id": "7318b081-bc6c-4c41-8212-210514fe84be",
   "metadata": {},
   "source": [
    "#### Q9. Create a variable named name and assign your full name to it as a string. How would you print the value of this variable?"
   ]
  },
  {
   "cell_type": "code",
   "execution_count": 9,
   "id": "4f6ecdb2-f368-4fda-85f9-0c95cc90399c",
   "metadata": {},
   "outputs": [
    {
     "name": "stdout",
     "output_type": "stream",
     "text": [
      "Ujjwal Kumar\n"
     ]
    }
   ],
   "source": [
    "name = \"Ujjwal Kumar\"\n",
    "print(name)\n",
    "#print function is used to print the variables"
   ]
  },
  {
   "cell_type": "markdown",
   "id": "498f9c4b-93ee-4a79-9920-416ec39a6c91",
   "metadata": {},
   "source": [
    "#### Q10. Given the string \"Hello, World!\", extract the substring \"World\"."
   ]
  },
  {
   "cell_type": "code",
   "execution_count": 10,
   "id": "5999d122-303f-41e2-9eeb-b086b158fa02",
   "metadata": {},
   "outputs": [
    {
     "data": {
      "text/plain": [
       "'World'"
      ]
     },
     "execution_count": 10,
     "metadata": {},
     "output_type": "execute_result"
    }
   ],
   "source": [
    "x = \"Hello World!\"\n",
    "x[6:len(x)-1]"
   ]
  },
  {
   "cell_type": "markdown",
   "id": "a2a71f6b-fcb0-47a0-aacf-c2036e907d8d",
   "metadata": {},
   "source": [
    "#### Q11. Create a variable named \"is_student\" and assign it a boolean value indicating whether you are currently a student or not."
   ]
  },
  {
   "cell_type": "code",
   "execution_count": 11,
   "id": "fff51563-cdd2-4bf7-959a-3bac4ddc02d3",
   "metadata": {},
   "outputs": [],
   "source": [
    "is_student = True"
   ]
  }
 ],
 "metadata": {
  "kernelspec": {
   "display_name": "Python 3 (ipykernel)",
   "language": "python",
   "name": "python3"
  },
  "language_info": {
   "codemirror_mode": {
    "name": "ipython",
    "version": 3
   },
   "file_extension": ".py",
   "mimetype": "text/x-python",
   "name": "python",
   "nbconvert_exporter": "python",
   "pygments_lexer": "ipython3",
   "version": "3.10.8"
  }
 },
 "nbformat": 4,
 "nbformat_minor": 5
}
