{
 "cells": [
  {
   "cell_type": "code",
   "execution_count": 2,
   "id": "39429a9a-9b31-4961-a045-80940d67817c",
   "metadata": {},
   "outputs": [],
   "source": [
    "import numpy as np"
   ]
  },
  {
   "cell_type": "code",
   "execution_count": 19,
   "id": "9de49865-e361-4d52-a2a6-4c7bf99bff9e",
   "metadata": {},
   "outputs": [],
   "source": [
    "arr = [1,2,3,4,5]"
   ]
  },
  {
   "cell_type": "code",
   "execution_count": 14,
   "id": "744fcad1-667a-47e1-a6b9-ece2129b9203",
   "metadata": {},
   "outputs": [
    {
     "data": {
      "text/plain": [
       "tuple"
      ]
     },
     "execution_count": 14,
     "metadata": {},
     "output_type": "execute_result"
    }
   ],
   "source": [
    "type(arr)"
   ]
  },
  {
   "cell_type": "code",
   "execution_count": 15,
   "id": "572b83c0-54b9-4b11-9046-5c1d602f6690",
   "metadata": {},
   "outputs": [],
   "source": [
    "arr = np.array(arr)"
   ]
  },
  {
   "cell_type": "code",
   "execution_count": 17,
   "id": "d9b8acd2-9f18-4bc3-a5a5-ed176e3ee001",
   "metadata": {},
   "outputs": [
    {
     "data": {
      "text/plain": [
       "(numpy.ndarray, array([1, 2, 3, 4, 5]))"
      ]
     },
     "execution_count": 17,
     "metadata": {},
     "output_type": "execute_result"
    }
   ],
   "source": [
    "type(arr), arr"
   ]
  },
  {
   "cell_type": "code",
   "execution_count": 7,
   "id": "d8ce2906-654f-4f00-a4a2-dd613afe52ca",
   "metadata": {},
   "outputs": [
    {
     "data": {
      "text/plain": [
       "numpy.ndarray"
      ]
     },
     "execution_count": 7,
     "metadata": {},
     "output_type": "execute_result"
    }
   ],
   "source": [
    "arr = np.asarray(arr)\n",
    "type(arr)"
   ]
  },
  {
   "cell_type": "code",
   "execution_count": 9,
   "id": "38d3dd2e-c09c-4dfe-bbb7-3ec647c4d74b",
   "metadata": {},
   "outputs": [],
   "source": [
    "array_2d = [[1,2,3], [4,5,6]]"
   ]
  },
  {
   "cell_type": "code",
   "execution_count": 10,
   "id": "24b1b8e2-7cf3-4836-a3d6-982959dd1ec7",
   "metadata": {},
   "outputs": [
    {
     "data": {
      "text/plain": [
       "array([[1, 2, 3],\n",
       "       [4, 5, 6]])"
      ]
     },
     "execution_count": 10,
     "metadata": {},
     "output_type": "execute_result"
    }
   ],
   "source": [
    "array_2d = np.array(array_2d)\n",
    "array_2d"
   ]
  },
  {
   "cell_type": "code",
   "execution_count": 12,
   "id": "dc77acb6-c56e-4fea-8737-5eb4adaa993d",
   "metadata": {},
   "outputs": [
    {
     "data": {
      "text/plain": [
       "1"
      ]
     },
     "execution_count": 12,
     "metadata": {},
     "output_type": "execute_result"
    }
   ],
   "source": [
    "arr.ndim"
   ]
  },
  {
   "cell_type": "code",
   "execution_count": 11,
   "id": "20bb1004-4196-40c3-85dd-3e1ca9c78941",
   "metadata": {},
   "outputs": [
    {
     "data": {
      "text/plain": [
       "2"
      ]
     },
     "execution_count": 11,
     "metadata": {},
     "output_type": "execute_result"
    }
   ],
   "source": [
    "array_2d.ndim"
   ]
  },
  {
   "cell_type": "code",
   "execution_count": 20,
   "id": "c6e83b12-f527-4d65-bd23-a86592ee80ee",
   "metadata": {},
   "outputs": [],
   "source": [
    "arr = [1,2,3,4,5]"
   ]
  },
  {
   "cell_type": "code",
   "execution_count": 21,
   "id": "28ef5aad-5554-4ac3-b8e2-5cf2d1905ae9",
   "metadata": {},
   "outputs": [
    {
     "data": {
      "text/plain": [
       "matrix([[1, 2, 3, 4, 5]])"
      ]
     },
     "execution_count": 21,
     "metadata": {},
     "output_type": "execute_result"
    }
   ],
   "source": [
    "matrix = np.matrix(arr)\n",
    "matrix"
   ]
  },
  {
   "cell_type": "code",
   "execution_count": 22,
   "id": "06761919-fd16-4bd4-99c1-cf2de708a2b6",
   "metadata": {},
   "outputs": [
    {
     "data": {
      "text/plain": [
       "2"
      ]
     },
     "execution_count": 22,
     "metadata": {},
     "output_type": "execute_result"
    }
   ],
   "source": [
    "matrix.ndim"
   ]
  },
  {
   "cell_type": "code",
   "execution_count": 20,
   "id": "7d374e28-7b26-4fea-9628-5d73a3497f89",
   "metadata": {},
   "outputs": [
    {
     "data": {
      "text/plain": [
       "array([1, 2, 3, 4, 5])"
      ]
     },
     "execution_count": 20,
     "metadata": {},
     "output_type": "execute_result"
    }
   ],
   "source": [
    "np.asanyarray(arr)"
   ]
  },
  {
   "cell_type": "markdown",
   "id": "11065c38-dd1f-4886-a991-a99d9e9bc11d",
   "metadata": {},
   "source": [
    "### Shallow Copy\n",
    "\n",
    "* Any changes made in one array will reflect in another array\n",
    "\n",
    "* No new data is created, only a new reference is added to previous data"
   ]
  },
  {
   "cell_type": "code",
   "execution_count": 21,
   "id": "5c4205d6-85ad-4863-b827-5a1a641b3327",
   "metadata": {},
   "outputs": [],
   "source": [
    "a = arr"
   ]
  },
  {
   "cell_type": "code",
   "execution_count": 22,
   "id": "f665dc6d-2d6e-49ae-982b-d8d43a626636",
   "metadata": {},
   "outputs": [
    {
     "data": {
      "text/plain": [
       "([1, 2, 3, 4, 5], [1, 2, 3, 4, 5])"
      ]
     },
     "execution_count": 22,
     "metadata": {},
     "output_type": "execute_result"
    }
   ],
   "source": [
    "a,arr"
   ]
  },
  {
   "cell_type": "code",
   "execution_count": 23,
   "id": "e7591a88-4782-4fab-9c1f-47d160cad9a7",
   "metadata": {},
   "outputs": [
    {
     "data": {
      "text/plain": [
       "True"
      ]
     },
     "execution_count": 23,
     "metadata": {},
     "output_type": "execute_result"
    }
   ],
   "source": [
    "a is arr"
   ]
  },
  {
   "cell_type": "code",
   "execution_count": 30,
   "id": "7d24e897-d910-4149-b449-38ae48e46e84",
   "metadata": {},
   "outputs": [
    {
     "data": {
      "text/plain": [
       "array([100,   2,   3])"
      ]
     },
     "execution_count": 30,
     "metadata": {},
     "output_type": "execute_result"
    }
   ],
   "source": [
    "arr = np.array([1,2,3])\n",
    "b = arr\n",
    "b[0]=100\n",
    "arr"
   ]
  },
  {
   "cell_type": "markdown",
   "id": "7f9c93a2-8d29-417e-95a2-36a716efba90",
   "metadata": {},
   "source": [
    "### Deep Copy"
   ]
  },
  {
   "cell_type": "code",
   "execution_count": 31,
   "id": "11d29ed3-980f-4396-be2e-ac8267e7cf4b",
   "metadata": {},
   "outputs": [],
   "source": [
    "arr = np.array([1,2,3])\n",
    "b = np.copy(arr)"
   ]
  },
  {
   "cell_type": "code",
   "execution_count": 32,
   "id": "e6604f95-14f3-4c98-89ab-7719d021938a",
   "metadata": {},
   "outputs": [
    {
     "data": {
      "text/plain": [
       "False"
      ]
     },
     "execution_count": 32,
     "metadata": {},
     "output_type": "execute_result"
    }
   ],
   "source": [
    "b is arr"
   ]
  },
  {
   "cell_type": "code",
   "execution_count": 33,
   "id": "dc3d3fbe-1f8a-4b77-b8b3-2f76c1231cbf",
   "metadata": {},
   "outputs": [
    {
     "data": {
      "text/plain": [
       "(array([1, 2, 3]), array([100,   2,   3]))"
      ]
     },
     "execution_count": 33,
     "metadata": {},
     "output_type": "execute_result"
    }
   ],
   "source": [
    "b[0] = 100\n",
    "arr, b"
   ]
  },
  {
   "cell_type": "markdown",
   "id": "959d2844-20f4-49a8-a204-be2e2d97a24b",
   "metadata": {},
   "source": [
    "### Other Functions"
   ]
  },
  {
   "cell_type": "code",
   "execution_count": 25,
   "id": "72b893aa-9181-4473-95a7-d7f9886b9577",
   "metadata": {},
   "outputs": [
    {
     "data": {
      "text/plain": [
       "array([0., 1., 4.])"
      ]
     },
     "execution_count": 25,
     "metadata": {},
     "output_type": "execute_result"
    }
   ],
   "source": [
    "np.fromfunction(lambda x:x**2, (3,))"
   ]
  },
  {
   "cell_type": "code",
   "execution_count": 29,
   "id": "8b2e2f1f-8c41-454f-b4e3-0d94fe33ed62",
   "metadata": {},
   "outputs": [
    {
     "data": {
      "text/plain": [
       "array([[0., 0., 0.],\n",
       "       [1., 1., 1.],\n",
       "       [4., 4., 4.]])"
      ]
     },
     "execution_count": 29,
     "metadata": {},
     "output_type": "execute_result"
    }
   ],
   "source": [
    "np.fromfunction(lambda x,y:x**2, (3,3))"
   ]
  },
  {
   "cell_type": "code",
   "execution_count": 42,
   "id": "7ea80e71-a6b1-4554-909b-2da8f049beb4",
   "metadata": {},
   "outputs": [
    {
     "data": {
      "text/plain": [
       "[0, 1, 4, 9, 16]"
      ]
     },
     "execution_count": 42,
     "metadata": {},
     "output_type": "execute_result"
    }
   ],
   "source": [
    "[i*i for i in range(5)]"
   ]
  },
  {
   "cell_type": "code",
   "execution_count": 30,
   "id": "2f819852-9fdc-4293-86ae-7f8fc0df23f1",
   "metadata": {},
   "outputs": [],
   "source": [
    "iterable  = (i*i for i in range(5))"
   ]
  },
  {
   "cell_type": "code",
   "execution_count": 31,
   "id": "305e182d-4319-42f5-8e6c-7a51d6ea4819",
   "metadata": {},
   "outputs": [
    {
     "data": {
      "text/plain": [
       "array([ 0,  1,  4,  9, 16])"
      ]
     },
     "execution_count": 31,
     "metadata": {},
     "output_type": "execute_result"
    }
   ],
   "source": [
    "np.fromiter(iterable, int)"
   ]
  },
  {
   "cell_type": "code",
   "execution_count": 47,
   "id": "9c365ac5-125f-4e0d-a0eb-11b093f6fad1",
   "metadata": {},
   "outputs": [
    {
     "data": {
      "text/plain": [
       "array([ 0.,  1.,  4.,  9., 16.])"
      ]
     },
     "execution_count": 47,
     "metadata": {},
     "output_type": "execute_result"
    }
   ],
   "source": [
    "np.fromiter(iterable, float)"
   ]
  },
  {
   "cell_type": "code",
   "execution_count": 32,
   "id": "c4015bbe-f611-4146-8d1a-8cf17d70f21d",
   "metadata": {},
   "outputs": [
    {
     "data": {
      "text/plain": [
       "array([23, 45, 56])"
      ]
     },
     "execution_count": 32,
     "metadata": {},
     "output_type": "execute_result"
    }
   ],
   "source": [
    "np.fromstring('23 45 56', sep=\" \",dtype=int)"
   ]
  },
  {
   "cell_type": "code",
   "execution_count": 55,
   "id": "93934111-8f83-44fb-a823-fdad44e47618",
   "metadata": {},
   "outputs": [
    {
     "data": {
      "text/plain": [
       "array([23., 45., 56.])"
      ]
     },
     "execution_count": 55,
     "metadata": {},
     "output_type": "execute_result"
    }
   ],
   "source": [
    "np.fromstring(\"23,45,56\", sep=\",\")"
   ]
  },
  {
   "cell_type": "code",
   "execution_count": 33,
   "id": "9c7c3c82-5ec3-4ef5-827a-3f940214a3bb",
   "metadata": {},
   "outputs": [],
   "source": [
    "arr = [[1,2.3,3], [4,5,6]]"
   ]
  },
  {
   "cell_type": "code",
   "execution_count": 34,
   "id": "1bf9c969-13a7-4a54-b4df-58661e46cea7",
   "metadata": {},
   "outputs": [
    {
     "data": {
      "text/plain": [
       "array([[1, 2, 3],\n",
       "       [4, 5, 6]])"
      ]
     },
     "execution_count": 34,
     "metadata": {},
     "output_type": "execute_result"
    }
   ],
   "source": [
    "arr = np.array(arr,dtype=int)\n",
    "arr"
   ]
  },
  {
   "cell_type": "code",
   "execution_count": 35,
   "id": "826f72d6-c466-4bb9-9378-2331e0ee73d4",
   "metadata": {},
   "outputs": [
    {
     "data": {
      "text/plain": [
       "6"
      ]
     },
     "execution_count": 35,
     "metadata": {},
     "output_type": "execute_result"
    }
   ],
   "source": [
    "arr.size"
   ]
  },
  {
   "cell_type": "code",
   "execution_count": 36,
   "id": "aa6a2909-7627-40bf-8f76-e18568ae10cc",
   "metadata": {},
   "outputs": [
    {
     "data": {
      "text/plain": [
       "(2, 3)"
      ]
     },
     "execution_count": 36,
     "metadata": {},
     "output_type": "execute_result"
    }
   ],
   "source": [
    "arr.shape"
   ]
  },
  {
   "cell_type": "markdown",
   "id": "e17730e2-f5fc-4f04-960a-3ee2829f6368",
   "metadata": {},
   "source": [
    "### Data Generation Functions"
   ]
  },
  {
   "cell_type": "code",
   "execution_count": 1,
   "id": "22eb5735-b7f8-4370-a5a3-38e55cd84984",
   "metadata": {},
   "outputs": [],
   "source": [
    "import numpy as np"
   ]
  },
  {
   "cell_type": "code",
   "execution_count": 4,
   "id": "d022a699-26f3-4b94-8a60-a10d8bc97e21",
   "metadata": {},
   "outputs": [
    {
     "data": {
      "text/plain": [
       "array([1.345, 2.345, 3.345, 4.345, 5.345, 6.345, 7.345, 8.345, 9.345])"
      ]
     },
     "execution_count": 4,
     "metadata": {},
     "output_type": "execute_result"
    }
   ],
   "source": [
    "np.arange(1.345, 10.23)"
   ]
  },
  {
   "cell_type": "code",
   "execution_count": 77,
   "id": "86ec24cf-292b-4bbd-9cd1-06765e2362c5",
   "metadata": {},
   "outputs": [
    {
     "data": {
      "text/plain": [
       "array([ 1.,  2.,  3.,  4.,  5.,  6.,  7.,  8.,  9., 10.])"
      ]
     },
     "execution_count": 77,
     "metadata": {},
     "output_type": "execute_result"
    }
   ],
   "source": [
    "np.linspace(1, 10, num=10)"
   ]
  },
  {
   "cell_type": "code",
   "execution_count": 79,
   "id": "e2a4de0b-9a33-4c58-ae6f-630712db3dfd",
   "metadata": {},
   "outputs": [
    {
     "data": {
      "text/plain": [
       "array([1.e+01, 1.e+02, 1.e+03, 1.e+04, 1.e+05, 1.e+06, 1.e+07, 1.e+08,\n",
       "       1.e+09, 1.e+10])"
      ]
     },
     "execution_count": 79,
     "metadata": {},
     "output_type": "execute_result"
    }
   ],
   "source": [
    "np.logspace(1, 10, num=10)"
   ]
  },
  {
   "cell_type": "code",
   "execution_count": 80,
   "id": "68e2b568-755b-45b8-9c40-0775337a5b08",
   "metadata": {},
   "outputs": [
    {
     "data": {
      "text/plain": [
       "array([0., 0., 0., 0., 0.])"
      ]
     },
     "execution_count": 80,
     "metadata": {},
     "output_type": "execute_result"
    }
   ],
   "source": [
    "np.zeros(5)"
   ]
  },
  {
   "cell_type": "code",
   "execution_count": 82,
   "id": "4666c77e-04e3-44d7-9c81-200935b0ff42",
   "metadata": {},
   "outputs": [
    {
     "data": {
      "text/plain": [
       "array([[0., 0., 0., 0.],\n",
       "       [0., 0., 0., 0.],\n",
       "       [0., 0., 0., 0.]])"
      ]
     },
     "execution_count": 82,
     "metadata": {},
     "output_type": "execute_result"
    }
   ],
   "source": [
    "np.zeros((3,4))"
   ]
  },
  {
   "cell_type": "code",
   "execution_count": 5,
   "id": "10b55cde-8a06-4a8d-a749-bc6f8d18fb6a",
   "metadata": {},
   "outputs": [
    {
     "data": {
      "text/plain": [
       "array([[[0., 0.],\n",
       "        [0., 0.],\n",
       "        [0., 0.],\n",
       "        [0., 0.]],\n",
       "\n",
       "       [[0., 0.],\n",
       "        [0., 0.],\n",
       "        [0., 0.],\n",
       "        [0., 0.]],\n",
       "\n",
       "       [[0., 0.],\n",
       "        [0., 0.],\n",
       "        [0., 0.],\n",
       "        [0., 0.]]])"
      ]
     },
     "execution_count": 5,
     "metadata": {},
     "output_type": "execute_result"
    }
   ],
   "source": [
    "np.zeros((3,4,2))"
   ]
  },
  {
   "cell_type": "code",
   "execution_count": 83,
   "id": "80dccf80-374c-4a08-a655-76246a963be9",
   "metadata": {},
   "outputs": [
    {
     "data": {
      "text/plain": [
       "array([1., 1., 1., 1., 1.])"
      ]
     },
     "execution_count": 83,
     "metadata": {},
     "output_type": "execute_result"
    }
   ],
   "source": [
    "np.ones((5))"
   ]
  },
  {
   "cell_type": "code",
   "execution_count": 86,
   "id": "1c368b9d-5017-4337-bd4c-40dd3afe63be",
   "metadata": {},
   "outputs": [
    {
     "data": {
      "text/plain": [
       "array([[1., 1., 1., 1.],\n",
       "       [1., 1., 1., 1.],\n",
       "       [1., 1., 1., 1.]])"
      ]
     },
     "execution_count": 86,
     "metadata": {},
     "output_type": "execute_result"
    }
   ],
   "source": [
    "arr = np.ones((3,4))\n",
    "arr"
   ]
  },
  {
   "cell_type": "code",
   "execution_count": 87,
   "id": "46fa537c-8e05-4970-ad31-8fb2e57722e7",
   "metadata": {},
   "outputs": [
    {
     "data": {
      "text/plain": [
       "array([[6., 6., 6., 6.],\n",
       "       [6., 6., 6., 6.],\n",
       "       [6., 6., 6., 6.]])"
      ]
     },
     "execution_count": 87,
     "metadata": {},
     "output_type": "execute_result"
    }
   ],
   "source": [
    "arr+5"
   ]
  },
  {
   "cell_type": "code",
   "execution_count": 89,
   "id": "bb332b13-70ed-47f8-8fc3-5a05c7770d95",
   "metadata": {},
   "outputs": [
    {
     "data": {
      "text/plain": [
       "array([23., 45., 56.])"
      ]
     },
     "execution_count": 89,
     "metadata": {},
     "output_type": "execute_result"
    }
   ],
   "source": [
    "np.empty(3)"
   ]
  },
  {
   "cell_type": "code",
   "execution_count": 92,
   "id": "fdb71ae8-b220-4d9a-aa72-907c6c34a31d",
   "metadata": {},
   "outputs": [
    {
     "data": {
      "text/plain": [
       "array([[6., 6., 6., 6.],\n",
       "       [6., 6., 6., 6.],\n",
       "       [6., 6., 6., 6.]])"
      ]
     },
     "execution_count": 92,
     "metadata": {},
     "output_type": "execute_result"
    }
   ],
   "source": [
    "np.empty((3,4))"
   ]
  },
  {
   "cell_type": "code",
   "execution_count": 96,
   "id": "539a9d65-d5de-4c5a-8d0b-f1ea396412d1",
   "metadata": {},
   "outputs": [
    {
     "data": {
      "text/plain": [
       "array([[1., 0., 0., 0., 0.],\n",
       "       [0., 1., 0., 0., 0.],\n",
       "       [0., 0., 1., 0., 0.],\n",
       "       [0., 0., 0., 1., 0.],\n",
       "       [0., 0., 0., 0., 1.]])"
      ]
     },
     "execution_count": 96,
     "metadata": {},
     "output_type": "execute_result"
    }
   ],
   "source": [
    "np.eye(5)"
   ]
  },
  {
   "cell_type": "code",
   "execution_count": 97,
   "id": "77babd58-6c48-47d6-b58e-17da2218ac6c",
   "metadata": {},
   "outputs": [],
   "source": [
    "import pandas as pd"
   ]
  },
  {
   "cell_type": "code",
   "execution_count": 98,
   "id": "b9b50711-b6af-4937-9008-2f210fa63d31",
   "metadata": {},
   "outputs": [
    {
     "data": {
      "text/html": [
       "<div>\n",
       "<style scoped>\n",
       "    .dataframe tbody tr th:only-of-type {\n",
       "        vertical-align: middle;\n",
       "    }\n",
       "\n",
       "    .dataframe tbody tr th {\n",
       "        vertical-align: top;\n",
       "    }\n",
       "\n",
       "    .dataframe thead th {\n",
       "        text-align: right;\n",
       "    }\n",
       "</style>\n",
       "<table border=\"1\" class=\"dataframe\">\n",
       "  <thead>\n",
       "    <tr style=\"text-align: right;\">\n",
       "      <th></th>\n",
       "      <th>0</th>\n",
       "      <th>1</th>\n",
       "      <th>2</th>\n",
       "      <th>3</th>\n",
       "      <th>4</th>\n",
       "    </tr>\n",
       "  </thead>\n",
       "  <tbody>\n",
       "    <tr>\n",
       "      <th>0</th>\n",
       "      <td>1.0</td>\n",
       "      <td>0.0</td>\n",
       "      <td>0.0</td>\n",
       "      <td>0.0</td>\n",
       "      <td>0.0</td>\n",
       "    </tr>\n",
       "    <tr>\n",
       "      <th>1</th>\n",
       "      <td>0.0</td>\n",
       "      <td>1.0</td>\n",
       "      <td>0.0</td>\n",
       "      <td>0.0</td>\n",
       "      <td>0.0</td>\n",
       "    </tr>\n",
       "    <tr>\n",
       "      <th>2</th>\n",
       "      <td>0.0</td>\n",
       "      <td>0.0</td>\n",
       "      <td>1.0</td>\n",
       "      <td>0.0</td>\n",
       "      <td>0.0</td>\n",
       "    </tr>\n",
       "    <tr>\n",
       "      <th>3</th>\n",
       "      <td>0.0</td>\n",
       "      <td>0.0</td>\n",
       "      <td>0.0</td>\n",
       "      <td>1.0</td>\n",
       "      <td>0.0</td>\n",
       "    </tr>\n",
       "    <tr>\n",
       "      <th>4</th>\n",
       "      <td>0.0</td>\n",
       "      <td>0.0</td>\n",
       "      <td>0.0</td>\n",
       "      <td>0.0</td>\n",
       "      <td>1.0</td>\n",
       "    </tr>\n",
       "  </tbody>\n",
       "</table>\n",
       "</div>"
      ],
      "text/plain": [
       "     0    1    2    3    4\n",
       "0  1.0  0.0  0.0  0.0  0.0\n",
       "1  0.0  1.0  0.0  0.0  0.0\n",
       "2  0.0  0.0  1.0  0.0  0.0\n",
       "3  0.0  0.0  0.0  1.0  0.0\n",
       "4  0.0  0.0  0.0  0.0  1.0"
      ]
     },
     "execution_count": 98,
     "metadata": {},
     "output_type": "execute_result"
    }
   ],
   "source": [
    "pd.DataFrame(np.eye(5))"
   ]
  },
  {
   "cell_type": "code",
   "execution_count": 100,
   "id": "740859bd-2f26-4c60-b750-44d5a8797d9d",
   "metadata": {},
   "outputs": [
    {
     "data": {
      "text/plain": [
       "array([[0.6400152 , 0.47630269, 0.49481222],\n",
       "       [0.96714326, 0.70804283, 0.5769953 ]])"
      ]
     },
     "execution_count": 100,
     "metadata": {},
     "output_type": "execute_result"
    }
   ],
   "source": [
    "np.random.rand(2,3)"
   ]
  },
  {
   "cell_type": "code",
   "execution_count": 101,
   "id": "23c22071-14e0-4793-9dbc-4cc1001e0f6e",
   "metadata": {},
   "outputs": [
    {
     "data": {
      "text/plain": [
       "array([[ 0.42283923, -1.81409429, -0.7644616 ],\n",
       "       [ 0.29276966,  1.26646626,  0.51749311]])"
      ]
     },
     "execution_count": 101,
     "metadata": {},
     "output_type": "execute_result"
    }
   ],
   "source": [
    "np.random.randn(2,3)"
   ]
  },
  {
   "cell_type": "code",
   "execution_count": 8,
   "id": "a519b33e-26b1-4f41-bcd9-2d879d2a8047",
   "metadata": {},
   "outputs": [],
   "source": [
    "arr2 = np.random.randint(low=2,high=10, size=(3,4))"
   ]
  },
  {
   "cell_type": "code",
   "execution_count": 9,
   "id": "451a1734-ef25-41a7-9239-af07056bacdf",
   "metadata": {},
   "outputs": [
    {
     "data": {
      "text/plain": [
       "12"
      ]
     },
     "execution_count": 9,
     "metadata": {},
     "output_type": "execute_result"
    }
   ],
   "source": [
    "arr2.size"
   ]
  },
  {
   "cell_type": "code",
   "execution_count": 10,
   "id": "5448fd79-6e35-436c-8f87-83c7774293d9",
   "metadata": {},
   "outputs": [
    {
     "data": {
      "text/plain": [
       "array([[3, 2, 3, 4],\n",
       "       [6, 4, 6, 8],\n",
       "       [7, 3, 2, 4]])"
      ]
     },
     "execution_count": 10,
     "metadata": {},
     "output_type": "execute_result"
    }
   ],
   "source": [
    "arr2"
   ]
  },
  {
   "cell_type": "code",
   "execution_count": 14,
   "id": "a9bb5a9c-b057-45bc-a2a1-6929b0a3139b",
   "metadata": {},
   "outputs": [
    {
     "data": {
      "text/plain": [
       "array([[4, 6],\n",
       "       [3, 2]])"
      ]
     },
     "execution_count": 14,
     "metadata": {},
     "output_type": "execute_result"
    }
   ],
   "source": [
    "arr2[1:,1:3]"
   ]
  },
  {
   "cell_type": "code",
   "execution_count": 108,
   "id": "1a261e35-27c1-4a08-a894-67b9869f648e",
   "metadata": {},
   "outputs": [
    {
     "data": {
      "text/plain": [
       "(3, 4)"
      ]
     },
     "execution_count": 108,
     "metadata": {},
     "output_type": "execute_result"
    }
   ],
   "source": [
    "arr2.shape"
   ]
  },
  {
   "cell_type": "code",
   "execution_count": 113,
   "id": "1a3066f5-206e-4503-8520-2d186d9a0086",
   "metadata": {},
   "outputs": [
    {
     "data": {
      "text/plain": [
       "array([[5, 3, 8],\n",
       "       [4, 4, 4],\n",
       "       [4, 5, 5],\n",
       "       [9, 8, 5]])"
      ]
     },
     "execution_count": 113,
     "metadata": {},
     "output_type": "execute_result"
    }
   ],
   "source": [
    "arr2.reshape(4, -1)"
   ]
  },
  {
   "cell_type": "code",
   "execution_count": 18,
   "id": "e61acf5e-df39-4b02-941b-9f049cd32878",
   "metadata": {},
   "outputs": [
    {
     "data": {
      "text/plain": [
       "array([[5, 9, 9, 4, 9],\n",
       "       [8, 5, 5, 6, 2],\n",
       "       [5, 5, 1, 8, 8],\n",
       "       [2, 9, 1, 8, 1],\n",
       "       [6, 6, 6, 6, 1]])"
      ]
     },
     "execution_count": 18,
     "metadata": {},
     "output_type": "execute_result"
    }
   ],
   "source": [
    "arr1 = np.random.randint(1,10,(5,5))\n",
    "arr1"
   ]
  },
  {
   "cell_type": "code",
   "execution_count": 19,
   "id": "7352db82-44dd-495c-82a7-ee94295fdfd5",
   "metadata": {},
   "outputs": [
    {
     "data": {
      "text/plain": [
       "array([[6, 1, 8, 8, 4],\n",
       "       [8, 3, 5, 2, 9],\n",
       "       [6, 1, 2, 3, 5],\n",
       "       [9, 1, 4, 5, 4],\n",
       "       [4, 3, 3, 5, 9]])"
      ]
     },
     "execution_count": 19,
     "metadata": {},
     "output_type": "execute_result"
    }
   ],
   "source": [
    "arr2 = np.random.randint(1,10,(5,5))\n",
    "arr2"
   ]
  },
  {
   "cell_type": "code",
   "execution_count": 20,
   "id": "8a51f228-a907-4f43-9868-fcd450995dcd",
   "metadata": {},
   "outputs": [
    {
     "data": {
      "text/plain": [
       "array([[11, 10, 17, 12, 13],\n",
       "       [16,  8, 10,  8, 11],\n",
       "       [11,  6,  3, 11, 13],\n",
       "       [11, 10,  5, 13,  5],\n",
       "       [10,  9,  9, 11, 10]])"
      ]
     },
     "execution_count": 20,
     "metadata": {},
     "output_type": "execute_result"
    }
   ],
   "source": [
    "arr1+arr2"
   ]
  },
  {
   "cell_type": "code",
   "execution_count": 124,
   "id": "9f51928e-71a4-46fc-922e-a534359f7225",
   "metadata": {},
   "outputs": [
    {
     "data": {
      "text/plain": [
       "array([[ 4, 54, 20,  9, 10,  4],\n",
       "       [36, 40,  9, 56,  9, 27],\n",
       "       [ 4, 27,  4,  6, 16,  8],\n",
       "       [24, 56,  8, 45, 32, 28],\n",
       "       [ 3, 21, 18, 16,  8, 63]])"
      ]
     },
     "execution_count": 124,
     "metadata": {},
     "output_type": "execute_result"
    }
   ],
   "source": [
    "arr1*arr2"
   ]
  },
  {
   "cell_type": "markdown",
   "id": "b12862be-60ac-4d0d-b9b7-2e3ee454a5c6",
   "metadata": {},
   "source": [
    "### Matrix Multiplication"
   ]
  },
  {
   "cell_type": "code",
   "execution_count": 132,
   "id": "cca0e0f8-9c0e-44f3-a57e-1cd64dd84732",
   "metadata": {},
   "outputs": [
    {
     "data": {
      "text/plain": [
       "array([[124, 165, 213,  97, 211],\n",
       "       [ 91, 118, 163,  81, 173],\n",
       "       [ 91, 153, 150,  95, 163],\n",
       "       [131, 178, 245,  97, 237],\n",
       "       [119, 160, 179,  78, 160]])"
      ]
     },
     "execution_count": 132,
     "metadata": {},
     "output_type": "execute_result"
    }
   ],
   "source": [
    "arr1@arr2"
   ]
  },
  {
   "cell_type": "code",
   "execution_count": 129,
   "id": "da7c9f6b-9189-4012-b960-780ece11ccf0",
   "metadata": {},
   "outputs": [
    {
     "data": {
      "text/plain": [
       "((5, 6), (5, 6))"
      ]
     },
     "execution_count": 129,
     "metadata": {},
     "output_type": "execute_result"
    }
   ],
   "source": [
    "arr1.shape, arr2.shape"
   ]
  },
  {
   "cell_type": "code",
   "execution_count": 133,
   "id": "4ae42342-9517-4e2a-af7d-4849d1a1b641",
   "metadata": {},
   "outputs": [
    {
     "data": {
      "text/plain": [
       "array([[124, 165, 213,  97, 211],\n",
       "       [ 91, 118, 163,  81, 173],\n",
       "       [ 91, 153, 150,  95, 163],\n",
       "       [131, 178, 245,  97, 237],\n",
       "       [119, 160, 179,  78, 160]])"
      ]
     },
     "execution_count": 133,
     "metadata": {},
     "output_type": "execute_result"
    }
   ],
   "source": [
    "np.matmul(arr1, arr2)"
   ]
  },
  {
   "cell_type": "code",
   "execution_count": 134,
   "id": "209d1779-f6fb-4d65-8b7b-6244b8e9c71f",
   "metadata": {},
   "outputs": [
    {
     "name": "stderr",
     "output_type": "stream",
     "text": [
      "/tmp/ipykernel_124/1510032488.py:1: RuntimeWarning: divide by zero encountered in divide\n",
      "  arr1/0\n"
     ]
    },
    {
     "data": {
      "text/plain": [
       "array([[inf, inf, inf, inf, inf],\n",
       "       [inf, inf, inf, inf, inf],\n",
       "       [inf, inf, inf, inf, inf],\n",
       "       [inf, inf, inf, inf, inf],\n",
       "       [inf, inf, inf, inf, inf]])"
      ]
     },
     "execution_count": 134,
     "metadata": {},
     "output_type": "execute_result"
    }
   ],
   "source": [
    "arr1/0"
   ]
  },
  {
   "cell_type": "markdown",
   "id": "6a4d3e36-ab3e-466c-a96a-8f7de403254a",
   "metadata": {},
   "source": [
    "### Broadcasting\n"
   ]
  },
  {
   "cell_type": "code",
   "execution_count": 135,
   "id": "a4c0f4a4-7537-4135-a29c-8bc4dd719d11",
   "metadata": {},
   "outputs": [
    {
     "data": {
      "text/plain": [
       "array([[0., 0., 0., 0.],\n",
       "       [0., 0., 0., 0.],\n",
       "       [0., 0., 0., 0.]])"
      ]
     },
     "execution_count": 135,
     "metadata": {},
     "output_type": "execute_result"
    }
   ],
   "source": [
    "arr = np.zeros((3,4))\n",
    "arr"
   ]
  },
  {
   "cell_type": "code",
   "execution_count": 136,
   "id": "e307a830-c5af-4855-a66c-2b933115a191",
   "metadata": {},
   "outputs": [
    {
     "data": {
      "text/plain": [
       "array([[5., 5., 5., 5.],\n",
       "       [5., 5., 5., 5.],\n",
       "       [5., 5., 5., 5.]])"
      ]
     },
     "execution_count": 136,
     "metadata": {},
     "output_type": "execute_result"
    }
   ],
   "source": [
    "arr+5#5 is broadcasted to all elements"
   ]
  },
  {
   "cell_type": "code",
   "execution_count": 137,
   "id": "96d0dbfe-e06d-405e-ac7c-14ad0ad77f1a",
   "metadata": {},
   "outputs": [
    {
     "data": {
      "text/plain": [
       "array([[0.77815125, 0.77815125, 0.90308999, 0.95424251, 0.69897   ],\n",
       "       [0.47712125, 0.69897   , 0.95424251, 0.84509804, 0.47712125],\n",
       "       [0.30103   , 0.69897   , 0.69897   , 0.84509804, 0.95424251],\n",
       "       [0.84509804, 0.95424251, 0.84509804, 0.95424251, 0.69897   ],\n",
       "       [0.90308999, 0.47712125, 0.47712125, 0.90308999, 0.77815125]])"
      ]
     },
     "execution_count": 137,
     "metadata": {},
     "output_type": "execute_result"
    }
   ],
   "source": [
    "np.log10(arr1)"
   ]
  },
  {
   "cell_type": "code",
   "execution_count": 138,
   "id": "39c7be51-41eb-4104-a66c-79ba804dda51",
   "metadata": {},
   "outputs": [
    {
     "data": {
      "text/plain": [
       "2"
      ]
     },
     "execution_count": 138,
     "metadata": {},
     "output_type": "execute_result"
    }
   ],
   "source": [
    "np.min(arr1)"
   ]
  },
  {
   "cell_type": "code",
   "execution_count": 139,
   "id": "d4067d97-b1e5-47a6-8026-441f88042d8e",
   "metadata": {},
   "outputs": [
    {
     "data": {
      "text/plain": [
       "9"
      ]
     },
     "execution_count": 139,
     "metadata": {},
     "output_type": "execute_result"
    }
   ],
   "source": [
    "np.max(arr1)"
   ]
  },
  {
   "cell_type": "code",
   "execution_count": 3,
   "id": "f1d65348-c598-47c1-92dd-224c3c05f63a",
   "metadata": {},
   "outputs": [
    {
     "data": {
      "text/plain": [
       "array([[9, 8, 2, 7],\n",
       "       [6, 7, 2, 3],\n",
       "       [6, 3, 4, 7],\n",
       "       [6, 8, 9, 4]])"
      ]
     },
     "execution_count": 3,
     "metadata": {},
     "output_type": "execute_result"
    }
   ],
   "source": [
    "arr = np.random.randint(1, 10, (4,4))\n",
    "arr"
   ]
  },
  {
   "cell_type": "code",
   "execution_count": 4,
   "id": "cd0450cd-02fc-4c11-80be-2558b0b36475",
   "metadata": {},
   "outputs": [
    {
     "data": {
      "text/plain": [
       "array([[9, 8],\n",
       "       [2, 7],\n",
       "       [6, 7],\n",
       "       [2, 3],\n",
       "       [6, 3],\n",
       "       [4, 7],\n",
       "       [6, 8],\n",
       "       [9, 4]])"
      ]
     },
     "execution_count": 4,
     "metadata": {},
     "output_type": "execute_result"
    }
   ],
   "source": [
    "arr.reshape(8,2)"
   ]
  },
  {
   "cell_type": "code",
   "execution_count": 5,
   "id": "68ec78fb-82f9-4f66-81a9-aa3a8f038209",
   "metadata": {},
   "outputs": [
    {
     "data": {
      "text/plain": [
       "array([[9, 6, 6, 6],\n",
       "       [8, 7, 3, 8],\n",
       "       [2, 2, 4, 9],\n",
       "       [7, 3, 7, 4]])"
      ]
     },
     "execution_count": 5,
     "metadata": {},
     "output_type": "execute_result"
    }
   ],
   "source": [
    "arr.T"
   ]
  },
  {
   "cell_type": "code",
   "execution_count": 1,
   "id": "0f9361f6-52af-402b-aa65-a5a13b7abeef",
   "metadata": {},
   "outputs": [],
   "source": [
    "import numpy as np"
   ]
  },
  {
   "cell_type": "code",
   "execution_count": 2,
   "id": "15f5960a-fc41-4537-b98f-f00bc0a05396",
   "metadata": {},
   "outputs": [
    {
     "data": {
      "text/plain": [
       "array([[6, 4, 5, 2],\n",
       "       [8, 9, 4, 3],\n",
       "       [7, 9, 6, 6],\n",
       "       [9, 6, 1, 3]])"
      ]
     },
     "execution_count": 2,
     "metadata": {},
     "output_type": "execute_result"
    }
   ],
   "source": [
    "arr = np.random.randint(1,10,(4,4))\n",
    "arr"
   ]
  },
  {
   "cell_type": "code",
   "execution_count": 3,
   "id": "1f0940de-b605-410f-8194-093d52a3232f",
   "metadata": {},
   "outputs": [
    {
     "data": {
      "text/plain": [
       "array([[6, 8, 7, 9],\n",
       "       [4, 9, 9, 6],\n",
       "       [5, 4, 6, 1],\n",
       "       [2, 3, 6, 3]])"
      ]
     },
     "execution_count": 3,
     "metadata": {},
     "output_type": "execute_result"
    }
   ],
   "source": [
    "arr.T"
   ]
  },
  {
   "cell_type": "code",
   "execution_count": 13,
   "id": "a4cbd84a-9b0d-4e9e-b3c6-7e7cf6409d22",
   "metadata": {},
   "outputs": [
    {
     "data": {
      "text/plain": [
       "array([6, 4, 5, 2, 8, 9, 4, 3, 7, 9, 6, 6, 9, 6, 1, 3])"
      ]
     },
     "execution_count": 13,
     "metadata": {},
     "output_type": "execute_result"
    }
   ],
   "source": [
    "arr.flatten(order=\"C\")"
   ]
  },
  {
   "cell_type": "code",
   "execution_count": 5,
   "id": "9b35bb13-40a2-44df-ab56-118016a00327",
   "metadata": {},
   "outputs": [
    {
     "data": {
      "text/plain": [
       "(4, 1, 4)"
      ]
     },
     "execution_count": 5,
     "metadata": {},
     "output_type": "execute_result"
    }
   ],
   "source": [
    "np.expand_dims(arr, axis=1).shape"
   ]
  },
  {
   "cell_type": "code",
   "execution_count": 6,
   "id": "203b111a-fbdc-4cb9-9a80-5394341fc8b3",
   "metadata": {},
   "outputs": [
    {
     "data": {
      "text/plain": [
       "(1, 4, 4)"
      ]
     },
     "execution_count": 6,
     "metadata": {},
     "output_type": "execute_result"
    }
   ],
   "source": [
    "np.expand_dims(arr, axis=0).shape"
   ]
  },
  {
   "cell_type": "code",
   "execution_count": 7,
   "id": "62074354-1b35-4c41-96b6-0ac442d172ac",
   "metadata": {},
   "outputs": [
    {
     "data": {
      "text/plain": [
       "(4, 4)"
      ]
     },
     "execution_count": 7,
     "metadata": {},
     "output_type": "execute_result"
    }
   ],
   "source": [
    "np.squeeze(arr).shape"
   ]
  },
  {
   "cell_type": "code",
   "execution_count": 46,
   "id": "91ba9751-0034-4838-9925-4d2f2d5b7118",
   "metadata": {},
   "outputs": [
    {
     "data": {
      "text/plain": [
       "array([[1, 2, 3],\n",
       "       [3, 4, 5],\n",
       "       [5, 6, 7]])"
      ]
     },
     "execution_count": 46,
     "metadata": {},
     "output_type": "execute_result"
    }
   ],
   "source": [
    "data = np.array([[1,2,3],[3,4,5],[5,6,7]])\n",
    "data"
   ]
  },
  {
   "cell_type": "code",
   "execution_count": 47,
   "id": "9111bb6f-a646-47fc-8569-85bf5545c468",
   "metadata": {},
   "outputs": [
    {
     "data": {
      "text/plain": [
       "(3, 3)"
      ]
     },
     "execution_count": 47,
     "metadata": {},
     "output_type": "execute_result"
    }
   ],
   "source": [
    "data.shape"
   ]
  },
  {
   "cell_type": "code",
   "execution_count": 48,
   "id": "293087af-9b0a-4540-80c0-3911eaa58e03",
   "metadata": {},
   "outputs": [
    {
     "data": {
      "text/plain": [
       "(3, 3)"
      ]
     },
     "execution_count": 48,
     "metadata": {},
     "output_type": "execute_result"
    }
   ],
   "source": [
    "np.squeeze(data).shape"
   ]
  },
  {
   "cell_type": "code",
   "execution_count": 49,
   "id": "446519aa-fe9f-4b1c-8f29-c2c072797999",
   "metadata": {},
   "outputs": [
    {
     "data": {
      "text/plain": [
       "array([1, 1, 2, 2, 3, 3, 3, 3, 4, 4, 5, 5, 5, 5, 6, 6, 7, 7])"
      ]
     },
     "execution_count": 49,
     "metadata": {},
     "output_type": "execute_result"
    }
   ],
   "source": [
    "np.repeat(data,2)"
   ]
  },
  {
   "cell_type": "code",
   "execution_count": 57,
   "id": "fe160f49-1a19-48a5-a1eb-85bfc607f962",
   "metadata": {},
   "outputs": [
    {
     "data": {
      "text/plain": [
       "array([[2, 3, 1],\n",
       "       [4, 5, 3],\n",
       "       [6, 7, 5]])"
      ]
     },
     "execution_count": 57,
     "metadata": {},
     "output_type": "execute_result"
    }
   ],
   "source": [
    "np.roll(data,2,axis=1)"
   ]
  },
  {
   "cell_type": "code",
   "execution_count": 35,
   "id": "b92a9f75-d6db-4733-bc2b-55016dae9626",
   "metadata": {},
   "outputs": [
    {
     "data": {
      "text/plain": [
       "array([[1, 0, 0, 0, 0],\n",
       "       [0, 2, 0, 0, 0],\n",
       "       [0, 0, 3, 0, 0],\n",
       "       [0, 0, 0, 4, 0],\n",
       "       [0, 0, 0, 0, 5]])"
      ]
     },
     "execution_count": 35,
     "metadata": {},
     "output_type": "execute_result"
    }
   ],
   "source": [
    "np.diag(np.array([1,2,3,4,5]))"
   ]
  },
  {
   "cell_type": "code",
   "execution_count": 58,
   "id": "c30cc714-f762-451d-9215-2812b900163b",
   "metadata": {},
   "outputs": [],
   "source": [
    "arr1 = np.random.randint(1,10,(3,4))\n",
    "arr2 = np.random.randint(1,10,(3,4))"
   ]
  },
  {
   "cell_type": "code",
   "execution_count": 59,
   "id": "6bd12549-9105-4dd8-9f5a-207fb4a68552",
   "metadata": {},
   "outputs": [
    {
     "data": {
      "text/plain": [
       "(array([[5, 3, 3, 6],\n",
       "        [7, 4, 6, 2],\n",
       "        [2, 5, 1, 6]]),\n",
       " array([[4, 4, 9, 7],\n",
       "        [6, 8, 4, 8],\n",
       "        [1, 3, 9, 1]]))"
      ]
     },
     "execution_count": 59,
     "metadata": {},
     "output_type": "execute_result"
    }
   ],
   "source": [
    "arr1,arr2"
   ]
  },
  {
   "cell_type": "code",
   "execution_count": 61,
   "id": "ed0d3055-e1a7-491a-87f7-5d9bf9506cd3",
   "metadata": {},
   "outputs": [
    {
     "ename": "ValueError",
     "evalue": "matmul: Input operand 1 has a mismatch in its core dimension 0, with gufunc signature (n?,k),(k,m?)->(n?,m?) (size 3 is different from 4)",
     "output_type": "error",
     "traceback": [
      "\u001b[0;31m---------------------------------------------------------------------------\u001b[0m",
      "\u001b[0;31mValueError\u001b[0m                                Traceback (most recent call last)",
      "Cell \u001b[0;32mIn[61], line 1\u001b[0m\n\u001b[0;32m----> 1\u001b[0m \u001b[43mnp\u001b[49m\u001b[38;5;241;43m.\u001b[39;49m\u001b[43mmatmul\u001b[49m\u001b[43m(\u001b[49m\u001b[43marr1\u001b[49m\u001b[43m,\u001b[49m\u001b[43marr2\u001b[49m\u001b[43m)\u001b[49m\n",
      "\u001b[0;31mValueError\u001b[0m: matmul: Input operand 1 has a mismatch in its core dimension 0, with gufunc signature (n?,k),(k,m?)->(n?,m?) (size 3 is different from 4)"
     ]
    }
   ],
   "source": [
    "np.matmul(arr1,arr2)"
   ]
  },
  {
   "cell_type": "code",
   "execution_count": 62,
   "id": "3efa3c2f-218b-4eac-92e4-86262b5e1d1b",
   "metadata": {},
   "outputs": [
    {
     "data": {
      "text/plain": [
       "array([[ True, False, False, False],\n",
       "       [ True, False,  True, False],\n",
       "       [ True,  True, False,  True]])"
      ]
     },
     "execution_count": 62,
     "metadata": {},
     "output_type": "execute_result"
    }
   ],
   "source": [
    "arr1>arr2"
   ]
  },
  {
   "cell_type": "code",
   "execution_count": 63,
   "id": "352b245e-2df2-4ac7-8c66-2b795216af09",
   "metadata": {},
   "outputs": [
    {
     "data": {
      "text/plain": [
       "array([5, 7, 6, 2, 5, 6])"
      ]
     },
     "execution_count": 63,
     "metadata": {},
     "output_type": "execute_result"
    }
   ],
   "source": [
    "arr1[arr1>arr2]"
   ]
  },
  {
   "cell_type": "markdown",
   "id": "35ff8e0b-906a-40f9-9936-9a235756ce2c",
   "metadata": {},
   "source": [
    "### Numpy String Functions"
   ]
  },
  {
   "cell_type": "code",
   "execution_count": 70,
   "id": "90361bdd-e1d7-4640-b3f6-b4390e9b5a06",
   "metadata": {},
   "outputs": [],
   "source": [
    "arr = np.array([\"Ujjwal\", \"Kumar\", 1, 12.2, True])"
   ]
  },
  {
   "cell_type": "code",
   "execution_count": 71,
   "id": "a046e85a-26fb-456d-bb74-a6c9969a3a2f",
   "metadata": {},
   "outputs": [
    {
     "data": {
      "text/plain": [
       "array(['Ujjwal', 'Kumar', '1', '12.2', 'True'], dtype='<U32')"
      ]
     },
     "execution_count": 71,
     "metadata": {},
     "output_type": "execute_result"
    }
   ],
   "source": [
    "arr"
   ]
  },
  {
   "cell_type": "code",
   "execution_count": 72,
   "id": "8874cbbb-f105-4a92-a438-174af13558ee",
   "metadata": {},
   "outputs": [
    {
     "data": {
      "text/plain": [
       "array(['UJJWAL', 'KUMAR', '1', '12.2', 'TRUE'], dtype='<U32')"
      ]
     },
     "execution_count": 72,
     "metadata": {},
     "output_type": "execute_result"
    }
   ],
   "source": [
    "np.char.upper(arr)"
   ]
  },
  {
   "cell_type": "code",
   "execution_count": 73,
   "id": "c304a669-17a3-405d-b249-0df6363441b5",
   "metadata": {},
   "outputs": [
    {
     "data": {
      "text/plain": [
       "array(['Ujjwal', 'Kumar', '1', '12.2', 'True'], dtype='<U32')"
      ]
     },
     "execution_count": 73,
     "metadata": {},
     "output_type": "execute_result"
    }
   ],
   "source": [
    "np.char.title(arr)"
   ]
  },
  {
   "cell_type": "markdown",
   "id": "d2238621-41f7-4eef-b124-ea1dcc5ffda3",
   "metadata": {},
   "source": [
    "### Numpy String Functions"
   ]
  },
  {
   "cell_type": "code",
   "execution_count": 74,
   "id": "1c53b970-cb65-441d-a814-61a87d8429ba",
   "metadata": {},
   "outputs": [
    {
     "data": {
      "text/plain": [
       "array([[5, 3, 3, 6],\n",
       "       [7, 4, 6, 2],\n",
       "       [2, 5, 1, 6]])"
      ]
     },
     "execution_count": 74,
     "metadata": {},
     "output_type": "execute_result"
    }
   ],
   "source": [
    "arr1"
   ]
  },
  {
   "cell_type": "code",
   "execution_count": 75,
   "id": "d1eef787-3270-4e67-847c-337e02795c22",
   "metadata": {},
   "outputs": [
    {
     "data": {
      "text/plain": [
       "array([[-0.95892427,  0.14112001,  0.14112001, -0.2794155 ],\n",
       "       [ 0.6569866 , -0.7568025 , -0.2794155 ,  0.90929743],\n",
       "       [ 0.90929743, -0.95892427,  0.84147098, -0.2794155 ]])"
      ]
     },
     "execution_count": 75,
     "metadata": {},
     "output_type": "execute_result"
    }
   ],
   "source": [
    "np.sin(arr1)"
   ]
  },
  {
   "cell_type": "code",
   "execution_count": 76,
   "id": "055f44e1-b3ce-4bda-a256-4be234d7efcf",
   "metadata": {},
   "outputs": [
    {
     "data": {
      "text/plain": [
       "array([[-3.38051501, -0.14254654, -0.14254654, -0.29100619],\n",
       "       [ 0.87144798,  1.15782128, -0.29100619, -2.18503986],\n",
       "       [-2.18503986, -3.38051501,  1.55740772, -0.29100619]])"
      ]
     },
     "execution_count": 76,
     "metadata": {},
     "output_type": "execute_result"
    }
   ],
   "source": [
    "np.tan(arr1)"
   ]
  },
  {
   "cell_type": "code",
   "execution_count": 77,
   "id": "616e618f-8cd3-41e6-8a8c-1b3699fba4b5",
   "metadata": {},
   "outputs": [
    {
     "data": {
      "text/plain": [
       "array([[25,  9,  9, 36],\n",
       "       [49, 16, 36,  4],\n",
       "       [ 4, 25,  1, 36]])"
      ]
     },
     "execution_count": 77,
     "metadata": {},
     "output_type": "execute_result"
    }
   ],
   "source": [
    "np.power(arr1,2)"
   ]
  },
  {
   "cell_type": "code",
   "execution_count": 81,
   "id": "8e74f51a-a342-4017-901a-95eab330e094",
   "metadata": {},
   "outputs": [
    {
     "data": {
      "text/plain": [
       "array([4.66666667, 4.        , 3.33333333, 4.66666667])"
      ]
     },
     "execution_count": 81,
     "metadata": {},
     "output_type": "execute_result"
    }
   ],
   "source": [
    "np.mean(arr1,axis=0)"
   ]
  },
  {
   "cell_type": "code",
   "execution_count": 84,
   "id": "9f997e40-88ce-4769-a6cd-ee1a56d6140c",
   "metadata": {},
   "outputs": [
    {
     "data": {
      "text/plain": [
       "array([3, 2, 1])"
      ]
     },
     "execution_count": 84,
     "metadata": {},
     "output_type": "execute_result"
    }
   ],
   "source": [
    "np.min(arr1,axis=1)"
   ]
  },
  {
   "cell_type": "markdown",
   "id": "b720471e-eee2-435d-8861-a87ae95dd237",
   "metadata": {},
   "source": [
    "### Sort, Search and Counting Function"
   ]
  },
  {
   "cell_type": "code",
   "execution_count": 85,
   "id": "df7328a6-a33b-4466-9d66-7723607a3b3d",
   "metadata": {},
   "outputs": [],
   "source": [
    "arr = np.array([4,2,8,5,3,9,12,56])"
   ]
  },
  {
   "cell_type": "code",
   "execution_count": 86,
   "id": "33163bf3-c70b-429a-8ef1-d4e554dcbc65",
   "metadata": {},
   "outputs": [
    {
     "data": {
      "text/plain": [
       "array([ 2,  3,  4,  5,  8,  9, 12, 56])"
      ]
     },
     "execution_count": 86,
     "metadata": {},
     "output_type": "execute_result"
    }
   ],
   "source": [
    "np.sort(arr)"
   ]
  },
  {
   "cell_type": "code",
   "execution_count": 89,
   "id": "11284c3c-9a01-4a90-b43a-9462b92bf105",
   "metadata": {},
   "outputs": [
    {
     "data": {
      "text/plain": [
       "0"
      ]
     },
     "execution_count": 89,
     "metadata": {},
     "output_type": "execute_result"
    }
   ],
   "source": [
    "np.searchsorted(arr,-6)"
   ]
  },
  {
   "cell_type": "code",
   "execution_count": 91,
   "id": "88089335-466e-48c4-af23-d660d0471b80",
   "metadata": {},
   "outputs": [
    {
     "data": {
      "text/plain": [
       "array([False, False,  True,  True, False,  True,  True,  True])"
      ]
     },
     "execution_count": 91,
     "metadata": {},
     "output_type": "execute_result"
    }
   ],
   "source": [
    "np.where(arr>4, True, False)"
   ]
  },
  {
   "cell_type": "code",
   "execution_count": 93,
   "id": "6e8957aa-2ff5-40e8-ae37-65bfc5b34092",
   "metadata": {},
   "outputs": [
    {
     "data": {
      "text/plain": [
       "array([ 4,  8,  5,  3,  9, 12, 56])"
      ]
     },
     "execution_count": 93,
     "metadata": {},
     "output_type": "execute_result"
    }
   ],
   "source": [
    "np.extract(arr>2,arr)"
   ]
  },
  {
   "cell_type": "code",
   "execution_count": 94,
   "id": "128ecb67-ddc4-4790-bad4-0b6c840ac9e9",
   "metadata": {},
   "outputs": [],
   "source": [
    "b = arr.view()#Shallow Copy"
   ]
  },
  {
   "cell_type": "code",
   "execution_count": 95,
   "id": "7f40ad5c-5102-4407-af8f-4b8558d5f9e1",
   "metadata": {},
   "outputs": [
    {
     "data": {
      "text/plain": [
       "array([ 4,  2,  8,  5,  3,  9, 12, 56])"
      ]
     },
     "execution_count": 95,
     "metadata": {},
     "output_type": "execute_result"
    }
   ],
   "source": [
    "b"
   ]
  },
  {
   "cell_type": "code",
   "execution_count": 96,
   "id": "b0ed9560-fc7f-4b42-80a8-afd7fbc5e9c4",
   "metadata": {},
   "outputs": [
    {
     "data": {
      "text/plain": [
       "array([ 2,  2,  8,  5,  3,  9, 12, 56])"
      ]
     },
     "execution_count": 96,
     "metadata": {},
     "output_type": "execute_result"
    }
   ],
   "source": [
    "b[0]=2\n",
    "arr"
   ]
  },
  {
   "cell_type": "code",
   "execution_count": 97,
   "id": "8971bee9-701e-4b92-94ce-d4d49d95d422",
   "metadata": {},
   "outputs": [],
   "source": [
    "arr1 = np.random.randint(1,5,(3,2))\n",
    "arr2 = np.random.randint(1,5,(2,3))"
   ]
  },
  {
   "cell_type": "code",
   "execution_count": 98,
   "id": "ef62d3b1-0644-41b2-9bcf-d1017bf386c4",
   "metadata": {},
   "outputs": [
    {
     "data": {
      "text/plain": [
       "(array([[4, 2],\n",
       "        [2, 3],\n",
       "        [2, 1]]),\n",
       " array([[2, 4, 3],\n",
       "        [2, 4, 3]]))"
      ]
     },
     "execution_count": 98,
     "metadata": {},
     "output_type": "execute_result"
    }
   ],
   "source": [
    "arr1,arr2"
   ]
  },
  {
   "cell_type": "code",
   "execution_count": 99,
   "id": "d4bebc45-8a77-465f-95d2-2d6df8bcfe7e",
   "metadata": {},
   "outputs": [
    {
     "data": {
      "text/plain": [
       "array([[12, 24, 18],\n",
       "       [10, 20, 15],\n",
       "       [ 6, 12,  9]])"
      ]
     },
     "execution_count": 99,
     "metadata": {},
     "output_type": "execute_result"
    }
   ],
   "source": [
    "np.dot(arr1,arr2)"
   ]
  },
  {
   "cell_type": "code",
   "execution_count": 100,
   "id": "28ce5cfe-f32d-422c-9f9f-1669f9e276ef",
   "metadata": {},
   "outputs": [
    {
     "data": {
      "text/plain": [
       "array([[12, 24, 18],\n",
       "       [10, 20, 15],\n",
       "       [ 6, 12,  9]])"
      ]
     },
     "execution_count": 100,
     "metadata": {},
     "output_type": "execute_result"
    }
   ],
   "source": [
    "arr1@arr2"
   ]
  },
  {
   "cell_type": "code",
   "execution_count": null,
   "id": "4789e891-375d-4ec9-b9e1-3cde4f78896c",
   "metadata": {},
   "outputs": [],
   "source": []
  }
 ],
 "metadata": {
  "kernelspec": {
   "display_name": "Python 3 (ipykernel)",
   "language": "python",
   "name": "python3"
  },
  "language_info": {
   "codemirror_mode": {
    "name": "ipython",
    "version": 3
   },
   "file_extension": ".py",
   "mimetype": "text/x-python",
   "name": "python",
   "nbconvert_exporter": "python",
   "pygments_lexer": "ipython3",
   "version": "3.10.8"
  }
 },
 "nbformat": 4,
 "nbformat_minor": 5
}
